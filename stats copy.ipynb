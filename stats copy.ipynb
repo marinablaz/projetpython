{
 "cells": [
  {
   "cell_type": "markdown",
   "id": "6c55186d-d73f-4aca-8c39-addb880a4f08",
   "metadata": {},
   "source": [
    "# Projet Python pour le data scientist : Prévision des prix des Airbnb\n",
    "#### Réalisé par M.Blazevic, E.Bordais, C.Nadler, C.Voisin"
   ]
  },
  {
   "cell_type": "markdown",
   "id": "992a7682-62b1-4d74-b79e-32526280c369",
   "metadata": {
    "jp-MarkdownHeadingCollapsed": true,
    "tags": []
   },
   "source": [
    "## 0. Import modules et base de données"
   ]
  },
  {
   "cell_type": "code",
   "execution_count": 133,
   "id": "4f3f78ce-fc50-42f4-8ecb-436880b95186",
   "metadata": {},
   "outputs": [],
   "source": [
    "import pandas as pd\n",
    "import numpy as np\n",
    "import seaborn as sns \n",
    "import matplotlib.pyplot as plt\n",
    "from string import ascii_letters\n",
    "import itertools\n",
    "import collections\n",
    "import nltk \n",
    "from nltk.corpus import stopwords\n",
    "import warnings\n"
   ]
  },
  {
   "cell_type": "code",
   "execution_count": 2,
   "id": "d7495292-69f8-4444-89c3-f2d0a1e9b5dd",
   "metadata": {},
   "outputs": [
    {
     "data": {
      "text/html": [
       "<div>\n",
       "<style scoped>\n",
       "    .dataframe tbody tr th:only-of-type {\n",
       "        vertical-align: middle;\n",
       "    }\n",
       "\n",
       "    .dataframe tbody tr th {\n",
       "        vertical-align: top;\n",
       "    }\n",
       "\n",
       "    .dataframe thead th {\n",
       "        text-align: right;\n",
       "    }\n",
       "</style>\n",
       "<table border=\"1\" class=\"dataframe\">\n",
       "  <thead>\n",
       "    <tr style=\"text-align: right;\">\n",
       "      <th></th>\n",
       "      <th>ID</th>\n",
       "      <th>Listing Url</th>\n",
       "      <th>Scrape ID</th>\n",
       "      <th>Last Scraped</th>\n",
       "      <th>Name</th>\n",
       "      <th>Summary</th>\n",
       "      <th>Space</th>\n",
       "      <th>Description</th>\n",
       "      <th>Experiences Offered</th>\n",
       "      <th>Neighborhood Overview</th>\n",
       "      <th>...</th>\n",
       "      <th>Review Scores Communication</th>\n",
       "      <th>Review Scores Location</th>\n",
       "      <th>Review Scores Value</th>\n",
       "      <th>License</th>\n",
       "      <th>Jurisdiction Names</th>\n",
       "      <th>Cancellation Policy</th>\n",
       "      <th>Calculated host listings count</th>\n",
       "      <th>Reviews per Month</th>\n",
       "      <th>Geolocation</th>\n",
       "      <th>Features</th>\n",
       "    </tr>\n",
       "  </thead>\n",
       "  <tbody>\n",
       "    <tr>\n",
       "      <th>0</th>\n",
       "      <td>7713011</td>\n",
       "      <td>https://www.airbnb.com/rooms/7713011</td>\n",
       "      <td>20170404145355</td>\n",
       "      <td>2017-04-06</td>\n",
       "      <td>STUDIO PIGALLE W BALCONY</td>\n",
       "      <td>In the heart of Montmarte Pigalle, this lovely...</td>\n",
       "      <td>This newly refurbished flat is ideal for a cou...</td>\n",
       "      <td>In the heart of Montmarte Pigalle, this lovely...</td>\n",
       "      <td>none</td>\n",
       "      <td>It is central enough for you to walk your way ...</td>\n",
       "      <td>...</td>\n",
       "      <td>9.0</td>\n",
       "      <td>8.0</td>\n",
       "      <td>9.0</td>\n",
       "      <td>NaN</td>\n",
       "      <td>Paris</td>\n",
       "      <td>strict</td>\n",
       "      <td>7</td>\n",
       "      <td>1.84</td>\n",
       "      <td>48.88292573377615,2.3358125139068453</td>\n",
       "      <td>Host Has Profile Pic,Host Identity Verified,Is...</td>\n",
       "    </tr>\n",
       "    <tr>\n",
       "      <th>1</th>\n",
       "      <td>3335054</td>\n",
       "      <td>https://www.airbnb.com/rooms/3335054</td>\n",
       "      <td>20170404145355</td>\n",
       "      <td>2017-04-05</td>\n",
       "      <td>Montmartre au pied du Sacré-Coeur !</td>\n",
       "      <td>Ce studio de 22m2, rénové et équipé avec soin,...</td>\n",
       "      <td>A studio where it is very pleasant to settle i...</td>\n",
       "      <td>A studio where it is very pleasant to settle i...</td>\n",
       "      <td>none</td>\n",
       "      <td>The apartment is located rue d'Orsel just belo...</td>\n",
       "      <td>...</td>\n",
       "      <td>10.0</td>\n",
       "      <td>10.0</td>\n",
       "      <td>10.0</td>\n",
       "      <td>NaN</td>\n",
       "      <td>Paris</td>\n",
       "      <td>moderate</td>\n",
       "      <td>1</td>\n",
       "      <td>0.03</td>\n",
       "      <td>48.88301302713629,2.343468625865973</td>\n",
       "      <td>Host Has Profile Pic,Host Identity Verified,Is...</td>\n",
       "    </tr>\n",
       "    <tr>\n",
       "      <th>2</th>\n",
       "      <td>10066518</td>\n",
       "      <td>https://www.airbnb.com/rooms/10066518</td>\n",
       "      <td>20170404145355</td>\n",
       "      <td>2017-04-06</td>\n",
       "      <td>LOVELY FLAT MONTMARTRE SACRE COEUR</td>\n",
       "      <td>In 2' by walk of the Sacré-Coeur and the Mouli...</td>\n",
       "      <td>Charmant appartement typiquement parisien avec...</td>\n",
       "      <td>In 2' by walk of the Sacré-Coeur and the Mouli...</td>\n",
       "      <td>none</td>\n",
       "      <td>Situé en plein quartier Montmartre, vous serez...</td>\n",
       "      <td>...</td>\n",
       "      <td>10.0</td>\n",
       "      <td>10.0</td>\n",
       "      <td>10.0</td>\n",
       "      <td>NaN</td>\n",
       "      <td>Paris</td>\n",
       "      <td>moderate</td>\n",
       "      <td>2</td>\n",
       "      <td>0.89</td>\n",
       "      <td>48.884043258037266,2.3406044314802927</td>\n",
       "      <td>Host Has Profile Pic,Host Identity Verified,Is...</td>\n",
       "    </tr>\n",
       "    <tr>\n",
       "      <th>3</th>\n",
       "      <td>8100080</td>\n",
       "      <td>https://www.airbnb.com/rooms/8100080</td>\n",
       "      <td>20170404145355</td>\n",
       "      <td>2017-04-06</td>\n",
       "      <td>Appartement au pied de Montmartre</td>\n",
       "      <td>Dans un appartement de 50m², à deux minutes du...</td>\n",
       "      <td>NaN</td>\n",
       "      <td>Dans un appartement de 50m², à deux minutes du...</td>\n",
       "      <td>none</td>\n",
       "      <td>NaN</td>\n",
       "      <td>...</td>\n",
       "      <td>10.0</td>\n",
       "      <td>10.0</td>\n",
       "      <td>9.0</td>\n",
       "      <td>NaN</td>\n",
       "      <td>Paris</td>\n",
       "      <td>flexible</td>\n",
       "      <td>1</td>\n",
       "      <td>0.17</td>\n",
       "      <td>48.88519518071742,2.3451007362886185</td>\n",
       "      <td>Host Has Profile Pic,Host Identity Verified,Is...</td>\n",
       "    </tr>\n",
       "    <tr>\n",
       "      <th>4</th>\n",
       "      <td>7397323</td>\n",
       "      <td>https://www.airbnb.com/rooms/7397323</td>\n",
       "      <td>20170404145355</td>\n",
       "      <td>2017-04-06</td>\n",
       "      <td>Beautiful and Spacious Studio</td>\n",
       "      <td>Grd studio lumineux de 32m² avec une grande pi...</td>\n",
       "      <td>NaN</td>\n",
       "      <td>Grd studio lumineux de 32m² avec une grande pi...</td>\n",
       "      <td>none</td>\n",
       "      <td>NaN</td>\n",
       "      <td>...</td>\n",
       "      <td>10.0</td>\n",
       "      <td>8.0</td>\n",
       "      <td>10.0</td>\n",
       "      <td>NaN</td>\n",
       "      <td>Paris</td>\n",
       "      <td>flexible</td>\n",
       "      <td>1</td>\n",
       "      <td>0.11</td>\n",
       "      <td>48.89480043872107,2.3300554723388434</td>\n",
       "      <td>Host Has Profile Pic</td>\n",
       "    </tr>\n",
       "    <tr>\n",
       "      <th>...</th>\n",
       "      <td>...</td>\n",
       "      <td>...</td>\n",
       "      <td>...</td>\n",
       "      <td>...</td>\n",
       "      <td>...</td>\n",
       "      <td>...</td>\n",
       "      <td>...</td>\n",
       "      <td>...</td>\n",
       "      <td>...</td>\n",
       "      <td>...</td>\n",
       "      <td>...</td>\n",
       "      <td>...</td>\n",
       "      <td>...</td>\n",
       "      <td>...</td>\n",
       "      <td>...</td>\n",
       "      <td>...</td>\n",
       "      <td>...</td>\n",
       "      <td>...</td>\n",
       "      <td>...</td>\n",
       "      <td>...</td>\n",
       "      <td>...</td>\n",
       "    </tr>\n",
       "    <tr>\n",
       "      <th>54508</th>\n",
       "      <td>2610162</td>\n",
       "      <td>https://www.airbnb.com/rooms/2610162</td>\n",
       "      <td>20170404145355</td>\n",
       "      <td>2017-04-06</td>\n",
       "      <td>Rue Cler at 500m from Eiffel Tower!</td>\n",
       "      <td>Logement très calme, ensoleillé, situé derrièr...</td>\n",
       "      <td>Ce logement se trouve au 2e étage et comporte ...</td>\n",
       "      <td>Logement très calme, ensoleillé, situé derrièr...</td>\n",
       "      <td>none</td>\n",
       "      <td>Quartier \"vivant\" aussi bien de jour comme de ...</td>\n",
       "      <td>...</td>\n",
       "      <td>9.0</td>\n",
       "      <td>10.0</td>\n",
       "      <td>9.0</td>\n",
       "      <td>NaN</td>\n",
       "      <td>Paris</td>\n",
       "      <td>moderate</td>\n",
       "      <td>1</td>\n",
       "      <td>1.06</td>\n",
       "      <td>48.858121148036595,2.3060024345958587</td>\n",
       "      <td>Host Has Profile Pic,Host Identity Verified,Is...</td>\n",
       "    </tr>\n",
       "    <tr>\n",
       "      <th>54509</th>\n",
       "      <td>13760682</td>\n",
       "      <td>https://www.airbnb.com/rooms/13760682</td>\n",
       "      <td>20170404145355</td>\n",
       "      <td>2017-04-06</td>\n",
       "      <td>Elegant 160m Home in the heart of St Germain</td>\n",
       "      <td>Our home is in the heart to Saint-Germain-des-...</td>\n",
       "      <td>Our home is a large (160m) classic French apar...</td>\n",
       "      <td>Our home is in the heart to Saint-Germain-des-...</td>\n",
       "      <td>none</td>\n",
       "      <td>St Germain des Pres is the heart of left bank ...</td>\n",
       "      <td>...</td>\n",
       "      <td>10.0</td>\n",
       "      <td>10.0</td>\n",
       "      <td>9.0</td>\n",
       "      <td>NaN</td>\n",
       "      <td>Paris</td>\n",
       "      <td>strict</td>\n",
       "      <td>2</td>\n",
       "      <td>0.56</td>\n",
       "      <td>48.85289626976821,2.3256957697321123</td>\n",
       "      <td>Host Has Profile Pic,Host Identity Verified,Is...</td>\n",
       "    </tr>\n",
       "    <tr>\n",
       "      <th>54510</th>\n",
       "      <td>9173969</td>\n",
       "      <td>https://www.airbnb.com/rooms/9173969</td>\n",
       "      <td>20170404145355</td>\n",
       "      <td>2017-04-06</td>\n",
       "      <td>partner service test listing3</td>\n",
       "      <td>this is a test summary</td>\n",
       "      <td>NaN</td>\n",
       "      <td>this is a test summary</td>\n",
       "      <td>none</td>\n",
       "      <td>NaN</td>\n",
       "      <td>...</td>\n",
       "      <td>NaN</td>\n",
       "      <td>NaN</td>\n",
       "      <td>NaN</td>\n",
       "      <td>NaN</td>\n",
       "      <td>Paris</td>\n",
       "      <td>flexible</td>\n",
       "      <td>1</td>\n",
       "      <td>NaN</td>\n",
       "      <td>48.8528110291481,2.3248405116672988</td>\n",
       "      <td>Host Has Profile Pic,Is Location Exact</td>\n",
       "    </tr>\n",
       "    <tr>\n",
       "      <th>54511</th>\n",
       "      <td>13754942</td>\n",
       "      <td>https://www.airbnb.com/rooms/13754942</td>\n",
       "      <td>20170404145355</td>\n",
       "      <td>2017-04-06</td>\n",
       "      <td>2 bedroom appartement in a premium area</td>\n",
       "      <td>Situated in a prestigious area near the Rodin ...</td>\n",
       "      <td>NaN</td>\n",
       "      <td>Situated in a prestigious area near the Rodin ...</td>\n",
       "      <td>none</td>\n",
       "      <td>Premium neighborhoods with many wonderful cafe...</td>\n",
       "      <td>...</td>\n",
       "      <td>10.0</td>\n",
       "      <td>10.0</td>\n",
       "      <td>10.0</td>\n",
       "      <td>NaN</td>\n",
       "      <td>Paris</td>\n",
       "      <td>strict</td>\n",
       "      <td>1</td>\n",
       "      <td>0.34</td>\n",
       "      <td>48.858549434544635,2.3167999983004584</td>\n",
       "      <td>Host Has Profile Pic,Is Location Exact</td>\n",
       "    </tr>\n",
       "    <tr>\n",
       "      <th>54512</th>\n",
       "      <td>8642835</td>\n",
       "      <td>https://www.airbnb.com/rooms/8642835</td>\n",
       "      <td>20170404145355</td>\n",
       "      <td>2017-04-06</td>\n",
       "      <td>Spacious Room in Charming Apartment</td>\n",
       "      <td>Spacious bedroom in a beautifully authentic th...</td>\n",
       "      <td>A classic turn of the century apartment in the...</td>\n",
       "      <td>Spacious bedroom in a beautifully authentic th...</td>\n",
       "      <td>none</td>\n",
       "      <td>Welcome to the Rive Gauche!  This particular a...</td>\n",
       "      <td>...</td>\n",
       "      <td>10.0</td>\n",
       "      <td>10.0</td>\n",
       "      <td>10.0</td>\n",
       "      <td>NaN</td>\n",
       "      <td>Paris</td>\n",
       "      <td>flexible</td>\n",
       "      <td>1</td>\n",
       "      <td>0.06</td>\n",
       "      <td>48.85690237657029,2.3074208235843616</td>\n",
       "      <td>Host Has Profile Pic,Host Identity Verified,Is...</td>\n",
       "    </tr>\n",
       "  </tbody>\n",
       "</table>\n",
       "<p>54513 rows × 89 columns</p>\n",
       "</div>"
      ],
      "text/plain": [
       "             ID                            Listing Url       Scrape ID  \\\n",
       "0       7713011   https://www.airbnb.com/rooms/7713011  20170404145355   \n",
       "1       3335054   https://www.airbnb.com/rooms/3335054  20170404145355   \n",
       "2      10066518  https://www.airbnb.com/rooms/10066518  20170404145355   \n",
       "3       8100080   https://www.airbnb.com/rooms/8100080  20170404145355   \n",
       "4       7397323   https://www.airbnb.com/rooms/7397323  20170404145355   \n",
       "...         ...                                    ...             ...   \n",
       "54508   2610162   https://www.airbnb.com/rooms/2610162  20170404145355   \n",
       "54509  13760682  https://www.airbnb.com/rooms/13760682  20170404145355   \n",
       "54510   9173969   https://www.airbnb.com/rooms/9173969  20170404145355   \n",
       "54511  13754942  https://www.airbnb.com/rooms/13754942  20170404145355   \n",
       "54512   8642835   https://www.airbnb.com/rooms/8642835  20170404145355   \n",
       "\n",
       "      Last Scraped                                          Name  \\\n",
       "0       2017-04-06                      STUDIO PIGALLE W BALCONY   \n",
       "1       2017-04-05           Montmartre au pied du Sacré-Coeur !   \n",
       "2       2017-04-06            LOVELY FLAT MONTMARTRE SACRE COEUR   \n",
       "3       2017-04-06             Appartement au pied de Montmartre   \n",
       "4       2017-04-06                 Beautiful and Spacious Studio   \n",
       "...            ...                                           ...   \n",
       "54508   2017-04-06           Rue Cler at 500m from Eiffel Tower!   \n",
       "54509   2017-04-06  Elegant 160m Home in the heart of St Germain   \n",
       "54510   2017-04-06                 partner service test listing3   \n",
       "54511   2017-04-06       2 bedroom appartement in a premium area   \n",
       "54512   2017-04-06           Spacious Room in Charming Apartment   \n",
       "\n",
       "                                                 Summary  \\\n",
       "0      In the heart of Montmarte Pigalle, this lovely...   \n",
       "1      Ce studio de 22m2, rénové et équipé avec soin,...   \n",
       "2      In 2' by walk of the Sacré-Coeur and the Mouli...   \n",
       "3      Dans un appartement de 50m², à deux minutes du...   \n",
       "4      Grd studio lumineux de 32m² avec une grande pi...   \n",
       "...                                                  ...   \n",
       "54508  Logement très calme, ensoleillé, situé derrièr...   \n",
       "54509  Our home is in the heart to Saint-Germain-des-...   \n",
       "54510                             this is a test summary   \n",
       "54511  Situated in a prestigious area near the Rodin ...   \n",
       "54512  Spacious bedroom in a beautifully authentic th...   \n",
       "\n",
       "                                                   Space  \\\n",
       "0      This newly refurbished flat is ideal for a cou...   \n",
       "1      A studio where it is very pleasant to settle i...   \n",
       "2      Charmant appartement typiquement parisien avec...   \n",
       "3                                                    NaN   \n",
       "4                                                    NaN   \n",
       "...                                                  ...   \n",
       "54508  Ce logement se trouve au 2e étage et comporte ...   \n",
       "54509  Our home is a large (160m) classic French apar...   \n",
       "54510                                                NaN   \n",
       "54511                                                NaN   \n",
       "54512  A classic turn of the century apartment in the...   \n",
       "\n",
       "                                             Description Experiences Offered  \\\n",
       "0      In the heart of Montmarte Pigalle, this lovely...                none   \n",
       "1      A studio where it is very pleasant to settle i...                none   \n",
       "2      In 2' by walk of the Sacré-Coeur and the Mouli...                none   \n",
       "3      Dans un appartement de 50m², à deux minutes du...                none   \n",
       "4      Grd studio lumineux de 32m² avec une grande pi...                none   \n",
       "...                                                  ...                 ...   \n",
       "54508  Logement très calme, ensoleillé, situé derrièr...                none   \n",
       "54509  Our home is in the heart to Saint-Germain-des-...                none   \n",
       "54510                             this is a test summary                none   \n",
       "54511  Situated in a prestigious area near the Rodin ...                none   \n",
       "54512  Spacious bedroom in a beautifully authentic th...                none   \n",
       "\n",
       "                                   Neighborhood Overview  ...  \\\n",
       "0      It is central enough for you to walk your way ...  ...   \n",
       "1      The apartment is located rue d'Orsel just belo...  ...   \n",
       "2      Situé en plein quartier Montmartre, vous serez...  ...   \n",
       "3                                                    NaN  ...   \n",
       "4                                                    NaN  ...   \n",
       "...                                                  ...  ...   \n",
       "54508  Quartier \"vivant\" aussi bien de jour comme de ...  ...   \n",
       "54509  St Germain des Pres is the heart of left bank ...  ...   \n",
       "54510                                                NaN  ...   \n",
       "54511  Premium neighborhoods with many wonderful cafe...  ...   \n",
       "54512  Welcome to the Rive Gauche!  This particular a...  ...   \n",
       "\n",
       "      Review Scores Communication Review Scores Location Review Scores Value  \\\n",
       "0                             9.0                    8.0                 9.0   \n",
       "1                            10.0                   10.0                10.0   \n",
       "2                            10.0                   10.0                10.0   \n",
       "3                            10.0                   10.0                 9.0   \n",
       "4                            10.0                    8.0                10.0   \n",
       "...                           ...                    ...                 ...   \n",
       "54508                         9.0                   10.0                 9.0   \n",
       "54509                        10.0                   10.0                 9.0   \n",
       "54510                         NaN                    NaN                 NaN   \n",
       "54511                        10.0                   10.0                10.0   \n",
       "54512                        10.0                   10.0                10.0   \n",
       "\n",
       "      License Jurisdiction Names Cancellation Policy  \\\n",
       "0         NaN              Paris              strict   \n",
       "1         NaN              Paris            moderate   \n",
       "2         NaN              Paris            moderate   \n",
       "3         NaN              Paris            flexible   \n",
       "4         NaN              Paris            flexible   \n",
       "...       ...                ...                 ...   \n",
       "54508     NaN              Paris            moderate   \n",
       "54509     NaN              Paris              strict   \n",
       "54510     NaN              Paris            flexible   \n",
       "54511     NaN              Paris              strict   \n",
       "54512     NaN              Paris            flexible   \n",
       "\n",
       "      Calculated host listings count Reviews per Month  \\\n",
       "0                                  7              1.84   \n",
       "1                                  1              0.03   \n",
       "2                                  2              0.89   \n",
       "3                                  1              0.17   \n",
       "4                                  1              0.11   \n",
       "...                              ...               ...   \n",
       "54508                              1              1.06   \n",
       "54509                              2              0.56   \n",
       "54510                              1               NaN   \n",
       "54511                              1              0.34   \n",
       "54512                              1              0.06   \n",
       "\n",
       "                                 Geolocation  \\\n",
       "0       48.88292573377615,2.3358125139068453   \n",
       "1        48.88301302713629,2.343468625865973   \n",
       "2      48.884043258037266,2.3406044314802927   \n",
       "3       48.88519518071742,2.3451007362886185   \n",
       "4       48.89480043872107,2.3300554723388434   \n",
       "...                                      ...   \n",
       "54508  48.858121148036595,2.3060024345958587   \n",
       "54509   48.85289626976821,2.3256957697321123   \n",
       "54510    48.8528110291481,2.3248405116672988   \n",
       "54511  48.858549434544635,2.3167999983004584   \n",
       "54512   48.85690237657029,2.3074208235843616   \n",
       "\n",
       "                                                Features  \n",
       "0      Host Has Profile Pic,Host Identity Verified,Is...  \n",
       "1      Host Has Profile Pic,Host Identity Verified,Is...  \n",
       "2      Host Has Profile Pic,Host Identity Verified,Is...  \n",
       "3      Host Has Profile Pic,Host Identity Verified,Is...  \n",
       "4                                   Host Has Profile Pic  \n",
       "...                                                  ...  \n",
       "54508  Host Has Profile Pic,Host Identity Verified,Is...  \n",
       "54509  Host Has Profile Pic,Host Identity Verified,Is...  \n",
       "54510             Host Has Profile Pic,Is Location Exact  \n",
       "54511             Host Has Profile Pic,Is Location Exact  \n",
       "54512  Host Has Profile Pic,Host Identity Verified,Is...  \n",
       "\n",
       "[54513 rows x 89 columns]"
      ]
     },
     "execution_count": 2,
     "metadata": {},
     "output_type": "execute_result"
    }
   ],
   "source": [
    "\n",
    "data = pd.read_csv('airbnb-listings3.csv' , sep=';', low_memory= False)\n",
    "data"
   ]
  },
  {
   "cell_type": "markdown",
   "id": "8925a776-2eb8-4a46-ae57-341a0c26d1fd",
   "metadata": {},
   "source": [
    "On supprime les features qui ne sont pas utiles"
   ]
  },
  {
   "cell_type": "code",
   "execution_count": 3,
   "id": "c2f69f57-2cec-46f1-a219-e2b75374a8e9",
   "metadata": {},
   "outputs": [],
   "source": [
    "df = data.drop(['ID', 'Listing Url', 'Scrape ID', 'Last Scraped', 'Summary', \n",
    "              'Experiences Offered', 'Thumbnail Url', 'House Rules', 'Medium Url',\n",
    "              'Picture Url', 'XL Picture Url', 'Host URL', 'Host Location', \n",
    "              'Host About', 'Host Acceptance Rate', 'Host Thumbnail Url', \n",
    "              'Host Picture Url', 'Host Neighbourhood', 'Host Listings Count',\n",
    "               'Host Verifications','Neighbourhood Group Cleansed', 'State', \n",
    "                'Market', 'Smart Location', 'Country Code', 'Country', \n",
    "               'Calendar last Scraped', 'First Review', 'Last Review', \n",
    "                'Jurisdiction Names', 'Features', 'License', 'Interaction', 'Host Name',\n",
    "                'Monthly Price', 'Weekly Price'\n",
    "               ], axis=1)"
   ]
  },
  {
   "cell_type": "code",
   "execution_count": 4,
   "id": "f2eb3b21-bdf8-4efc-ad2a-221903b25f3d",
   "metadata": {},
   "outputs": [
    {
     "data": {
      "text/html": [
       "<div>\n",
       "<style scoped>\n",
       "    .dataframe tbody tr th:only-of-type {\n",
       "        vertical-align: middle;\n",
       "    }\n",
       "\n",
       "    .dataframe tbody tr th {\n",
       "        vertical-align: top;\n",
       "    }\n",
       "\n",
       "    .dataframe thead th {\n",
       "        text-align: right;\n",
       "    }\n",
       "</style>\n",
       "<table border=\"1\" class=\"dataframe\">\n",
       "  <thead>\n",
       "    <tr style=\"text-align: right;\">\n",
       "      <th></th>\n",
       "      <th>Name</th>\n",
       "      <th>Space</th>\n",
       "      <th>Description</th>\n",
       "      <th>Neighborhood Overview</th>\n",
       "      <th>Notes</th>\n",
       "      <th>Transit</th>\n",
       "      <th>Access</th>\n",
       "      <th>Host ID</th>\n",
       "      <th>Host Since</th>\n",
       "      <th>Host Response Time</th>\n",
       "      <th>...</th>\n",
       "      <th>Review Scores Accuracy</th>\n",
       "      <th>Review Scores Cleanliness</th>\n",
       "      <th>Review Scores Checkin</th>\n",
       "      <th>Review Scores Communication</th>\n",
       "      <th>Review Scores Location</th>\n",
       "      <th>Review Scores Value</th>\n",
       "      <th>Cancellation Policy</th>\n",
       "      <th>Calculated host listings count</th>\n",
       "      <th>Reviews per Month</th>\n",
       "      <th>Geolocation</th>\n",
       "    </tr>\n",
       "  </thead>\n",
       "  <tbody>\n",
       "    <tr>\n",
       "      <th>0</th>\n",
       "      <td>STUDIO PIGALLE W BALCONY</td>\n",
       "      <td>This newly refurbished flat is ideal for a cou...</td>\n",
       "      <td>In the heart of Montmarte Pigalle, this lovely...</td>\n",
       "      <td>It is central enough for you to walk your way ...</td>\n",
       "      <td>Real globetrotters, we are real Parisians with...</td>\n",
       "      <td>The flat is ideally located in Montmartre Piga...</td>\n",
       "      <td>Subway stations: Abbesses or Pigalle. Bus, Tax...</td>\n",
       "      <td>32492446</td>\n",
       "      <td>2015-05-03</td>\n",
       "      <td>within an hour</td>\n",
       "      <td>...</td>\n",
       "      <td>9.0</td>\n",
       "      <td>9.0</td>\n",
       "      <td>9.0</td>\n",
       "      <td>9.0</td>\n",
       "      <td>8.0</td>\n",
       "      <td>9.0</td>\n",
       "      <td>strict</td>\n",
       "      <td>7</td>\n",
       "      <td>1.84</td>\n",
       "      <td>48.88292573377615,2.3358125139068453</td>\n",
       "    </tr>\n",
       "    <tr>\n",
       "      <th>1</th>\n",
       "      <td>Montmartre au pied du Sacré-Coeur !</td>\n",
       "      <td>A studio where it is very pleasant to settle i...</td>\n",
       "      <td>A studio where it is very pleasant to settle i...</td>\n",
       "      <td>The apartment is located rue d'Orsel just belo...</td>\n",
       "      <td>The building has a digital code and intercom. ...</td>\n",
       "      <td>The studio is easily accessible. At the foot o...</td>\n",
       "      <td>The kitchen is equipped with a refrigerator, t...</td>\n",
       "      <td>2726446</td>\n",
       "      <td>2012-06-24</td>\n",
       "      <td>NaN</td>\n",
       "      <td>...</td>\n",
       "      <td>10.0</td>\n",
       "      <td>10.0</td>\n",
       "      <td>10.0</td>\n",
       "      <td>10.0</td>\n",
       "      <td>10.0</td>\n",
       "      <td>10.0</td>\n",
       "      <td>moderate</td>\n",
       "      <td>1</td>\n",
       "      <td>0.03</td>\n",
       "      <td>48.88301302713629,2.343468625865973</td>\n",
       "    </tr>\n",
       "    <tr>\n",
       "      <th>2</th>\n",
       "      <td>LOVELY FLAT MONTMARTRE SACRE COEUR</td>\n",
       "      <td>Charmant appartement typiquement parisien avec...</td>\n",
       "      <td>In 2' by walk of the Sacré-Coeur and the Mouli...</td>\n",
       "      <td>Situé en plein quartier Montmartre, vous serez...</td>\n",
       "      <td>Situé en plein quartier Montmartre, vous serez...</td>\n",
       "      <td>Très bien desservi par les transports en commu...</td>\n",
       "      <td>NaN</td>\n",
       "      <td>30432969</td>\n",
       "      <td>2015-04-01</td>\n",
       "      <td>within a few hours</td>\n",
       "      <td>...</td>\n",
       "      <td>10.0</td>\n",
       "      <td>10.0</td>\n",
       "      <td>10.0</td>\n",
       "      <td>10.0</td>\n",
       "      <td>10.0</td>\n",
       "      <td>10.0</td>\n",
       "      <td>moderate</td>\n",
       "      <td>2</td>\n",
       "      <td>0.89</td>\n",
       "      <td>48.884043258037266,2.3406044314802927</td>\n",
       "    </tr>\n",
       "    <tr>\n",
       "      <th>3</th>\n",
       "      <td>Appartement au pied de Montmartre</td>\n",
       "      <td>NaN</td>\n",
       "      <td>Dans un appartement de 50m², à deux minutes du...</td>\n",
       "      <td>NaN</td>\n",
       "      <td>NaN</td>\n",
       "      <td>NaN</td>\n",
       "      <td>NaN</td>\n",
       "      <td>42773335</td>\n",
       "      <td>2015-08-28</td>\n",
       "      <td>within a few hours</td>\n",
       "      <td>...</td>\n",
       "      <td>10.0</td>\n",
       "      <td>10.0</td>\n",
       "      <td>10.0</td>\n",
       "      <td>10.0</td>\n",
       "      <td>10.0</td>\n",
       "      <td>9.0</td>\n",
       "      <td>flexible</td>\n",
       "      <td>1</td>\n",
       "      <td>0.17</td>\n",
       "      <td>48.88519518071742,2.3451007362886185</td>\n",
       "    </tr>\n",
       "    <tr>\n",
       "      <th>4</th>\n",
       "      <td>Beautiful and Spacious Studio</td>\n",
       "      <td>NaN</td>\n",
       "      <td>Grd studio lumineux de 32m² avec une grande pi...</td>\n",
       "      <td>NaN</td>\n",
       "      <td>NaN</td>\n",
       "      <td>NaN</td>\n",
       "      <td>NaN</td>\n",
       "      <td>38757332</td>\n",
       "      <td>2015-07-17</td>\n",
       "      <td>within an hour</td>\n",
       "      <td>...</td>\n",
       "      <td>10.0</td>\n",
       "      <td>9.0</td>\n",
       "      <td>9.0</td>\n",
       "      <td>10.0</td>\n",
       "      <td>8.0</td>\n",
       "      <td>10.0</td>\n",
       "      <td>flexible</td>\n",
       "      <td>1</td>\n",
       "      <td>0.11</td>\n",
       "      <td>48.89480043872107,2.3300554723388434</td>\n",
       "    </tr>\n",
       "  </tbody>\n",
       "</table>\n",
       "<p>5 rows × 53 columns</p>\n",
       "</div>"
      ],
      "text/plain": [
       "                                  Name  \\\n",
       "0             STUDIO PIGALLE W BALCONY   \n",
       "1  Montmartre au pied du Sacré-Coeur !   \n",
       "2   LOVELY FLAT MONTMARTRE SACRE COEUR   \n",
       "3    Appartement au pied de Montmartre   \n",
       "4        Beautiful and Spacious Studio   \n",
       "\n",
       "                                               Space  \\\n",
       "0  This newly refurbished flat is ideal for a cou...   \n",
       "1  A studio where it is very pleasant to settle i...   \n",
       "2  Charmant appartement typiquement parisien avec...   \n",
       "3                                                NaN   \n",
       "4                                                NaN   \n",
       "\n",
       "                                         Description  \\\n",
       "0  In the heart of Montmarte Pigalle, this lovely...   \n",
       "1  A studio where it is very pleasant to settle i...   \n",
       "2  In 2' by walk of the Sacré-Coeur and the Mouli...   \n",
       "3  Dans un appartement de 50m², à deux minutes du...   \n",
       "4  Grd studio lumineux de 32m² avec une grande pi...   \n",
       "\n",
       "                               Neighborhood Overview  \\\n",
       "0  It is central enough for you to walk your way ...   \n",
       "1  The apartment is located rue d'Orsel just belo...   \n",
       "2  Situé en plein quartier Montmartre, vous serez...   \n",
       "3                                                NaN   \n",
       "4                                                NaN   \n",
       "\n",
       "                                               Notes  \\\n",
       "0  Real globetrotters, we are real Parisians with...   \n",
       "1  The building has a digital code and intercom. ...   \n",
       "2  Situé en plein quartier Montmartre, vous serez...   \n",
       "3                                                NaN   \n",
       "4                                                NaN   \n",
       "\n",
       "                                             Transit  \\\n",
       "0  The flat is ideally located in Montmartre Piga...   \n",
       "1  The studio is easily accessible. At the foot o...   \n",
       "2  Très bien desservi par les transports en commu...   \n",
       "3                                                NaN   \n",
       "4                                                NaN   \n",
       "\n",
       "                                              Access   Host ID  Host Since  \\\n",
       "0  Subway stations: Abbesses or Pigalle. Bus, Tax...  32492446  2015-05-03   \n",
       "1  The kitchen is equipped with a refrigerator, t...   2726446  2012-06-24   \n",
       "2                                                NaN  30432969  2015-04-01   \n",
       "3                                                NaN  42773335  2015-08-28   \n",
       "4                                                NaN  38757332  2015-07-17   \n",
       "\n",
       "   Host Response Time  ...  Review Scores Accuracy  Review Scores Cleanliness  \\\n",
       "0      within an hour  ...                     9.0                        9.0   \n",
       "1                 NaN  ...                    10.0                       10.0   \n",
       "2  within a few hours  ...                    10.0                       10.0   \n",
       "3  within a few hours  ...                    10.0                       10.0   \n",
       "4      within an hour  ...                    10.0                        9.0   \n",
       "\n",
       "  Review Scores Checkin Review Scores Communication Review Scores Location  \\\n",
       "0                   9.0                         9.0                    8.0   \n",
       "1                  10.0                        10.0                   10.0   \n",
       "2                  10.0                        10.0                   10.0   \n",
       "3                  10.0                        10.0                   10.0   \n",
       "4                   9.0                        10.0                    8.0   \n",
       "\n",
       "  Review Scores Value Cancellation Policy  Calculated host listings count  \\\n",
       "0                 9.0              strict                               7   \n",
       "1                10.0            moderate                               1   \n",
       "2                10.0            moderate                               2   \n",
       "3                 9.0            flexible                               1   \n",
       "4                10.0            flexible                               1   \n",
       "\n",
       "   Reviews per Month                            Geolocation  \n",
       "0               1.84   48.88292573377615,2.3358125139068453  \n",
       "1               0.03    48.88301302713629,2.343468625865973  \n",
       "2               0.89  48.884043258037266,2.3406044314802927  \n",
       "3               0.17   48.88519518071742,2.3451007362886185  \n",
       "4               0.11   48.89480043872107,2.3300554723388434  \n",
       "\n",
       "[5 rows x 53 columns]"
      ]
     },
     "execution_count": 4,
     "metadata": {},
     "output_type": "execute_result"
    }
   ],
   "source": [
    "df.head()"
   ]
  },
  {
   "attachments": {},
   "cell_type": "markdown",
   "id": "624d89ad-51af-46df-b0f8-360a8142071b",
   "metadata": {},
   "source": [
    "On a donc maintenant 55 features"
   ]
  },
  {
   "cell_type": "code",
   "execution_count": 5,
   "id": "b67f03dd-4271-4a11-8a54-cfb73e8914a2",
   "metadata": {},
   "outputs": [
    {
     "data": {
      "text/plain": [
       "Index(['Name', 'Space', 'Description', 'Neighborhood Overview', 'Notes',\n",
       "       'Transit', 'Access', 'Host ID', 'Host Since', 'Host Response Time',\n",
       "       'Host Response Rate', 'Host Total Listings Count', 'Street',\n",
       "       'Neighbourhood', 'Neighbourhood Cleansed', 'City', 'Zipcode',\n",
       "       'Latitude', 'Longitude', 'Property Type', 'Room Type', 'Accommodates',\n",
       "       'Bathrooms', 'Bedrooms', 'Beds', 'Bed Type', 'Amenities', 'Square Feet',\n",
       "       'Price', 'Security Deposit', 'Cleaning Fee', 'Guests Included',\n",
       "       'Extra People', 'Minimum Nights', 'Maximum Nights', 'Calendar Updated',\n",
       "       'Has Availability', 'Availability 30', 'Availability 60',\n",
       "       'Availability 90', 'Availability 365', 'Number of Reviews',\n",
       "       'Review Scores Rating', 'Review Scores Accuracy',\n",
       "       'Review Scores Cleanliness', 'Review Scores Checkin',\n",
       "       'Review Scores Communication', 'Review Scores Location',\n",
       "       'Review Scores Value', 'Cancellation Policy',\n",
       "       'Calculated host listings count', 'Reviews per Month', 'Geolocation'],\n",
       "      dtype='object')"
      ]
     },
     "execution_count": 5,
     "metadata": {},
     "output_type": "execute_result"
    }
   ],
   "source": [
    "df.columns"
   ]
  },
  {
   "cell_type": "markdown",
   "id": "e6f159b3-4d3f-40fb-969b-32a334be80b8",
   "metadata": {
    "tags": []
   },
   "source": [
    "## 1. Statistiques descriptives de la base de données "
   ]
  },
  {
   "cell_type": "markdown",
   "id": "e461ca3f-a45f-4245-ac80-39183cf34e37",
   "metadata": {
    "jp-MarkdownHeadingCollapsed": true,
    "tags": []
   },
   "source": [
    "### 1.0 Premières statistiques"
   ]
  },
  {
   "cell_type": "code",
   "execution_count": 6,
   "id": "4b40d0a4-dd35-421d-b64f-c14cee39bb16",
   "metadata": {},
   "outputs": [],
   "source": [
    "#On abandonne les colonnes où les prix sont nuls pour éviter de fausser l'analyse\n",
    "df=df[df['Price']!=0]"
   ]
  },
  {
   "cell_type": "code",
   "execution_count": 7,
   "id": "19369afe-2b5e-461e-b3bd-1ce4a934a8d9",
   "metadata": {},
   "outputs": [
    {
     "data": {
      "text/plain": [
       "count    54458.000000\n",
       "mean        94.789159\n",
       "std         73.357259\n",
       "min          8.000000\n",
       "25%         55.000000\n",
       "50%         75.000000\n",
       "75%        107.000000\n",
       "max        999.000000\n",
       "Name: Price, dtype: float64"
      ]
     },
     "execution_count": 7,
     "metadata": {},
     "output_type": "execute_result"
    }
   ],
   "source": [
    "df['Price'].describe()"
   ]
  },
  {
   "attachments": {},
   "cell_type": "markdown",
   "id": "e9ab2362-43cf-4f92-a342-7014a9021a41",
   "metadata": {},
   "source": [
    "On remarque que le prix moyen par nuit est de 94€, avec un prix minimal de 8€, qui paraît assez incohérent avec les tarifs habituels."
   ]
  },
  {
   "attachments": {},
   "cell_type": "markdown",
   "id": "818f0d3d-e8d3-41c2-915a-49f5fd1c082b",
   "metadata": {},
   "source": [
    "Traçons la répartition des prix des Airbnb parisiens"
   ]
  },
  {
   "cell_type": "code",
   "execution_count": 8,
   "id": "6a7552e7-b138-4a70-a447-149174423218",
   "metadata": {},
   "outputs": [
    {
     "data": {
      "text/plain": [
       "Text(0, 0.5, 'Quantité')"
      ]
     },
     "execution_count": 8,
     "metadata": {},
     "output_type": "execute_result"
    },
    {
     "data": {
      "image/png": "[encoded data removed]",
      "text/plain": [
       "<Figure size 1000x500 with 1 Axes>"
      ]
     },
     "metadata": {},
     "output_type": "display_data"
    }
   ],
   "source": [
    "fig, ax = plt.subplots(figsize=(10, 5))\n",
    "sns.histplot(data=df['Price'], kde=True, bins=int(100))\n",
    "plt.title ('Répartition des prix des AirBnb à Paris')\n",
    "plt.xlabel('Prix')\n",
    "plt.ylabel('Quantité')"
   ]
  },
  {
   "cell_type": "code",
   "execution_count": 10,
   "id": "8f6f3bb2-61e4-4436-96aa-15fea8bf0121",
   "metadata": {},
   "outputs": [
    {
     "data": {
      "text/plain": [
       "93.09142941003815"
      ]
     },
     "execution_count": 10,
     "metadata": {},
     "output_type": "execute_result"
    }
   ],
   "source": [
    "#Pourcentage des airbnb ayant un prix inférieur à 200€\n",
    "len(df.loc[df['Price']<200])/len(df) * 100"
   ]
  },
  {
   "attachments": {},
   "cell_type": "markdown",
   "id": "20baecb6-b1a5-4e22-87a8-eda7e8259341",
   "metadata": {},
   "source": [
    "On observe que la plus grande partie (environ 93%) des AirBnb ont un prix inférieur à 200€ par nuit.  Traçons désormais les distributions de prix en dessous et au dessus de ce seuil. "
   ]
  },
  {
   "cell_type": "code",
   "execution_count": 11,
   "id": "4f0bb9d3",
   "metadata": {},
   "outputs": [
    {
     "name": "stderr",
     "output_type": "stream",
     "text": [
      "C:\\Users\\ac3e2\\AppData\\Local\\Temp\\ipykernel_10680\\2136324294.py:5: UserWarning: \n",
      "\n",
      "`distplot` is a deprecated function and will be removed in seaborn v0.14.0.\n",
      "\n",
      "Please adapt your code to use either `displot` (a figure-level function with\n",
      "similar flexibility) or `histplot` (an axes-level function for histograms).\n",
      "\n",
      "For a guide to updating your code to use the new functions, please see\n",
      "https://gist.github.com/mwaskom/de44147ed2974457ad6372750bbe5751\n",
      "\n",
      "  ax0 = sns.distplot(df[df['Price'] <= 200]['Price'], ax=axs[0], color='#FF585D')\n",
      "C:\\Users\\ac3e2\\AppData\\Local\\Temp\\ipykernel_10680\\2136324294.py:8: UserWarning: \n",
      "\n",
      "`distplot` is a deprecated function and will be removed in seaborn v0.14.0.\n",
      "\n",
      "Please adapt your code to use either `displot` (a figure-level function with\n",
      "similar flexibility) or `histplot` (an axes-level function for histograms).\n",
      "\n",
      "For a guide to updating your code to use the new functions, please see\n",
      "https://gist.github.com/mwaskom/de44147ed2974457ad6372750bbe5751\n",
      "\n",
      "  ax1 = sns.distplot(df[df['Price'] > 200]['Price'], ax=axs[1], color='#FF585D')\n"
     ]
    },
    {
     "data": {
      "text/plain": [
       "Text(0.5, 1.0, 'Distribution des prix supérieurs à 200 euros')"
      ]
     },
     "execution_count": 11,
     "metadata": {},
     "output_type": "execute_result"
    },
    {
     "data": {
      "image/png": "[encoded data removed]",
      "text/plain": [
       "<Figure size 1500x500 with 2 Axes>"
      ]
     },
     "metadata": {},
     "output_type": "display_data"
    }
   ],
   "source": [
    "#warnings.simplefilter('ignore')\n",
    "\n",
    "fig, axs = plt.subplots(ncols=2, figsize=(15, 5))\n",
    "\n",
    "ax0 = sns.distplot(df[df['Price'] <= 200]['Price'], ax=axs[0], color='#FF585D')\n",
    "ax0.set_title('Distribution des prix inférieurs à 200 euros')\n",
    "\n",
    "ax1 = sns.distplot(df[df['Price'] > 200]['Price'], ax=axs[1], color='#FF585D')\n",
    "ax1.set_title('Distribution des prix supérieurs à 200 euros')"
   ]
  },
  {
   "attachments": {},
   "cell_type": "markdown",
   "id": "45981a0a-5379-4819-9fba-6097afc6ef38",
   "metadata": {},
   "source": [
    "Qu'est ce qui influence le plus le prix d'un Airbnb ? \n",
    "Nous avons naturellement pensé à plusieurs axes tels que : \n",
    "- sa taille : nombre de chambres, de personnes qu'il peut accueillir, superficie\n",
    "- sa localisation : quartier \n",
    "- qualité de l'hébergement : matériel et services disponibles\n",
    "- qualité de l'hôte\n"
   ]
  },
  {
   "cell_type": "markdown",
   "id": "47c80ade-d9d9-4219-aaae-38dcc445fa43",
   "metadata": {},
   "source": [
    "##### Quelles sont les variables les plus corrélées au prix ?"
   ]
  },
  {
   "cell_type": "code",
   "execution_count": 12,
   "id": "c3f71fd0-f87d-4174-a5d8-0990ec06f8ff",
   "metadata": {},
   "outputs": [
    {
     "data": {
      "text/html": [
       "<div>\n",
       "<style scoped>\n",
       "    .dataframe tbody tr th:only-of-type {\n",
       "        vertical-align: middle;\n",
       "    }\n",
       "\n",
       "    .dataframe tbody tr th {\n",
       "        vertical-align: top;\n",
       "    }\n",
       "\n",
       "    .dataframe thead th {\n",
       "        text-align: right;\n",
       "    }\n",
       "</style>\n",
       "<table border=\"1\" class=\"dataframe\">\n",
       "  <thead>\n",
       "    <tr style=\"text-align: right;\">\n",
       "      <th></th>\n",
       "      <th>Host ID</th>\n",
       "      <th>Host Response Rate</th>\n",
       "      <th>Host Total Listings Count</th>\n",
       "      <th>Latitude</th>\n",
       "      <th>Longitude</th>\n",
       "      <th>Accommodates</th>\n",
       "      <th>Bathrooms</th>\n",
       "      <th>Bedrooms</th>\n",
       "      <th>Beds</th>\n",
       "      <th>Square Feet</th>\n",
       "      <th>...</th>\n",
       "      <th>Number of Reviews</th>\n",
       "      <th>Review Scores Rating</th>\n",
       "      <th>Review Scores Accuracy</th>\n",
       "      <th>Review Scores Cleanliness</th>\n",
       "      <th>Review Scores Checkin</th>\n",
       "      <th>Review Scores Communication</th>\n",
       "      <th>Review Scores Location</th>\n",
       "      <th>Review Scores Value</th>\n",
       "      <th>Calculated host listings count</th>\n",
       "      <th>Reviews per Month</th>\n",
       "    </tr>\n",
       "  </thead>\n",
       "  <tbody>\n",
       "    <tr>\n",
       "      <th>0</th>\n",
       "      <td>32492446</td>\n",
       "      <td>100.0</td>\n",
       "      <td>7.0</td>\n",
       "      <td>48.882926</td>\n",
       "      <td>2.335813</td>\n",
       "      <td>2</td>\n",
       "      <td>1.0</td>\n",
       "      <td>0.0</td>\n",
       "      <td>1.0</td>\n",
       "      <td>NaN</td>\n",
       "      <td>...</td>\n",
       "      <td>37</td>\n",
       "      <td>85.0</td>\n",
       "      <td>9.0</td>\n",
       "      <td>9.0</td>\n",
       "      <td>9.0</td>\n",
       "      <td>9.0</td>\n",
       "      <td>8.0</td>\n",
       "      <td>9.0</td>\n",
       "      <td>7</td>\n",
       "      <td>1.84</td>\n",
       "    </tr>\n",
       "    <tr>\n",
       "      <th>1</th>\n",
       "      <td>2726446</td>\n",
       "      <td>NaN</td>\n",
       "      <td>1.0</td>\n",
       "      <td>48.883013</td>\n",
       "      <td>2.343469</td>\n",
       "      <td>2</td>\n",
       "      <td>1.0</td>\n",
       "      <td>0.0</td>\n",
       "      <td>1.0</td>\n",
       "      <td>NaN</td>\n",
       "      <td>...</td>\n",
       "      <td>1</td>\n",
       "      <td>100.0</td>\n",
       "      <td>10.0</td>\n",
       "      <td>10.0</td>\n",
       "      <td>10.0</td>\n",
       "      <td>10.0</td>\n",
       "      <td>10.0</td>\n",
       "      <td>10.0</td>\n",
       "      <td>1</td>\n",
       "      <td>0.03</td>\n",
       "    </tr>\n",
       "    <tr>\n",
       "      <th>2</th>\n",
       "      <td>30432969</td>\n",
       "      <td>95.0</td>\n",
       "      <td>2.0</td>\n",
       "      <td>48.884043</td>\n",
       "      <td>2.340604</td>\n",
       "      <td>2</td>\n",
       "      <td>1.0</td>\n",
       "      <td>1.0</td>\n",
       "      <td>1.0</td>\n",
       "      <td>NaN</td>\n",
       "      <td>...</td>\n",
       "      <td>13</td>\n",
       "      <td>97.0</td>\n",
       "      <td>10.0</td>\n",
       "      <td>10.0</td>\n",
       "      <td>10.0</td>\n",
       "      <td>10.0</td>\n",
       "      <td>10.0</td>\n",
       "      <td>10.0</td>\n",
       "      <td>2</td>\n",
       "      <td>0.89</td>\n",
       "    </tr>\n",
       "    <tr>\n",
       "      <th>3</th>\n",
       "      <td>42773335</td>\n",
       "      <td>100.0</td>\n",
       "      <td>1.0</td>\n",
       "      <td>48.885195</td>\n",
       "      <td>2.345101</td>\n",
       "      <td>2</td>\n",
       "      <td>1.0</td>\n",
       "      <td>1.0</td>\n",
       "      <td>1.0</td>\n",
       "      <td>NaN</td>\n",
       "      <td>...</td>\n",
       "      <td>3</td>\n",
       "      <td>87.0</td>\n",
       "      <td>10.0</td>\n",
       "      <td>10.0</td>\n",
       "      <td>10.0</td>\n",
       "      <td>10.0</td>\n",
       "      <td>10.0</td>\n",
       "      <td>9.0</td>\n",
       "      <td>1</td>\n",
       "      <td>0.17</td>\n",
       "    </tr>\n",
       "    <tr>\n",
       "      <th>4</th>\n",
       "      <td>38757332</td>\n",
       "      <td>100.0</td>\n",
       "      <td>1.0</td>\n",
       "      <td>48.894800</td>\n",
       "      <td>2.330055</td>\n",
       "      <td>2</td>\n",
       "      <td>1.0</td>\n",
       "      <td>0.0</td>\n",
       "      <td>1.0</td>\n",
       "      <td>NaN</td>\n",
       "      <td>...</td>\n",
       "      <td>2</td>\n",
       "      <td>90.0</td>\n",
       "      <td>10.0</td>\n",
       "      <td>9.0</td>\n",
       "      <td>9.0</td>\n",
       "      <td>10.0</td>\n",
       "      <td>8.0</td>\n",
       "      <td>10.0</td>\n",
       "      <td>1</td>\n",
       "      <td>0.11</td>\n",
       "    </tr>\n",
       "  </tbody>\n",
       "</table>\n",
       "<p>5 rows × 32 columns</p>\n",
       "</div>"
      ],
      "text/plain": [
       "    Host ID  Host Response Rate  Host Total Listings Count   Latitude  \\\n",
       "0  32492446               100.0                        7.0  48.882926   \n",
       "1   2726446                 NaN                        1.0  48.883013   \n",
       "2  30432969                95.0                        2.0  48.884043   \n",
       "3  42773335               100.0                        1.0  48.885195   \n",
       "4  38757332               100.0                        1.0  48.894800   \n",
       "\n",
       "   Longitude  Accommodates  Bathrooms  Bedrooms  Beds  Square Feet  ...  \\\n",
       "0   2.335813             2        1.0       0.0   1.0          NaN  ...   \n",
       "1   2.343469             2        1.0       0.0   1.0          NaN  ...   \n",
       "2   2.340604             2        1.0       1.0   1.0          NaN  ...   \n",
       "3   2.345101             2        1.0       1.0   1.0          NaN  ...   \n",
       "4   2.330055             2        1.0       0.0   1.0          NaN  ...   \n",
       "\n",
       "   Number of Reviews  Review Scores Rating  Review Scores Accuracy  \\\n",
       "0                 37                  85.0                     9.0   \n",
       "1                  1                 100.0                    10.0   \n",
       "2                 13                  97.0                    10.0   \n",
       "3                  3                  87.0                    10.0   \n",
       "4                  2                  90.0                    10.0   \n",
       "\n",
       "   Review Scores Cleanliness  Review Scores Checkin  \\\n",
       "0                        9.0                    9.0   \n",
       "1                       10.0                   10.0   \n",
       "2                       10.0                   10.0   \n",
       "3                       10.0                   10.0   \n",
       "4                        9.0                    9.0   \n",
       "\n",
       "   Review Scores Communication  Review Scores Location  Review Scores Value  \\\n",
       "0                          9.0                     8.0                  9.0   \n",
       "1                         10.0                    10.0                 10.0   \n",
       "2                         10.0                    10.0                 10.0   \n",
       "3                         10.0                    10.0                  9.0   \n",
       "4                         10.0                     8.0                 10.0   \n",
       "\n",
       "   Calculated host listings count  Reviews per Month  \n",
       "0                               7               1.84  \n",
       "1                               1               0.03  \n",
       "2                               2               0.89  \n",
       "3                               1               0.17  \n",
       "4                               1               0.11  \n",
       "\n",
       "[5 rows x 32 columns]"
      ]
     },
     "execution_count": 12,
     "metadata": {},
     "output_type": "execute_result"
    }
   ],
   "source": [
    "#on ne garde que les variables numériques\n",
    "df_num = df.select_dtypes(include = ['float64', 'int64'])\n",
    "df_num.head()"
   ]
  },
  {
   "cell_type": "code",
   "execution_count": 13,
   "id": "eed418b5-7804-49b8-ab84-2d08a3593427",
   "metadata": {},
   "outputs": [
    {
     "data": {
      "text/plain": [
       "<AxesSubplot: >"
      ]
     },
     "execution_count": 13,
     "metadata": {},
     "output_type": "execute_result"
    },
    {
     "data": {
      "image/png": "[encoded data removed]",
      "text/plain": [
       "<Figure size 1100x900 with 2 Axes>"
      ]
     },
     "metadata": {},
     "output_type": "display_data"
    }
   ],
   "source": [
    "sns.set_theme(style=\"white\")\n",
    "\n",
    "# Matrice de corrélation\n",
    "corr = df_num.corr()\n",
    "\n",
    "# Génération d'un masque pour la partie supérieure du triangle\n",
    "mask = np.triu(np.ones_like(corr, dtype=bool))\n",
    "\n",
    "# Mise en place de la figure\n",
    "f, ax = plt.subplots(figsize=(11, 9))\n",
    "\n",
    "# Création d'une palette de couleurs\n",
    "cmap = sns.diverging_palette(230, 20, as_cmap=True)\n",
    "\n",
    "# Tracé de la heatmap avec le masque et les bonnes dimensions\n",
    "sns.heatmap(corr, mask=mask, cmap=cmap, vmax=.3, center=0,\n",
    "            square=True, linewidths=.5, cbar_kws={\"shrink\": .5})"
   ]
  },
  {
   "cell_type": "code",
   "execution_count": null,
   "id": "bf53ea0b-8188-40f7-9d30-922912c87cbb",
   "metadata": {},
   "outputs": [],
   "source": [
    "#Variables numériques les plus corrélées avec le prix\n",
    "\n",
    "var_corr = df_num.corr()['Price']\n",
    "var = var_corr[abs(var_corr) > 0.2].sort_values(ascending=False)\n",
    "print(\"Voici les {} variables les plus fortement corrélées avec le prix par nuit (en ignorant la variable 'Price'):\\n{}\".format(len(var), var))"
   ]
  },
  {
   "attachments": {},
   "cell_type": "markdown",
   "id": "a6823825",
   "metadata": {},
   "source": [
    "Ainsi, les variables les plus corrélées au prix sont les frais de nettoyage, la capacité d'accueil, le nombre de chambres, de lits et de salles de bain, la caution, la superficie de l'appartement, le nombre d'invités inclus dans l'annonce de base, le nombre d'annonces de l'hôte, ainsi que l'arrondissement."
   ]
  },
  {
   "attachments": {},
   "cell_type": "markdown",
   "id": "7b506a4f-f9c2-4f92-bf0a-c27fe9e2242b",
   "metadata": {
    "tags": []
   },
   "source": [
    "### 1.1 Influence de la localisation"
   ]
  },
  {
   "cell_type": "code",
   "execution_count": 14,
   "id": "18f3e198-fa93-48ae-9ed7-94b995811334",
   "metadata": {},
   "outputs": [
    {
     "data": {
      "text/plain": [
       "Index(['Name', 'Space', 'Description', 'Neighborhood Overview', 'Notes',\n",
       "       'Transit', 'Access', 'Host ID', 'Host Since', 'Host Response Time',\n",
       "       'Host Response Rate', 'Host Total Listings Count', 'Street',\n",
       "       'Neighbourhood', 'Neighbourhood Cleansed', 'City', 'Zipcode',\n",
       "       'Latitude', 'Longitude', 'Property Type', 'Room Type', 'Accommodates',\n",
       "       'Bathrooms', 'Bedrooms', 'Beds', 'Bed Type', 'Amenities', 'Square Feet',\n",
       "       'Price', 'Security Deposit', 'Cleaning Fee', 'Guests Included',\n",
       "       'Extra People', 'Minimum Nights', 'Maximum Nights', 'Calendar Updated',\n",
       "       'Has Availability', 'Availability 30', 'Availability 60',\n",
       "       'Availability 90', 'Availability 365', 'Number of Reviews',\n",
       "       'Review Scores Rating', 'Review Scores Accuracy',\n",
       "       'Review Scores Cleanliness', 'Review Scores Checkin',\n",
       "       'Review Scores Communication', 'Review Scores Location',\n",
       "       'Review Scores Value', 'Cancellation Policy',\n",
       "       'Calculated host listings count', 'Reviews per Month', 'Geolocation'],\n",
       "      dtype='object')"
      ]
     },
     "execution_count": 14,
     "metadata": {},
     "output_type": "execute_result"
    }
   ],
   "source": [
    "df.columns"
   ]
  },
  {
   "attachments": {},
   "cell_type": "markdown",
   "id": "384411fa-13ef-4b19-b955-d0c8b2d56908",
   "metadata": {},
   "source": [
    "Après une rapide analyse, on se rend compte que la variable Neighbourhood Cleansed est moins précise que Neighbourhood\n",
    "(20 valeurs contre 64) mais elle semble éliminer certaines erreurs et doublons (par exemple, le quartier Cannesqui qui n'existe pas, le 15ème arrondissement qui groupe avec d'autre quartiers...). On utilisera donc cette variable là. "
   ]
  },
  {
   "cell_type": "code",
   "execution_count": 15,
   "id": "3e4cc1db-2bae-4588-88c5-e0264851fcd7",
   "metadata": {},
   "outputs": [
    {
     "data": {
      "text/plain": [
       "count                 54512\n",
       "unique                   20\n",
       "top       Buttes-Montmartre\n",
       "freq                   6315\n",
       "Name: Neighbourhood Cleansed, dtype: object"
      ]
     },
     "execution_count": 15,
     "metadata": {},
     "output_type": "execute_result"
    }
   ],
   "source": [
    "df['Neighbourhood Cleansed'].describe()"
   ]
  },
  {
   "cell_type": "code",
   "execution_count": 16,
   "id": "cbdc7949-d57b-479f-bc92-a194f37fdf54",
   "metadata": {},
   "outputs": [],
   "source": [
    "#On produit un tableau qui indique le nombre et le prix moyen des Airbnb par quartier\n",
    "df_nb = df.groupby('Neighbourhood Cleansed').agg({'Neighbourhood Cleansed':'count', 'Price':'mean'})\n",
    "df_nb.columns = ['count', 'mean_price']\n",
    "df_nb.reset_index(inplace=True)\n",
    "df_nb.sort_values('count', ascending=False, ignore_index=True, inplace=True)"
   ]
  },
  {
   "cell_type": "code",
   "execution_count": null,
   "id": "722038ba-31e2-4176-8cd8-3af81f677552",
   "metadata": {},
   "outputs": [],
   "source": [
    "df_nb"
   ]
  },
  {
   "attachments": {},
   "cell_type": "markdown",
   "id": "20e3f824-f220-4e17-b9d2-7d6d0e22abe5",
   "metadata": {},
   "source": [
    "On s'aperçoit donc que les prix varient fortement entre les différents quartiers de Paris. On s'intéresse désormais au prix par arrondissement, pour ensuite faire de la visualisation sur carte. "
   ]
  },
  {
   "cell_type": "code",
   "execution_count": 17,
   "id": "7a3a0158-ad96-47b4-8c55-e03f512f7b6b",
   "metadata": {},
   "outputs": [
    {
     "data": {
      "text/plain": [
       "array(['75018', '75004', '75003', '75017', nan, '75019', '75020', '75007',\n",
       "       '75015', '75006', '75010', '75009', '93300', '75012', '75011',\n",
       "       '75008', '75013', '75005', '75002', '75001', '75014', '75116',\n",
       "       '75016', '750018', '92130', '75', '75011\\n75011', 'Paris 75004',\n",
       "       '92300', '75000', '94250', '94160', '76016', '75011 PARIS',\n",
       "       '92100', '750109', '7015', '92240', '92200', 'adf', 'Paris',\n",
       "       '700014', '75 018', '93310', '75014\\n75014', 'Montmartre',\n",
       "       '750016', '075016', '93170', '75003\\n75003', '78005', '78008',\n",
       "       '75018e', '75106', '92170'], dtype=object)"
      ]
     },
     "execution_count": 17,
     "metadata": {},
     "output_type": "execute_result"
    }
   ],
   "source": [
    "#Toutes les valeurs prises par la variable Zipcode\n",
    "df['Zipcode'].unique()"
   ]
  },
  {
   "cell_type": "markdown",
   "id": "02ad8b8e-87a5-4f47-b4db-d9a4302e94d6",
   "metadata": {},
   "source": [
    "On remarque que il y a beaucoup d'imperfections sur cette variable, il faut donc la nettoyer : \n",
    "- enlever les Airbnb situés en banlieue (zipcode commencant par 92, 94, ...) \n",
    "- regrouper les 75018.0 et 75018 "
   ]
  },
  {
   "cell_type": "code",
   "execution_count": 18,
   "id": "d5299b1e-766a-40cb-b471-d44fef4d34d3",
   "metadata": {},
   "outputs": [],
   "source": [
    "#on créé la variable arrondissement, on lui donne la valeur 0 par défaut\n",
    "df['Arrondissement']=0"
   ]
  },
  {
   "cell_type": "code",
   "execution_count": 19,
   "id": "8dc62f02-e3f8-4c60-8f31-1d1fbe1e69a7",
   "metadata": {},
   "outputs": [],
   "source": [
    "#on attribue la bonne valeur à la variable arrondissement\n",
    "\n",
    "df.loc[df[\"Zipcode\"]==\"75001\", \"Arrondissement\"] = 1\n",
    "df.loc[df[\"Zipcode\"]==\"75001.0\", \"Arrondissement\"] = 1\n",
    "df.loc[df[\"Zipcode\"]==\"75002\", \"Arrondissement\"] = 2\n",
    "df.loc[df[\"Zipcode\"]==\"75002.0\", \"Arrondissement\"] = 1\n",
    "df.loc[df[\"Zipcode\"]==\"75003\", \"Arrondissement\"] = 3\n",
    "df.loc[df[\"Zipcode\"]==\"75003.0\", \"Arrondissement\"] = 3\n",
    "df.loc[df[\"Zipcode\"]==\"75004\", \"Arrondissement\"] = 4\n",
    "df.loc[df[\"Zipcode\"]==\"75004.0\", \"Arrondissement\"] = 4\n",
    "df.loc[df[\"Zipcode\"]==\"75005\", \"Arrondissement\"] = 5\n",
    "df.loc[df[\"Zipcode\"]==\"75005.0\", \"Arrondissement\"] = 5\n",
    "df.loc[df[\"Zipcode\"]==\"75006\", \"Arrondissement\"] = 6\n",
    "df.loc[df[\"Zipcode\"]==\"75006.0\", \"Arrondissement\"] = 6\n",
    "df.loc[df[\"Zipcode\"]==\"75007\", \"Arrondissement\"] = 7\n",
    "df.loc[df[\"Zipcode\"]==\"75007.0\", \"Arrondissement\"] = 7\n",
    "df.loc[df[\"Zipcode\"]==\"75008\", \"Arrondissement\"] = 8\n",
    "df.loc[df[\"Zipcode\"]==\"75008.0\", \"Arrondissement\"] = 8\n",
    "df.loc[df[\"Zipcode\"]==\"75009\", \"Arrondissement\"] = 9\n",
    "df.loc[df[\"Zipcode\"]==\"75009.0\", \"Arrondissement\"] = 9\n",
    "df.loc[df[\"Zipcode\"]==\"75010\", \"Arrondissement\"] = 10\n",
    "df.loc[df[\"Zipcode\"]==\"75010.0\", \"Arrondissement\"] = 10\n",
    "df.loc[df[\"Zipcode\"]==\"75011\", \"Arrondissement\"] = 11\n",
    "df.loc[df[\"Zipcode\"]==\"75011.0\", \"Arrondissement\"] = 11\n",
    "df.loc[df[\"Zipcode\"]==\"75012\", \"Arrondissement\"] = 12\n",
    "df.loc[df[\"Zipcode\"]==\"75012.0\", \"Arrondissement\"] = 12\n",
    "df.loc[df[\"Zipcode\"]==\"75013\", \"Arrondissement\"] = 13\n",
    "df.loc[df[\"Zipcode\"]==\"75013.0\", \"Arrondissement\"] = 13\n",
    "df.loc[df[\"Zipcode\"]==\"75014\", \"Arrondissement\"] = 14\n",
    "df.loc[df[\"Zipcode\"]==\"75014.0\", \"Arrondissement\"] = 14\n",
    "df.loc[df[\"Zipcode\"]==\"75015\", \"Arrondissement\"] = 15\n",
    "df.loc[df[\"Zipcode\"]==\"75015.0\", \"Arrondissement\"] = 15\n",
    "df.loc[df[\"Zipcode\"]==\"75016\", \"Arrondissement\"] = 16\n",
    "df.loc[df[\"Zipcode\"]==\"75016.0\", \"Arrondissement\"] = 16      \n",
    "df.loc[df[\"Zipcode\"]==\"75116\", \"Arrondissement\"] = 16\n",
    "df.loc[df[\"Zipcode\"]==\"75116.0\", \"Arrondissement\"] = 16               \n",
    "df.loc[df[\"Zipcode\"]==\"75017\", \"Arrondissement\"] = 17\n",
    "df.loc[df[\"Zipcode\"]==\"75017.0\", \"Arrondissement\"] = 17           \n",
    "df.loc[df[\"Zipcode\"]==\"75018\", \"Arrondissement\"] = 18\n",
    "df.loc[df[\"Zipcode\"]==\"75018.0\", \"Arrondissement\"] = 18    \n",
    "df.loc[df[\"Zipcode\"]==\"75019\", \"Arrondissement\"] = 19\n",
    "df.loc[df[\"Zipcode\"]==\"75019.0\", \"Arrondissement\"] = 19   \n",
    "df.loc[df[\"Zipcode\"]==\"75020\", \"Arrondissement\"] = 20\n",
    "df.loc[df[\"Zipcode\"]==\"75020.0\", \"Arrondissement\"] = 20 "
   ]
  },
  {
   "cell_type": "code",
   "execution_count": 20,
   "id": "380e2bd3-58ac-465c-a392-42ed6a7454ef",
   "metadata": {},
   "outputs": [
    {
     "data": {
      "text/plain": [
       "array([18,  4,  3, 17,  0, 19, 20,  7, 15,  6, 10,  9, 12, 11,  8, 13,  5,\n",
       "        2,  1, 14, 16], dtype=int64)"
      ]
     },
     "execution_count": 20,
     "metadata": {},
     "output_type": "execute_result"
    }
   ],
   "source": [
    "df['Arrondissement'].unique()"
   ]
  },
  {
   "cell_type": "code",
   "execution_count": 21,
   "id": "805c0721-e48e-409d-917d-e82b5d7cbbe4",
   "metadata": {},
   "outputs": [],
   "source": [
    "#on enlève tous les Airbnb qui n'ont pas été affectés à une valeur\n",
    "df = df[df['Arrondissement']> 0]"
   ]
  },
  {
   "attachments": {},
   "cell_type": "markdown",
   "id": "a7ad45c4-a810-47a0-a818-496d879624da",
   "metadata": {},
   "source": [
    "Commentaire : on avait auparavant 54513 lignes dans le dataframe, on en a désormais 53731, on a donc perdu 800 données en nettoyant la variable liée aux arrondissements. Cette perte n'est pas significative. "
   ]
  },
  {
   "cell_type": "code",
   "execution_count": 22,
   "id": "91b03494-f3bd-4f17-831b-a2b14fa97ad5",
   "metadata": {},
   "outputs": [],
   "source": [
    "#On affiche le nombre d'airbnb et le prix moyen des airbnb par arrondissement\n",
    "df_arr = df.groupby('Arrondissement').agg({'Arrondissement':'count', 'Price':'mean'})\n",
    "df_arr.columns = ['Count', 'Mean_price']\n",
    "df_arr.reset_index(inplace=True)\n",
    "df_arr.sort_values('Mean_price', ascending=False, ignore_index=True, inplace=True)"
   ]
  },
  {
   "cell_type": "code",
   "execution_count": 23,
   "id": "a0f6defa-5501-4d9d-898f-fa7f453dcf6d",
   "metadata": {},
   "outputs": [
    {
     "data": {
      "text/html": [
       "<div>\n",
       "<style scoped>\n",
       "    .dataframe tbody tr th:only-of-type {\n",
       "        vertical-align: middle;\n",
       "    }\n",
       "\n",
       "    .dataframe tbody tr th {\n",
       "        vertical-align: top;\n",
       "    }\n",
       "\n",
       "    .dataframe thead th {\n",
       "        text-align: right;\n",
       "    }\n",
       "</style>\n",
       "<table border=\"1\" class=\"dataframe\">\n",
       "  <thead>\n",
       "    <tr style=\"text-align: right;\">\n",
       "      <th></th>\n",
       "      <th>Arrondissement</th>\n",
       "      <th>Count</th>\n",
       "      <th>Mean_price</th>\n",
       "    </tr>\n",
       "  </thead>\n",
       "  <tbody>\n",
       "    <tr>\n",
       "      <th>0</th>\n",
       "      <td>8</td>\n",
       "      <td>1378</td>\n",
       "      <td>155.957571</td>\n",
       "    </tr>\n",
       "    <tr>\n",
       "      <th>1</th>\n",
       "      <td>6</td>\n",
       "      <td>1833</td>\n",
       "      <td>141.838798</td>\n",
       "    </tr>\n",
       "    <tr>\n",
       "      <th>2</th>\n",
       "      <td>1</td>\n",
       "      <td>1102</td>\n",
       "      <td>141.251589</td>\n",
       "    </tr>\n",
       "    <tr>\n",
       "      <th>3</th>\n",
       "      <td>7</td>\n",
       "      <td>1613</td>\n",
       "      <td>139.501863</td>\n",
       "    </tr>\n",
       "    <tr>\n",
       "      <th>4</th>\n",
       "      <td>4</td>\n",
       "      <td>1922</td>\n",
       "      <td>131.503904</td>\n",
       "    </tr>\n",
       "  </tbody>\n",
       "</table>\n",
       "</div>"
      ],
      "text/plain": [
       "   Arrondissement  Count  Mean_price\n",
       "0               8   1378  155.957571\n",
       "1               6   1833  141.838798\n",
       "2               1   1102  141.251589\n",
       "3               7   1613  139.501863\n",
       "4               4   1922  131.503904"
      ]
     },
     "execution_count": 23,
     "metadata": {},
     "output_type": "execute_result"
    }
   ],
   "source": [
    "df_arr.head()"
   ]
  },
  {
   "attachments": {},
   "cell_type": "markdown",
   "id": "26779262-598d-4fad-b01d-9451fa19ddff",
   "metadata": {},
   "source": [
    "On remarque que les arrondissements les plus chers de Paris sont le 8e, le 6e et le 1er. "
   ]
  },
  {
   "cell_type": "markdown",
   "id": "3dcec412-f87a-4ef2-976f-b44fc1be37cf",
   "metadata": {
    "jp-MarkdownHeadingCollapsed": true,
    "tags": []
   },
   "source": [
    "### 1.2 Disponbilité"
   ]
  },
  {
   "cell_type": "code",
   "execution_count": 24,
   "id": "eeea90df-4404-447d-adaa-71644845b499",
   "metadata": {},
   "outputs": [
    {
     "data": {
      "text/plain": [
       "Text(0, 0.5, 'Nombre')"
      ]
     },
     "execution_count": 24,
     "metadata": {},
     "output_type": "execute_result"
    },
    {
     "data": {
      "image/png": "[encoded data removed]",
      "text/plain": [
       "<Figure size 640x480 with 1 Axes>"
      ]
     },
     "metadata": {},
     "output_type": "display_data"
    }
   ],
   "source": [
    "sns.histplot(data=df[\"Availability 365\"],bins=int(50))\n",
    "plt.title('Histogramme du nombre de jours de disponibilité des Airbnb', weight='bold')\n",
    "plt.xlabel('Disponibilité (en jours)')\n",
    "plt.ylabel('Nombre')"
   ]
  },
  {
   "cell_type": "code",
   "execution_count": 25,
   "id": "88f74525-765f-45a6-a382-7d6cbf64088b",
   "metadata": {},
   "outputs": [
    {
     "data": {
      "text/plain": [
       "(12735, 22374, 14516)"
      ]
     },
     "execution_count": 25,
     "metadata": {},
     "output_type": "execute_result"
    }
   ],
   "source": [
    "a = len(df[df['Availability 365']>300])\n",
    "b = len(df[df['Availability 365']<60])\n",
    "c = len(df[df['Availability 365']==0])\n",
    "a,b,c"
   ]
  },
  {
   "attachments": {},
   "cell_type": "markdown",
   "id": "6289d49a-4b6e-40ab-bb5e-c2ba76d5cc5a",
   "metadata": {},
   "source": [
    "On remarque que près de la moitié des Airbnb sont loués moins de 60 jours par an, ce qui semble correspondre au concept de base de Airbnb - c'est à dire louer sa maison ou son appartement quand on est en vacances ou autre pour arrondir ses fins de mois. \n",
    "Cependant, on voit aussi que plus de 12 000 Airbnb sont loués plus de 300 jours par an. On observe donc que certaines personnes louent quasiment en continuité leur logement sur Airbnb pour de courtes périodes, alors qu'ils pourraient le louer sur des longues durées. On peut donc supposer qu'il est plus intéressant financièrement de louer son bien sur Airbnb que en agence par exemple."
   ]
  },
  {
   "cell_type": "markdown",
   "id": "a36033c2-f0d8-4b03-a9c0-ff2ad153de53",
   "metadata": {
    "jp-MarkdownHeadingCollapsed": true,
    "tags": []
   },
   "source": [
    "### 1.3 Influence de la taille du logement"
   ]
  },
  {
   "cell_type": "markdown",
   "id": "c47e20c2-7d5c-49c4-ad7f-1930d5f9dc8b",
   "metadata": {},
   "source": [
    "On a vu dans la matrice de corrélation que la \"taille\" du logement était fortement corrélée au prix ce qui semble logique. On peut faire quelques statistiques descriptives pour avoir un aperçu des différentes tailles de logement. "
   ]
  },
  {
   "cell_type": "code",
   "execution_count": 40,
   "id": "9187397d-8ab0-42de-baca-aaa8abbc05a8",
   "metadata": {},
   "outputs": [],
   "source": [
    "#On enlève les valeurs manquantes au niveau du nombre de salles de bain\n",
    "df = df[df['Bathrooms'].notnull()]"
   ]
  },
  {
   "attachments": {},
   "cell_type": "markdown",
   "id": "1c319f4d",
   "metadata": {},
   "source": [
    "Dans la partie modélisation, nous continuerons à enlever les lignes où il n'y a pas de données à propos du nombre de chambres, de lits, des frais de nettoyage, du dépôt de sécurité... Nous ne le faisons pas maintenant car cela ne laisse qu'environ 19000 lignes, et enlève des données essentielles pour l'analyse des reviews menée en partie 1.4."
   ]
  },
  {
   "cell_type": "code",
   "execution_count": 116,
   "id": "7b503294-d1cb-4147-bc47-9cb00d37119d",
   "metadata": {},
   "outputs": [
    {
     "data": {
      "text/plain": [
       "15281"
      ]
     },
     "execution_count": 116,
     "metadata": {},
     "output_type": "execute_result"
    }
   ],
   "source": [
    "#Nouveau data frame uniquement avec les airbnb où le nb de metres carrés est renseigné\n",
    "df_feet = df.loc[(df['Square Feet'] !=0)]\n",
    "len(df_feet)"
   ]
  },
  {
   "cell_type": "code",
   "execution_count": 42,
   "id": "15f1b4e1-032c-4693-91ee-35924237ffec",
   "metadata": {},
   "outputs": [
    {
     "data": {
      "text/plain": [
       "Text(0, 0.5, 'Quantité')"
      ]
     },
     "execution_count": 42,
     "metadata": {},
     "output_type": "execute_result"
    },
    {
     "data": {
      "image/png": "[encoded data removed]",
      "text/plain": [
       "<Figure size 500x500 with 1 Axes>"
      ]
     },
     "metadata": {},
     "output_type": "display_data"
    }
   ],
   "source": [
    "#Répartition du nombres de personnes que peuvent accueillir les Airbnb, pour savoir à quels types de logement on traite\n",
    "fig, ax = plt.subplots(figsize=(5, 5))\n",
    "sns.histplot(df_feet['Accommodates'], bins=int(40))\n",
    "plt.title ('Nombre de personnes que peuvent accueillir les airbnb', weight='bold')\n",
    "plt.xlabel('Nombre de personnes')\n",
    "plt.ylabel('Quantité')\n"
   ]
  },
  {
   "attachments": {},
   "cell_type": "markdown",
   "id": "78db9f92-0982-4907-9ac3-bb1a750454ff",
   "metadata": {},
   "source": [
    "La majorité des Airbnb accueillent 2 ou 4 personnes."
   ]
  },
  {
   "cell_type": "code",
   "execution_count": 43,
   "id": "eed656bd-4ca1-42af-ba90-4341ac2108db",
   "metadata": {},
   "outputs": [
    {
     "data": {
      "text/plain": [
       "count     1482.000000\n",
       "mean       544.098516\n",
       "std        654.072407\n",
       "min         11.000000\n",
       "25%        291.000000\n",
       "50%        431.000000\n",
       "75%        646.000000\n",
       "max      15059.000000\n",
       "Name: Square Feet, dtype: float64"
      ]
     },
     "execution_count": 43,
     "metadata": {},
     "output_type": "execute_result"
    }
   ],
   "source": [
    "df_feet['Square Feet'].describe()"
   ]
  },
  {
   "attachments": {},
   "cell_type": "markdown",
   "id": "6ca47a87-53b8-431f-8c38-5fbeaa639198",
   "metadata": {},
   "source": [
    "Commentaire : \n",
    "- il manque énormément de données sur les superficies : sur plus de 50 000 données à la base, on en a à peine 1500\n",
    "- Le maximum de surface est de 15000 square feet ce qui correspond à 1393m2, probablement un erreur de saisie donc on va enlever tous les logements ayant une superficie supérieure à 2500 square feet (soit 232m2)."
   ]
  },
  {
   "cell_type": "code",
   "execution_count": 44,
   "id": "4d15860a-4bbe-4bbd-9cb5-6cdd98eccb96",
   "metadata": {},
   "outputs": [],
   "source": [
    "df_feet = df_feet.loc[(df_feet['Square Feet'] < 2500)]"
   ]
  },
  {
   "cell_type": "code",
   "execution_count": 45,
   "id": "d83efad0-9705-40ac-bae5-9138882a4b74",
   "metadata": {},
   "outputs": [
    {
     "data": {
      "text/plain": [
       "Text(0, 0.5, 'Surface (en m2)')"
      ]
     },
     "execution_count": 45,
     "metadata": {},
     "output_type": "execute_result"
    },
    {
     "data": {
      "image/png": "[encoded data removed]",
      "text/plain": [
       "<Figure size 500x500 with 1 Axes>"
      ]
     },
     "metadata": {},
     "output_type": "display_data"
    }
   ],
   "source": [
    "fig, ax = plt.subplots(figsize=(5, 5))\n",
    "sns.histplot(data=df_feet['Square Feet'], kde=True, bins=int(80))\n",
    "plt.title ('Répartition de la surface des logements', weight='bold')\n",
    "plt.xlabel('Nombre')\n",
    "plt.ylabel('Surface (en m2)')"
   ]
  },
  {
   "attachments": {},
   "cell_type": "markdown",
   "id": "e5434b01-5eae-481a-a476-ff25bfb6fed1",
   "metadata": {},
   "source": [
    "A cause du nombre très important de données manquantes sur les surfaces des logements, on va désormais s'intéresser au nombre de chambres, de salles de bains, etc... qui sont également des bons indicateurs de la taille du logement.\n"
   ]
  },
  {
   "cell_type": "code",
   "execution_count": 46,
   "id": "e0c86b15-3fca-4312-8e1f-a4083620656c",
   "metadata": {},
   "outputs": [],
   "source": [
    "df['Bathrooms'] = df['Bathrooms'].astype(int)"
   ]
  },
  {
   "cell_type": "code",
   "execution_count": 47,
   "id": "4d9ab26e-8a77-4b9e-87a8-1eb1e984b9c5",
   "metadata": {},
   "outputs": [
    {
     "data": {
      "text/plain": [
       "array([1, 0, 3, 2, 4, 6, 7, 5, 8])"
      ]
     },
     "execution_count": 47,
     "metadata": {},
     "output_type": "execute_result"
    }
   ],
   "source": [
    "df['Bathrooms'].unique()"
   ]
  },
  {
   "cell_type": "code",
   "execution_count": 48,
   "id": "2f73fde0-3870-4c0f-a380-4f1254d56449",
   "metadata": {},
   "outputs": [
    {
     "data": {
      "text/plain": [
       "array([ 0.,  1.,  2.,  3.,  4.,  5., nan,  7.,  6., 10.,  8.])"
      ]
     },
     "execution_count": 48,
     "metadata": {},
     "output_type": "execute_result"
    }
   ],
   "source": [
    "df['Bedrooms'].unique()"
   ]
  },
  {
   "cell_type": "code",
   "execution_count": 49,
   "id": "f3d6489b-91c6-4ba3-bb84-1ade8e5ca609",
   "metadata": {},
   "outputs": [
    {
     "data": {
      "text/html": [
       "<div>\n",
       "<style scoped>\n",
       "    .dataframe tbody tr th:only-of-type {\n",
       "        vertical-align: middle;\n",
       "    }\n",
       "\n",
       "    .dataframe tbody tr th {\n",
       "        vertical-align: top;\n",
       "    }\n",
       "\n",
       "    .dataframe thead th {\n",
       "        text-align: right;\n",
       "    }\n",
       "</style>\n",
       "<table border=\"1\" class=\"dataframe\">\n",
       "  <thead>\n",
       "    <tr style=\"text-align: right;\">\n",
       "      <th></th>\n",
       "      <th>Bedrooms</th>\n",
       "      <th>count</th>\n",
       "    </tr>\n",
       "  </thead>\n",
       "  <tbody>\n",
       "    <tr>\n",
       "      <th>0</th>\n",
       "      <td>1.0</td>\n",
       "      <td>31801</td>\n",
       "    </tr>\n",
       "    <tr>\n",
       "      <th>1</th>\n",
       "      <td>0.0</td>\n",
       "      <td>11079</td>\n",
       "    </tr>\n",
       "    <tr>\n",
       "      <th>2</th>\n",
       "      <td>2.0</td>\n",
       "      <td>7849</td>\n",
       "    </tr>\n",
       "    <tr>\n",
       "      <th>3</th>\n",
       "      <td>3.0</td>\n",
       "      <td>2094</td>\n",
       "    </tr>\n",
       "    <tr>\n",
       "      <th>4</th>\n",
       "      <td>4.0</td>\n",
       "      <td>484</td>\n",
       "    </tr>\n",
       "    <tr>\n",
       "      <th>5</th>\n",
       "      <td>5.0</td>\n",
       "      <td>91</td>\n",
       "    </tr>\n",
       "    <tr>\n",
       "      <th>6</th>\n",
       "      <td>6.0</td>\n",
       "      <td>21</td>\n",
       "    </tr>\n",
       "    <tr>\n",
       "      <th>7</th>\n",
       "      <td>7.0</td>\n",
       "      <td>4</td>\n",
       "    </tr>\n",
       "    <tr>\n",
       "      <th>8</th>\n",
       "      <td>10.0</td>\n",
       "      <td>2</td>\n",
       "    </tr>\n",
       "    <tr>\n",
       "      <th>9</th>\n",
       "      <td>8.0</td>\n",
       "      <td>1</td>\n",
       "    </tr>\n",
       "  </tbody>\n",
       "</table>\n",
       "</div>"
      ],
      "text/plain": [
       "   Bedrooms  count\n",
       "0       1.0  31801\n",
       "1       0.0  11079\n",
       "2       2.0   7849\n",
       "3       3.0   2094\n",
       "4       4.0    484\n",
       "5       5.0     91\n",
       "6       6.0     21\n",
       "7       7.0      4\n",
       "8      10.0      2\n",
       "9       8.0      1"
      ]
     },
     "execution_count": 49,
     "metadata": {},
     "output_type": "execute_result"
    }
   ],
   "source": [
    "df_bed = df.groupby('Bedrooms').agg({'Bedrooms':'count'})\n",
    "df_bed.columns = ['count']\n",
    "df_bed.reset_index(inplace=True)\n",
    "df_bed.sort_values('count', ascending=False, ignore_index=True, inplace=True)\n",
    "df_bed"
   ]
  },
  {
   "cell_type": "code",
   "execution_count": 50,
   "id": "e0ed3819-e452-45d8-b9fe-b9b0c6a5e3ce",
   "metadata": {},
   "outputs": [
    {
     "data": {
      "text/html": [
       "<div>\n",
       "<style scoped>\n",
       "    .dataframe tbody tr th:only-of-type {\n",
       "        vertical-align: middle;\n",
       "    }\n",
       "\n",
       "    .dataframe tbody tr th {\n",
       "        vertical-align: top;\n",
       "    }\n",
       "\n",
       "    .dataframe thead th {\n",
       "        text-align: right;\n",
       "    }\n",
       "</style>\n",
       "<table border=\"1\" class=\"dataframe\">\n",
       "  <thead>\n",
       "    <tr style=\"text-align: right;\">\n",
       "      <th></th>\n",
       "      <th>Bathrooms</th>\n",
       "      <th>count</th>\n",
       "    </tr>\n",
       "  </thead>\n",
       "  <tbody>\n",
       "    <tr>\n",
       "      <th>0</th>\n",
       "      <td>1</td>\n",
       "      <td>49651</td>\n",
       "    </tr>\n",
       "    <tr>\n",
       "      <th>1</th>\n",
       "      <td>2</td>\n",
       "      <td>2914</td>\n",
       "    </tr>\n",
       "    <tr>\n",
       "      <th>2</th>\n",
       "      <td>0</td>\n",
       "      <td>538</td>\n",
       "    </tr>\n",
       "    <tr>\n",
       "      <th>3</th>\n",
       "      <td>3</td>\n",
       "      <td>308</td>\n",
       "    </tr>\n",
       "    <tr>\n",
       "      <th>4</th>\n",
       "      <td>4</td>\n",
       "      <td>59</td>\n",
       "    </tr>\n",
       "    <tr>\n",
       "      <th>5</th>\n",
       "      <td>6</td>\n",
       "      <td>30</td>\n",
       "    </tr>\n",
       "    <tr>\n",
       "      <th>6</th>\n",
       "      <td>5</td>\n",
       "      <td>22</td>\n",
       "    </tr>\n",
       "    <tr>\n",
       "      <th>7</th>\n",
       "      <td>7</td>\n",
       "      <td>13</td>\n",
       "    </tr>\n",
       "    <tr>\n",
       "      <th>8</th>\n",
       "      <td>8</td>\n",
       "      <td>12</td>\n",
       "    </tr>\n",
       "  </tbody>\n",
       "</table>\n",
       "</div>"
      ],
      "text/plain": [
       "   Bathrooms  count\n",
       "0          1  49651\n",
       "1          2   2914\n",
       "2          0    538\n",
       "3          3    308\n",
       "4          4     59\n",
       "5          6     30\n",
       "6          5     22\n",
       "7          7     13\n",
       "8          8     12"
      ]
     },
     "execution_count": 50,
     "metadata": {},
     "output_type": "execute_result"
    }
   ],
   "source": [
    "df_bath = df.groupby('Bathrooms').agg({'Bathrooms':'count'})\n",
    "df_bath.columns = ['count']\n",
    "df_bath.reset_index(inplace=True)\n",
    "df_bath.sort_values('count', ascending=False, ignore_index=True, inplace=True)\n",
    "df_bath"
   ]
  },
  {
   "attachments": {},
   "cell_type": "markdown",
   "id": "b1eda09e-06d1-494d-b19a-df5f07595dc9",
   "metadata": {},
   "source": [
    "Plus de 11 000 logements n'ont pas de chambre, on peut donc en déduire que ce sont des studios. La plus grande majorité des logements ont une unique salle de bain. "
   ]
  },
  {
   "cell_type": "code",
   "execution_count": 51,
   "id": "caeb0326-1cf4-44df-81e0-a5f4bad2df92",
   "metadata": {},
   "outputs": [
    {
     "data": {
      "text/plain": [
       "<matplotlib.legend.Legend at 0x1b78c34a910>"
      ]
     },
     "execution_count": 51,
     "metadata": {},
     "output_type": "execute_result"
    },
    {
     "data": {
      "image/png": "[encoded data removed]",
      "text/plain": [
       "<Figure size 1500x500 with 1 Axes>"
      ]
     },
     "metadata": {},
     "output_type": "display_data"
    }
   ],
   "source": [
    "fig, ax = plt.subplots(figsize=(15, 5))\n",
    "plt.hist([df[\"Bedrooms\"], df[\"Bathrooms\"]], label=['Nombre de chambres', 'Nombre de salles de bains'], edgecolor = 'white')\n",
    "plt.title(\"Histogramme du nombre de salles de bains et de chambres des Airbnb à Paris\",size=15, weight='bold')\n",
    "plt.legend()\n"
   ]
  },
  {
   "cell_type": "markdown",
   "id": "2a582c29-640e-429a-97c9-ce4471d47286",
   "metadata": {},
   "source": [
    "### 1.4 Les reviews"
   ]
  },
  {
   "cell_type": "code",
   "execution_count": null,
   "id": "19088fe5-abf5-438b-987e-c49e500cf6b7",
   "metadata": {},
   "outputs": [],
   "source": [
    "\n",
    "# On regarde la distribution sur les différentes notes données \n",
    "\n",
    "fig, ax = plt.subplots(2, 3)\n",
    "fig.tight_layout()\n",
    "\n",
    "ax[0, 0].hist(data[\"Review Scores Value\"]) #row=0, col=0\n",
    "ax[0, 0].set_title('Valeur')\n",
    "ax[1, 0].hist(data[\"Review Scores Accuracy\"]) #row=1, col=0\n",
    "ax[1, 0].set_title('Précision')\n",
    "ax[0, 1].hist(data[\"Review Scores Cleanliness\"]) #row=0, col=1\n",
    "ax[0, 1].set_title('Propreté')\n",
    "ax[1, 1].hist(data[\"Review Scores Communication\"]) #row=1, col=1\n",
    "ax[1, 1].set_title('Communication')\n",
    "ax[1, 2].hist(data[\"Review Scores Location\"]) #row=1, col=2\n",
    "ax[1, 2].set_title('Localisation')\n",
    "ax[0, 2].hist(data[\"Review Scores Rating\"]) #row=2, col=2\n",
    "ax[0, 2].set_title('Rating')\n",
    "plt.show()"
   ]
  },
  {
   "cell_type": "code",
   "execution_count": null,
   "id": "b7c4f128",
   "metadata": {},
   "outputs": [],
   "source": [
    "#On regarde le nombre d'offres qui n'ont pas de description \n",
    "data['Description'].isnull().sum()"
   ]
  },
  {
   "cell_type": "code",
   "execution_count": null,
   "id": "55c4f361",
   "metadata": {},
   "outputs": [],
   "source": [
    "# Si on ne veut pas fausser l'analyse textuelle et avoir un message d'erreur, il faut enlever les lignes qui correspondent à des valeur manquantes \n",
    "def transform(lst) :\n",
    "  return ([i for item in lst for i in item.lower().split()])\n",
    "full_reviews = transform(data['Description'].fillna(\"\"))"
   ]
  },
  {
   "attachments": {},
   "cell_type": "markdown",
   "id": "27014ee3",
   "metadata": {},
   "source": [
    "On peut maintenant s'intéresser à la fréquence des mots sur les descriptions d'appartements, dans le but de regarder le lien potentiel avec les prix des Airbnb\n"
   ]
  },
  {
   "cell_type": "code",
   "execution_count": null,
   "id": "6656f55d",
   "metadata": {},
   "outputs": [],
   "source": [
    "\n",
    "# Fréquence de mots\n",
    "\n",
    "nb_mots = collections.Counter(full_reviews) \n",
    "\n",
    "frq_mots = pd.DataFrame(nb_mots.most_common(8),\n",
    "                             columns=['mots', 'occurences'])\n",
    "\n",
    "frq_mots.head()\n"
   ]
  },
  {
   "cell_type": "markdown",
   "id": "3cf136c4",
   "metadata": {},
   "source": [
    "On obtient un résultat peu étonnant : les mots qui reviennent le plus sont des mots de liaison, des déterminants ou des conjonctions de coordination (« et »). \n",
    "Cependant, ces mots ne vont pas nous être utiles pour faire de l'analyse textuelle sur la qualité des descriptions. \n",
    "On va donc essayer d'enlever ces « stopwords », via la méthode vue en cours. "
   ]
  },
  {
   "cell_type": "code",
   "execution_count": null,
   "id": "a1e988d8",
   "metadata": {},
   "outputs": [],
   "source": [
    "nltk.download('stopwords')\n",
    "nltk.download('punkt')\n",
    "stop_words = set(stopwords.words(['french','english']))\n"
   ]
  },
  {
   "cell_type": "code",
   "execution_count": null,
   "id": "876774da",
   "metadata": {},
   "outputs": [],
   "source": [
    "# On ajoute des stop words à la liste initiale, qui était mal configurée \n",
    "\n",
    "new_stopwords = ['1', 'one', '2', 'two', 'deux', '3','4','5', '10', '-', ':', ',', 'tout', '!', '.', \"d'un\", 'rue', 'pied', 'min', 'also', 'Paris', 'paris', 'paris.','paris,', 'parisian', 'place', 'flat', 'floor', 'room', 'bed', 'lit', 'chambre', 'situé', 'logement', 'salle', 'appartement', \"l'appartement\", 'apartment', 'minutes', 'métro', 'metro', 'studio','kitchen']\n",
    "new_stopwords_list = stop_words.union(new_stopwords)\n",
    "\n",
    "print(new_stopwords_list)\n"
   ]
  },
  {
   "cell_type": "code",
   "execution_count": null,
   "id": "6db659e4",
   "metadata": {},
   "outputs": [],
   "source": [
    "\n",
    "mots_listing = [word for word in full_reviews if word not in new_stopwords_list]\n",
    "nb_mots_listing = collections.Counter(mots_listing)\n",
    "nb_mots_listing_df = pd.DataFrame(nb_mots_listing.most_common(33),\n",
    "                             columns=['words', 'count'])"
   ]
  },
  {
   "cell_type": "code",
   "execution_count": null,
   "id": "1f3f20d1",
   "metadata": {},
   "outputs": [],
   "source": [
    "fig, ax = plt.subplots(figsize=(10, 10))\n",
    "\n",
    "nb_mots_listing_df.sort_values(by='count').plot.barh(x='words',\n",
    "                      y='count',\n",
    "                      ax=ax,\n",
    "                      color=\"blue\")\n",
    "\n",
    "ax.set_title(\"Mots les plus fréquents\")\n",
    "\n",
    "plt.show()\n"
   ]
  },
  {
   "cell_type": "code",
   "execution_count": null,
   "id": "228bb374",
   "metadata": {},
   "outputs": [],
   "source": [
    "# Pour essayer de faire un nuage de mots ####continue d'essayer nadler, beliaive crois en tes rêves\n",
    "\n",
    "\n",
    "#conda install -c conda-forge wordcloud\n",
    "\n"
   ]
  },
  {
   "cell_type": "code",
   "execution_count": null,
   "id": "bbaae5aa",
   "metadata": {},
   "outputs": [],
   "source": []
  },
  {
   "attachments": {},
   "cell_type": "markdown",
   "id": "6e29b6e5",
   "metadata": {},
   "source": [
    "## Modélisation"
   ]
  },
  {
   "attachments": {},
   "cell_type": "markdown",
   "id": "273e4f96",
   "metadata": {},
   "source": [
    "Puisque les biens traités sont tous uniques, une valeur manquante concernant certaines variables (prix, du nombre de personnes accueillies, dépôt de sécurité...) ne peut pas être remplacée par une valeur moyenne ou médiane (\"imputing\"). On décide de supprimer les lignes si l'une des variables suivantes est manquante."
   ]
  },
  {
   "cell_type": "code",
   "execution_count": 52,
   "id": "56390d6c",
   "metadata": {},
   "outputs": [
    {
     "data": {
      "text/plain": [
       "Name                                  3\n",
       "Space                             16185\n",
       "Description                           7\n",
       "Neighborhood Overview             21289\n",
       "Notes                             36296\n",
       "Transit                           19009\n",
       "Access                            26061\n",
       "Host ID                               0\n",
       "Host Since                           11\n",
       "Host Response Time                17743\n",
       "Host Response Rate                17743\n",
       "Host Total Listings Count            11\n",
       "Street                                0\n",
       "Neighbourhood                      6827\n",
       "Neighbourhood Cleansed                0\n",
       "City                                  0\n",
       "Zipcode                               0\n",
       "Latitude                              0\n",
       "Longitude                             0\n",
       "Property Type                         0\n",
       "Room Type                             0\n",
       "Accommodates                          0\n",
       "Bathrooms                             0\n",
       "Bedrooms                            121\n",
       "Beds                                 22\n",
       "Bed Type                              0\n",
       "Amenities                           359\n",
       "Square Feet                       51495\n",
       "Price                                52\n",
       "Security Deposit                  23915\n",
       "Cleaning Fee                      19530\n",
       "Guests Included                       0\n",
       "Extra People                          0\n",
       "Minimum Nights                        0\n",
       "Maximum Nights                        0\n",
       "Calendar Updated                      0\n",
       "Has Availability                  53547\n",
       "Availability 30                       0\n",
       "Availability 60                       0\n",
       "Availability 90                       0\n",
       "Availability 365                      0\n",
       "Number of Reviews                     0\n",
       "Review Scores Rating              13909\n",
       "Review Scores Accuracy            14015\n",
       "Review Scores Cleanliness         13990\n",
       "Review Scores Checkin             14037\n",
       "Review Scores Communication       13995\n",
       "Review Scores Location            14027\n",
       "Review Scores Value               14034\n",
       "Cancellation Policy                   0\n",
       "Calculated host listings count        0\n",
       "Reviews per Month                 13140\n",
       "Geolocation                           0\n",
       "Arrondissement                        0\n",
       "dtype: int64"
      ]
     },
     "execution_count": 52,
     "metadata": {},
     "output_type": "execute_result"
    }
   ],
   "source": [
    "df.isnull().sum()"
   ]
  },
  {
   "cell_type": "code",
   "execution_count": 53,
   "id": "e2f17751",
   "metadata": {},
   "outputs": [
    {
     "name": "stdout",
     "output_type": "stream",
     "text": [
      "<class 'pandas.core.frame.DataFrame'>\n",
      "Int64Index: 53547 entries, 0 to 54512\n",
      "Data columns (total 54 columns):\n",
      " #   Column                          Non-Null Count  Dtype  \n",
      "---  ------                          --------------  -----  \n",
      " 0   Name                            53544 non-null  object \n",
      " 1   Space                           37362 non-null  object \n",
      " 2   Description                     53540 non-null  object \n",
      " 3   Neighborhood Overview           32258 non-null  object \n",
      " 4   Notes                           17251 non-null  object \n",
      " 5   Transit                         34538 non-null  object \n",
      " 6   Access                          27486 non-null  object \n",
      " 7   Host ID                         53547 non-null  int64  \n",
      " 8   Host Since                      53536 non-null  object \n",
      " 9   Host Response Time              35804 non-null  object \n",
      " 10  Host Response Rate              35804 non-null  float64\n",
      " 11  Host Total Listings Count       53536 non-null  float64\n",
      " 12  Street                          53547 non-null  object \n",
      " 13  Neighbourhood                   46720 non-null  object \n",
      " 14  Neighbourhood Cleansed          53547 non-null  object \n",
      " 15  City                            53547 non-null  object \n",
      " 16  Zipcode                         53547 non-null  object \n",
      " 17  Latitude                        53547 non-null  float64\n",
      " 18  Longitude                       53547 non-null  float64\n",
      " 19  Property Type                   53547 non-null  object \n",
      " 20  Room Type                       53547 non-null  object \n",
      " 21  Accommodates                    53547 non-null  int64  \n",
      " 22  Bathrooms                       53547 non-null  int32  \n",
      " 23  Bedrooms                        53426 non-null  float64\n",
      " 24  Beds                            53525 non-null  float64\n",
      " 25  Bed Type                        53547 non-null  object \n",
      " 26  Amenities                       53188 non-null  object \n",
      " 27  Square Feet                     2052 non-null   float64\n",
      " 28  Price                           53495 non-null  float64\n",
      " 29  Security Deposit                29632 non-null  float64\n",
      " 30  Cleaning Fee                    34017 non-null  float64\n",
      " 31  Guests Included                 53547 non-null  int64  \n",
      " 32  Extra People                    53547 non-null  int64  \n",
      " 33  Minimum Nights                  53547 non-null  int64  \n",
      " 34  Maximum Nights                  53547 non-null  int64  \n",
      " 35  Calendar Updated                53547 non-null  object \n",
      " 36  Has Availability                0 non-null      float64\n",
      " 37  Availability 30                 53547 non-null  int64  \n",
      " 38  Availability 60                 53547 non-null  int64  \n",
      " 39  Availability 90                 53547 non-null  int64  \n",
      " 40  Availability 365                53547 non-null  int64  \n",
      " 41  Number of Reviews               53547 non-null  int64  \n",
      " 42  Review Scores Rating            39638 non-null  float64\n",
      " 43  Review Scores Accuracy          39532 non-null  float64\n",
      " 44  Review Scores Cleanliness       39557 non-null  float64\n",
      " 45  Review Scores Checkin           39510 non-null  float64\n",
      " 46  Review Scores Communication     39552 non-null  float64\n",
      " 47  Review Scores Location          39520 non-null  float64\n",
      " 48  Review Scores Value             39513 non-null  float64\n",
      " 49  Cancellation Policy             53547 non-null  object \n",
      " 50  Calculated host listings count  53547 non-null  int64  \n",
      " 51  Reviews per Month               40407 non-null  float64\n",
      " 52  Geolocation                     53547 non-null  object \n",
      " 53  Arrondissement                  53547 non-null  int64  \n",
      "dtypes: float64(19), int32(1), int64(13), object(21)\n",
      "memory usage: 22.3+ MB\n"
     ]
    }
   ],
   "source": [
    "df.info()"
   ]
  },
  {
   "cell_type": "code",
   "execution_count": 54,
   "id": "c38470bd",
   "metadata": {},
   "outputs": [],
   "source": [
    "df = df[df['Cleaning Fee'].notnull()]\n",
    "df = df[df['Security Deposit'].notnull()]\n",
    "\n",
    "df = df[df['Bedrooms'].notnull()]\n",
    "df = df[df['Amenities'].notnull()]\n",
    "df = df[df['Review Scores Rating'].notnull()]\n",
    "df = df[df['Host Since'].notnull()]\n",
    "df = df[df['Host Response Time'].notnull()]"
   ]
  },
  {
   "cell_type": "code",
   "execution_count": 55,
   "id": "bb9ee774",
   "metadata": {},
   "outputs": [
    {
     "data": {
      "text/plain": [
       "Name                                  0\n",
       "Space                              2404\n",
       "Description                           2\n",
       "Neighborhood Overview              4306\n",
       "Notes                              8755\n",
       "Transit                            3713\n",
       "Access                             5839\n",
       "Host ID                               0\n",
       "Host Since                            0\n",
       "Host Response Time                    0\n",
       "Host Response Rate                    0\n",
       "Host Total Listings Count             0\n",
       "Street                                0\n",
       "Neighbourhood                      1805\n",
       "Neighbourhood Cleansed                0\n",
       "City                                  0\n",
       "Zipcode                               0\n",
       "Latitude                              0\n",
       "Longitude                             0\n",
       "Property Type                         0\n",
       "Room Type                             0\n",
       "Accommodates                          0\n",
       "Bathrooms                             0\n",
       "Bedrooms                              0\n",
       "Beds                                  2\n",
       "Bed Type                              0\n",
       "Amenities                             0\n",
       "Square Feet                       14643\n",
       "Price                                 1\n",
       "Security Deposit                      0\n",
       "Cleaning Fee                          0\n",
       "Guests Included                       0\n",
       "Extra People                          0\n",
       "Minimum Nights                        0\n",
       "Maximum Nights                        0\n",
       "Calendar Updated                      0\n",
       "Has Availability                  15508\n",
       "Availability 30                       0\n",
       "Availability 60                       0\n",
       "Availability 90                       0\n",
       "Availability 365                      0\n",
       "Number of Reviews                     0\n",
       "Review Scores Rating                  0\n",
       "Review Scores Accuracy               24\n",
       "Review Scores Cleanliness            19\n",
       "Review Scores Checkin                35\n",
       "Review Scores Communication          17\n",
       "Review Scores Location               31\n",
       "Review Scores Value                  36\n",
       "Cancellation Policy                   0\n",
       "Calculated host listings count        0\n",
       "Reviews per Month                     0\n",
       "Geolocation                           0\n",
       "Arrondissement                        0\n",
       "dtype: int64"
      ]
     },
     "execution_count": 55,
     "metadata": {},
     "output_type": "execute_result"
    }
   ],
   "source": [
    "df.isnull().sum()"
   ]
  },
  {
   "cell_type": "code",
   "execution_count": 56,
   "id": "241cd056",
   "metadata": {},
   "outputs": [
    {
     "name": "stdout",
     "output_type": "stream",
     "text": [
      "<class 'pandas.core.frame.DataFrame'>\n",
      "Int64Index: 15508 entries, 0 to 54508\n",
      "Data columns (total 54 columns):\n",
      " #   Column                          Non-Null Count  Dtype  \n",
      "---  ------                          --------------  -----  \n",
      " 0   Name                            15508 non-null  object \n",
      " 1   Space                           13104 non-null  object \n",
      " 2   Description                     15506 non-null  object \n",
      " 3   Neighborhood Overview           11202 non-null  object \n",
      " 4   Notes                           6753 non-null   object \n",
      " 5   Transit                         11795 non-null  object \n",
      " 6   Access                          9669 non-null   object \n",
      " 7   Host ID                         15508 non-null  int64  \n",
      " 8   Host Since                      15508 non-null  object \n",
      " 9   Host Response Time              15508 non-null  object \n",
      " 10  Host Response Rate              15508 non-null  float64\n",
      " 11  Host Total Listings Count       15508 non-null  float64\n",
      " 12  Street                          15508 non-null  object \n",
      " 13  Neighbourhood                   13703 non-null  object \n",
      " 14  Neighbourhood Cleansed          15508 non-null  object \n",
      " 15  City                            15508 non-null  object \n",
      " 16  Zipcode                         15508 non-null  object \n",
      " 17  Latitude                        15508 non-null  float64\n",
      " 18  Longitude                       15508 non-null  float64\n",
      " 19  Property Type                   15508 non-null  object \n",
      " 20  Room Type                       15508 non-null  object \n",
      " 21  Accommodates                    15508 non-null  int64  \n",
      " 22  Bathrooms                       15508 non-null  int32  \n",
      " 23  Bedrooms                        15508 non-null  float64\n",
      " 24  Beds                            15506 non-null  float64\n",
      " 25  Bed Type                        15508 non-null  object \n",
      " 26  Amenities                       15508 non-null  object \n",
      " 27  Square Feet                     865 non-null    float64\n",
      " 28  Price                           15507 non-null  float64\n",
      " 29  Security Deposit                15508 non-null  float64\n",
      " 30  Cleaning Fee                    15508 non-null  float64\n",
      " 31  Guests Included                 15508 non-null  int64  \n",
      " 32  Extra People                    15508 non-null  int64  \n",
      " 33  Minimum Nights                  15508 non-null  int64  \n",
      " 34  Maximum Nights                  15508 non-null  int64  \n",
      " 35  Calendar Updated                15508 non-null  object \n",
      " 36  Has Availability                0 non-null      float64\n",
      " 37  Availability 30                 15508 non-null  int64  \n",
      " 38  Availability 60                 15508 non-null  int64  \n",
      " 39  Availability 90                 15508 non-null  int64  \n",
      " 40  Availability 365                15508 non-null  int64  \n",
      " 41  Number of Reviews               15508 non-null  int64  \n",
      " 42  Review Scores Rating            15508 non-null  float64\n",
      " 43  Review Scores Accuracy          15484 non-null  float64\n",
      " 44  Review Scores Cleanliness       15489 non-null  float64\n",
      " 45  Review Scores Checkin           15473 non-null  float64\n",
      " 46  Review Scores Communication     15491 non-null  float64\n",
      " 47  Review Scores Location          15477 non-null  float64\n",
      " 48  Review Scores Value             15472 non-null  float64\n",
      " 49  Cancellation Policy             15508 non-null  object \n",
      " 50  Calculated host listings count  15508 non-null  int64  \n",
      " 51  Reviews per Month               15508 non-null  float64\n",
      " 52  Geolocation                     15508 non-null  object \n",
      " 53  Arrondissement                  15508 non-null  int64  \n",
      "dtypes: float64(19), int32(1), int64(13), object(21)\n",
      "memory usage: 6.4+ MB\n"
     ]
    }
   ],
   "source": [
    "df.info()"
   ]
  },
  {
   "attachments": {},
   "cell_type": "markdown",
   "id": "7ca1597f",
   "metadata": {},
   "source": [
    "Maintenant qu'il n'y a plus de valeurs manquantes pour des colonnes essentielles à notre modèle, nous allons transformer des variables qualitatives en variables quantitatives. Par exemple, la variable \"Cancellation Policy\" peut jouer un rôle très important dans la réservation d'un Airbnb - on aura plutôt tendance à favoriser un Airbnb avec des conditions d'annulation flexibles en cas d'imprévu."
   ]
  },
  {
   "attachments": {},
   "cell_type": "markdown",
   "id": "ebaccdb2",
   "metadata": {},
   "source": [
    "Après lecture des indications liées aux différents modes d'annulation et de remboursement, on décide d'attribuer un score entre 1 et 5 aux annonces ; 5 correspond à \"super_strict60\", qui laisse très peu de flexibilité aux clients, et 1 à \"flexible\", qui permet d'annuler jusqu'à 24h à l'avance sans frais."
   ]
  },
  {
   "attachments": {},
   "cell_type": "markdown",
   "id": "e76de159",
   "metadata": {},
   "source": [
    "Il n'y a aucune annonce correspondant à \"super_strict_60\", donc tous nos listings auront un score entre 1 et 4. On crée la nouvelle variable, puis on la fait correspondre aux politiques d'annulation."
   ]
  },
  {
   "cell_type": "code",
   "execution_count": 57,
   "id": "80a106b7",
   "metadata": {},
   "outputs": [],
   "source": [
    "df[\"Score Annulation\"] = 0"
   ]
  },
  {
   "cell_type": "code",
   "execution_count": 58,
   "id": "b6b0be30",
   "metadata": {},
   "outputs": [
    {
     "data": {
      "text/plain": [
       "array(['strict', 'moderate', 'flexible', 'super_strict_30'], dtype=object)"
      ]
     },
     "execution_count": 58,
     "metadata": {},
     "output_type": "execute_result"
    }
   ],
   "source": [
    "df[\"Cancellation Policy\"].unique()"
   ]
  },
  {
   "cell_type": "code",
   "execution_count": 59,
   "id": "d6f85e1b",
   "metadata": {},
   "outputs": [],
   "source": [
    "df.loc[df['Cancellation Policy']=='flexible', \"Score Annulation\"] = 1 \n",
    "df.loc[df['Cancellation Policy']=='moderate', \"Score Annulation\"] = 2\n",
    "df.loc[df['Cancellation Policy']=='strict', \"Score Annulation\"] = 3\n",
    "df.loc[df['Cancellation Policy']=='super_strict_30', \"Score Annulation\"] = 4 "
   ]
  },
  {
   "cell_type": "code",
   "execution_count": 60,
   "id": "9956853f",
   "metadata": {},
   "outputs": [
    {
     "data": {
      "text/html": [
       "<div>\n",
       "<style scoped>\n",
       "    .dataframe tbody tr th:only-of-type {\n",
       "        vertical-align: middle;\n",
       "    }\n",
       "\n",
       "    .dataframe tbody tr th {\n",
       "        vertical-align: top;\n",
       "    }\n",
       "\n",
       "    .dataframe thead th {\n",
       "        text-align: right;\n",
       "    }\n",
       "</style>\n",
       "<table border=\"1\" class=\"dataframe\">\n",
       "  <thead>\n",
       "    <tr style=\"text-align: right;\">\n",
       "      <th></th>\n",
       "      <th>Name</th>\n",
       "      <th>Space</th>\n",
       "      <th>Description</th>\n",
       "      <th>Neighborhood Overview</th>\n",
       "      <th>Notes</th>\n",
       "      <th>Transit</th>\n",
       "      <th>Access</th>\n",
       "      <th>Host ID</th>\n",
       "      <th>Host Since</th>\n",
       "      <th>Host Response Time</th>\n",
       "      <th>...</th>\n",
       "      <th>Review Scores Checkin</th>\n",
       "      <th>Review Scores Communication</th>\n",
       "      <th>Review Scores Location</th>\n",
       "      <th>Review Scores Value</th>\n",
       "      <th>Cancellation Policy</th>\n",
       "      <th>Calculated host listings count</th>\n",
       "      <th>Reviews per Month</th>\n",
       "      <th>Geolocation</th>\n",
       "      <th>Arrondissement</th>\n",
       "      <th>Score Annulation</th>\n",
       "    </tr>\n",
       "  </thead>\n",
       "  <tbody>\n",
       "    <tr>\n",
       "      <th>0</th>\n",
       "      <td>STUDIO PIGALLE W BALCONY</td>\n",
       "      <td>This newly refurbished flat is ideal for a cou...</td>\n",
       "      <td>In the heart of Montmarte Pigalle, this lovely...</td>\n",
       "      <td>It is central enough for you to walk your way ...</td>\n",
       "      <td>Real globetrotters, we are real Parisians with...</td>\n",
       "      <td>The flat is ideally located in Montmartre Piga...</td>\n",
       "      <td>Subway stations: Abbesses or Pigalle. Bus, Tax...</td>\n",
       "      <td>32492446</td>\n",
       "      <td>2015-05-03</td>\n",
       "      <td>within an hour</td>\n",
       "      <td>...</td>\n",
       "      <td>9.0</td>\n",
       "      <td>9.0</td>\n",
       "      <td>8.0</td>\n",
       "      <td>9.0</td>\n",
       "      <td>strict</td>\n",
       "      <td>7</td>\n",
       "      <td>1.84</td>\n",
       "      <td>48.88292573377615,2.3358125139068453</td>\n",
       "      <td>18</td>\n",
       "      <td>3</td>\n",
       "    </tr>\n",
       "    <tr>\n",
       "      <th>8</th>\n",
       "      <td>Montmartre-Metro Abbesses</td>\n",
       "      <td>Quartier bobo (bourgeois-bohème) où se rencont...</td>\n",
       "      <td>Petit logement pour 2 personnes (15m²-161 sq f...</td>\n",
       "      <td>L'appartement se situe à 180 mètres du métro A...</td>\n",
       "      <td>-----Internet free WIFI------ -----Bed linen a...</td>\n",
       "      <td>NaN</td>\n",
       "      <td>NaN</td>\n",
       "      <td>8272773</td>\n",
       "      <td>2013-08-20</td>\n",
       "      <td>within an hour</td>\n",
       "      <td>...</td>\n",
       "      <td>10.0</td>\n",
       "      <td>10.0</td>\n",
       "      <td>10.0</td>\n",
       "      <td>9.0</td>\n",
       "      <td>strict</td>\n",
       "      <td>3</td>\n",
       "      <td>3.35</td>\n",
       "      <td>48.884574794276794,2.3364623213623235</td>\n",
       "      <td>18</td>\n",
       "      <td>3</td>\n",
       "    </tr>\n",
       "    <tr>\n",
       "      <th>16</th>\n",
       "      <td>♥ Exotic Loft Montmartre + terrace !</td>\n",
       "      <td>Welcome to you! - Loft 80m² near Montmartre  -...</td>\n",
       "      <td>Exotic loft with a terrace of 35 m² at the foo...</td>\n",
       "      <td>Nearby you will find many shops for groceries,...</td>\n",
       "      <td>My wife Michelle and I Damien, pay attention t...</td>\n",
       "      <td>There are many bus lines and subway to anywher...</td>\n",
       "      <td>You have access to all the apartment and the t...</td>\n",
       "      <td>2829146</td>\n",
       "      <td>2012-07-04</td>\n",
       "      <td>within a day</td>\n",
       "      <td>...</td>\n",
       "      <td>10.0</td>\n",
       "      <td>10.0</td>\n",
       "      <td>9.0</td>\n",
       "      <td>9.0</td>\n",
       "      <td>strict</td>\n",
       "      <td>1</td>\n",
       "      <td>0.31</td>\n",
       "      <td>48.88581031428594,2.326678991449712</td>\n",
       "      <td>18</td>\n",
       "      <td>3</td>\n",
       "    </tr>\n",
       "    <tr>\n",
       "      <th>19</th>\n",
       "      <td>Cosy flat / Montmartre 10 min walk</td>\n",
       "      <td>The Sacré Coeur and the Abbesses street is 10 ...</td>\n",
       "      <td>The apartment is ideally located in Paris, at ...</td>\n",
       "      <td>The apartment is very well located for explori...</td>\n",
       "      <td>Suivant la saison et la durée de votre séjour,...</td>\n",
       "      <td>Located near the Simplon metro station (line 4...</td>\n",
       "      <td>At your disposal guides to Paris with all rele...</td>\n",
       "      <td>12382291</td>\n",
       "      <td>2014-02-19</td>\n",
       "      <td>within an hour</td>\n",
       "      <td>...</td>\n",
       "      <td>10.0</td>\n",
       "      <td>10.0</td>\n",
       "      <td>8.0</td>\n",
       "      <td>10.0</td>\n",
       "      <td>moderate</td>\n",
       "      <td>1</td>\n",
       "      <td>0.72</td>\n",
       "      <td>48.893635042498,2.3467555434390395</td>\n",
       "      <td>18</td>\n",
       "      <td>2</td>\n",
       "    </tr>\n",
       "    <tr>\n",
       "      <th>33</th>\n",
       "      <td>flat to rent these summer</td>\n",
       "      <td>My flat is located in Le marais nearby Place d...</td>\n",
       "      <td>I rent my flat these summer (july and august) ...</td>\n",
       "      <td>Le Marais is a nice area, full of old building...</td>\n",
       "      <td>- pas d'animaux svp</td>\n",
       "      <td>all transports facilities nearby To get here f...</td>\n",
       "      <td>we share the kitchen and bathroom while I rent...</td>\n",
       "      <td>13022412</td>\n",
       "      <td>2014-03-11</td>\n",
       "      <td>within an hour</td>\n",
       "      <td>...</td>\n",
       "      <td>10.0</td>\n",
       "      <td>10.0</td>\n",
       "      <td>10.0</td>\n",
       "      <td>9.0</td>\n",
       "      <td>moderate</td>\n",
       "      <td>2</td>\n",
       "      <td>1.50</td>\n",
       "      <td>48.852995466539134,2.36452620127334</td>\n",
       "      <td>4</td>\n",
       "      <td>2</td>\n",
       "    </tr>\n",
       "    <tr>\n",
       "      <th>...</th>\n",
       "      <td>...</td>\n",
       "      <td>...</td>\n",
       "      <td>...</td>\n",
       "      <td>...</td>\n",
       "      <td>...</td>\n",
       "      <td>...</td>\n",
       "      <td>...</td>\n",
       "      <td>...</td>\n",
       "      <td>...</td>\n",
       "      <td>...</td>\n",
       "      <td>...</td>\n",
       "      <td>...</td>\n",
       "      <td>...</td>\n",
       "      <td>...</td>\n",
       "      <td>...</td>\n",
       "      <td>...</td>\n",
       "      <td>...</td>\n",
       "      <td>...</td>\n",
       "      <td>...</td>\n",
       "      <td>...</td>\n",
       "      <td>...</td>\n",
       "    </tr>\n",
       "    <tr>\n",
       "      <th>54500</th>\n",
       "      <td>Cosy studio w/bath - Eiffel Tower</td>\n",
       "      <td>This small apartment has been completely renov...</td>\n",
       "      <td>Charming &amp; quiet place in the historical distr...</td>\n",
       "      <td>NaN</td>\n",
       "      <td>NaN</td>\n",
       "      <td>Metro Line 8 Metro Line 13 Rer station Invalid...</td>\n",
       "      <td>Possibilité parking aux Invalides (20€/jour)</td>\n",
       "      <td>13556685</td>\n",
       "      <td>2014-03-26</td>\n",
       "      <td>within an hour</td>\n",
       "      <td>...</td>\n",
       "      <td>10.0</td>\n",
       "      <td>10.0</td>\n",
       "      <td>10.0</td>\n",
       "      <td>10.0</td>\n",
       "      <td>strict</td>\n",
       "      <td>3</td>\n",
       "      <td>2.44</td>\n",
       "      <td>48.85845196408179,2.308919581602885</td>\n",
       "      <td>7</td>\n",
       "      <td>3</td>\n",
       "    </tr>\n",
       "    <tr>\n",
       "      <th>54504</th>\n",
       "      <td>Apt 60 m² balcony Champ de Mars Eiffel Tower</td>\n",
       "      <td>NaN</td>\n",
       "      <td>Charming apt - 60m² - near Champ de Mars - Eif...</td>\n",
       "      <td>NaN</td>\n",
       "      <td>Domestic equipment : nespresso, fridge, toaste...</td>\n",
       "      <td>Access : metros La Motte Piquet Grenelle (L.8,...</td>\n",
       "      <td>Full access apartment : Living room, bedroom, ...</td>\n",
       "      <td>33176005</td>\n",
       "      <td>2015-05-12</td>\n",
       "      <td>within a day</td>\n",
       "      <td>...</td>\n",
       "      <td>10.0</td>\n",
       "      <td>10.0</td>\n",
       "      <td>10.0</td>\n",
       "      <td>9.0</td>\n",
       "      <td>strict</td>\n",
       "      <td>1</td>\n",
       "      <td>1.13</td>\n",
       "      <td>48.852114527389666,2.2997429846960387</td>\n",
       "      <td>7</td>\n",
       "      <td>3</td>\n",
       "    </tr>\n",
       "    <tr>\n",
       "      <th>54506</th>\n",
       "      <td>Chic district, B&amp;B.</td>\n",
       "      <td>Nestled in a residential, safe and central are...</td>\n",
       "      <td>This beautiful 160 sq meter apartment is locat...</td>\n",
       "      <td>Located on the left bank of the Seine, it's on...</td>\n",
       "      <td>You can check-in between 14:00 pm and 22:00 pm...</td>\n",
       "      <td>I'll be happy to inform you about all transpor...</td>\n",
       "      <td>ACCESS Feel confortable to enjoy your snacks i...</td>\n",
       "      <td>19094239</td>\n",
       "      <td>2014-07-29</td>\n",
       "      <td>within an hour</td>\n",
       "      <td>...</td>\n",
       "      <td>10.0</td>\n",
       "      <td>10.0</td>\n",
       "      <td>10.0</td>\n",
       "      <td>10.0</td>\n",
       "      <td>moderate</td>\n",
       "      <td>4</td>\n",
       "      <td>0.96</td>\n",
       "      <td>48.847333757257786,2.3168425106941846</td>\n",
       "      <td>7</td>\n",
       "      <td>2</td>\n",
       "    </tr>\n",
       "    <tr>\n",
       "      <th>54507</th>\n",
       "      <td>Blvd St Germain - Orsay Museum</td>\n",
       "      <td>We are a family of antique dealers and interio...</td>\n",
       "      <td>Cosy and very quiet one bedroom apartment (sle...</td>\n",
       "      <td>The 7th district is one of the most exclusive ...</td>\n",
       "      <td>Our apartment has a king size bed but can be s...</td>\n",
       "      <td>The metro station Rue du Bac (line 12) and the...</td>\n",
       "      <td>Full usage of the apartment, TV, telephone, Wi...</td>\n",
       "      <td>6887970</td>\n",
       "      <td>2013-06-13</td>\n",
       "      <td>within an hour</td>\n",
       "      <td>...</td>\n",
       "      <td>10.0</td>\n",
       "      <td>10.0</td>\n",
       "      <td>10.0</td>\n",
       "      <td>9.0</td>\n",
       "      <td>flexible</td>\n",
       "      <td>1</td>\n",
       "      <td>0.83</td>\n",
       "      <td>48.85870242114693,2.3277856646519584</td>\n",
       "      <td>7</td>\n",
       "      <td>1</td>\n",
       "    </tr>\n",
       "    <tr>\n",
       "      <th>54508</th>\n",
       "      <td>Rue Cler at 500m from Eiffel Tower!</td>\n",
       "      <td>Ce logement se trouve au 2e étage et comporte ...</td>\n",
       "      <td>Logement très calme, ensoleillé, situé derrièr...</td>\n",
       "      <td>Quartier \"vivant\" aussi bien de jour comme de ...</td>\n",
       "      <td>NaN</td>\n",
       "      <td>Très proche du métro École militaire (Métro en...</td>\n",
       "      <td>NaN</td>\n",
       "      <td>13368008</td>\n",
       "      <td>2014-03-21</td>\n",
       "      <td>within a day</td>\n",
       "      <td>...</td>\n",
       "      <td>9.0</td>\n",
       "      <td>9.0</td>\n",
       "      <td>10.0</td>\n",
       "      <td>9.0</td>\n",
       "      <td>moderate</td>\n",
       "      <td>1</td>\n",
       "      <td>1.06</td>\n",
       "      <td>48.858121148036595,2.3060024345958587</td>\n",
       "      <td>7</td>\n",
       "      <td>2</td>\n",
       "    </tr>\n",
       "  </tbody>\n",
       "</table>\n",
       "<p>15508 rows × 55 columns</p>\n",
       "</div>"
      ],
      "text/plain": [
       "                                               Name  \\\n",
       "0                          STUDIO PIGALLE W BALCONY   \n",
       "8                         Montmartre-Metro Abbesses   \n",
       "16             ♥ Exotic Loft Montmartre + terrace !   \n",
       "19               Cosy flat / Montmartre 10 min walk   \n",
       "33                        flat to rent these summer   \n",
       "...                                             ...   \n",
       "54500             Cosy studio w/bath - Eiffel Tower   \n",
       "54504  Apt 60 m² balcony Champ de Mars Eiffel Tower   \n",
       "54506                           Chic district, B&B.   \n",
       "54507                Blvd St Germain - Orsay Museum   \n",
       "54508           Rue Cler at 500m from Eiffel Tower!   \n",
       "\n",
       "                                                   Space  \\\n",
       "0      This newly refurbished flat is ideal for a cou...   \n",
       "8      Quartier bobo (bourgeois-bohème) où se rencont...   \n",
       "16     Welcome to you! - Loft 80m² near Montmartre  -...   \n",
       "19     The Sacré Coeur and the Abbesses street is 10 ...   \n",
       "33     My flat is located in Le marais nearby Place d...   \n",
       "...                                                  ...   \n",
       "54500  This small apartment has been completely renov...   \n",
       "54504                                                NaN   \n",
       "54506  Nestled in a residential, safe and central are...   \n",
       "54507  We are a family of antique dealers and interio...   \n",
       "54508  Ce logement se trouve au 2e étage et comporte ...   \n",
       "\n",
       "                                             Description  \\\n",
       "0      In the heart of Montmarte Pigalle, this lovely...   \n",
       "8      Petit logement pour 2 personnes (15m²-161 sq f...   \n",
       "16     Exotic loft with a terrace of 35 m² at the foo...   \n",
       "19     The apartment is ideally located in Paris, at ...   \n",
       "33     I rent my flat these summer (july and august) ...   \n",
       "...                                                  ...   \n",
       "54500  Charming & quiet place in the historical distr...   \n",
       "54504  Charming apt - 60m² - near Champ de Mars - Eif...   \n",
       "54506  This beautiful 160 sq meter apartment is locat...   \n",
       "54507  Cosy and very quiet one bedroom apartment (sle...   \n",
       "54508  Logement très calme, ensoleillé, situé derrièr...   \n",
       "\n",
       "                                   Neighborhood Overview  \\\n",
       "0      It is central enough for you to walk your way ...   \n",
       "8      L'appartement se situe à 180 mètres du métro A...   \n",
       "16     Nearby you will find many shops for groceries,...   \n",
       "19     The apartment is very well located for explori...   \n",
       "33     Le Marais is a nice area, full of old building...   \n",
       "...                                                  ...   \n",
       "54500                                                NaN   \n",
       "54504                                                NaN   \n",
       "54506  Located on the left bank of the Seine, it's on...   \n",
       "54507  The 7th district is one of the most exclusive ...   \n",
       "54508  Quartier \"vivant\" aussi bien de jour comme de ...   \n",
       "\n",
       "                                                   Notes  \\\n",
       "0      Real globetrotters, we are real Parisians with...   \n",
       "8      -----Internet free WIFI------ -----Bed linen a...   \n",
       "16     My wife Michelle and I Damien, pay attention t...   \n",
       "19     Suivant la saison et la durée de votre séjour,...   \n",
       "33                                   - pas d'animaux svp   \n",
       "...                                                  ...   \n",
       "54500                                                NaN   \n",
       "54504  Domestic equipment : nespresso, fridge, toaste...   \n",
       "54506  You can check-in between 14:00 pm and 22:00 pm...   \n",
       "54507  Our apartment has a king size bed but can be s...   \n",
       "54508                                                NaN   \n",
       "\n",
       "                                                 Transit  \\\n",
       "0      The flat is ideally located in Montmartre Piga...   \n",
       "8                                                    NaN   \n",
       "16     There are many bus lines and subway to anywher...   \n",
       "19     Located near the Simplon metro station (line 4...   \n",
       "33     all transports facilities nearby To get here f...   \n",
       "...                                                  ...   \n",
       "54500  Metro Line 8 Metro Line 13 Rer station Invalid...   \n",
       "54504  Access : metros La Motte Piquet Grenelle (L.8,...   \n",
       "54506  I'll be happy to inform you about all transpor...   \n",
       "54507  The metro station Rue du Bac (line 12) and the...   \n",
       "54508  Très proche du métro École militaire (Métro en...   \n",
       "\n",
       "                                                  Access   Host ID  \\\n",
       "0      Subway stations: Abbesses or Pigalle. Bus, Tax...  32492446   \n",
       "8                                                    NaN   8272773   \n",
       "16     You have access to all the apartment and the t...   2829146   \n",
       "19     At your disposal guides to Paris with all rele...  12382291   \n",
       "33     we share the kitchen and bathroom while I rent...  13022412   \n",
       "...                                                  ...       ...   \n",
       "54500       Possibilité parking aux Invalides (20€/jour)  13556685   \n",
       "54504  Full access apartment : Living room, bedroom, ...  33176005   \n",
       "54506  ACCESS Feel confortable to enjoy your snacks i...  19094239   \n",
       "54507  Full usage of the apartment, TV, telephone, Wi...   6887970   \n",
       "54508                                                NaN  13368008   \n",
       "\n",
       "       Host Since Host Response Time  ...  Review Scores Checkin  \\\n",
       "0      2015-05-03     within an hour  ...                    9.0   \n",
       "8      2013-08-20     within an hour  ...                   10.0   \n",
       "16     2012-07-04       within a day  ...                   10.0   \n",
       "19     2014-02-19     within an hour  ...                   10.0   \n",
       "33     2014-03-11     within an hour  ...                   10.0   \n",
       "...           ...                ...  ...                    ...   \n",
       "54500  2014-03-26     within an hour  ...                   10.0   \n",
       "54504  2015-05-12       within a day  ...                   10.0   \n",
       "54506  2014-07-29     within an hour  ...                   10.0   \n",
       "54507  2013-06-13     within an hour  ...                   10.0   \n",
       "54508  2014-03-21       within a day  ...                    9.0   \n",
       "\n",
       "       Review Scores Communication Review Scores Location Review Scores Value  \\\n",
       "0                              9.0                    8.0                 9.0   \n",
       "8                             10.0                   10.0                 9.0   \n",
       "16                            10.0                    9.0                 9.0   \n",
       "19                            10.0                    8.0                10.0   \n",
       "33                            10.0                   10.0                 9.0   \n",
       "...                            ...                    ...                 ...   \n",
       "54500                         10.0                   10.0                10.0   \n",
       "54504                         10.0                   10.0                 9.0   \n",
       "54506                         10.0                   10.0                10.0   \n",
       "54507                         10.0                   10.0                 9.0   \n",
       "54508                          9.0                   10.0                 9.0   \n",
       "\n",
       "      Cancellation Policy Calculated host listings count Reviews per Month  \\\n",
       "0                  strict                              7              1.84   \n",
       "8                  strict                              3              3.35   \n",
       "16                 strict                              1              0.31   \n",
       "19               moderate                              1              0.72   \n",
       "33               moderate                              2              1.50   \n",
       "...                   ...                            ...               ...   \n",
       "54500              strict                              3              2.44   \n",
       "54504              strict                              1              1.13   \n",
       "54506            moderate                              4              0.96   \n",
       "54507            flexible                              1              0.83   \n",
       "54508            moderate                              1              1.06   \n",
       "\n",
       "                                 Geolocation  Arrondissement Score Annulation  \n",
       "0       48.88292573377615,2.3358125139068453              18                3  \n",
       "8      48.884574794276794,2.3364623213623235              18                3  \n",
       "16       48.88581031428594,2.326678991449712              18                3  \n",
       "19        48.893635042498,2.3467555434390395              18                2  \n",
       "33       48.852995466539134,2.36452620127334               4                2  \n",
       "...                                      ...             ...              ...  \n",
       "54500    48.85845196408179,2.308919581602885               7                3  \n",
       "54504  48.852114527389666,2.2997429846960387               7                3  \n",
       "54506  48.847333757257786,2.3168425106941846               7                2  \n",
       "54507   48.85870242114693,2.3277856646519584               7                1  \n",
       "54508  48.858121148036595,2.3060024345958587               7                2  \n",
       "\n",
       "[15508 rows x 55 columns]"
      ]
     },
     "execution_count": 60,
     "metadata": {},
     "output_type": "execute_result"
    }
   ],
   "source": [
    "df"
   ]
  },
  {
   "attachments": {},
   "cell_type": "markdown",
   "id": "1efdf4b0",
   "metadata": {},
   "source": [
    "De même, on crée une variable numérique Réactivité qui correspond à la qualité de \"Host Response Time\" ; plus l'hôte répond rapidement, plus le score est bas."
   ]
  },
  {
   "cell_type": "code",
   "execution_count": 61,
   "id": "96936fb3",
   "metadata": {},
   "outputs": [],
   "source": [
    "df[\"Reactivite\"] = 0"
   ]
  },
  {
   "cell_type": "code",
   "execution_count": 62,
   "id": "27ce1b00",
   "metadata": {},
   "outputs": [
    {
     "data": {
      "text/plain": [
       "array(['within an hour', 'within a day', 'within a few hours',\n",
       "       'a few days or more'], dtype=object)"
      ]
     },
     "execution_count": 62,
     "metadata": {},
     "output_type": "execute_result"
    }
   ],
   "source": [
    "df[\"Host Response Time\"].unique()"
   ]
  },
  {
   "cell_type": "code",
   "execution_count": 63,
   "id": "89d541d9",
   "metadata": {},
   "outputs": [],
   "source": [
    "df.loc[df['Host Response Time']=='within an hour', \"Reactivite\"] = 1 \n",
    "df.loc[df['Host Response Time']=='within a few hours', \"Reactivite\"] = 2\n",
    "df.loc[df['Host Response Time']=='within a day', \"Reactivite\"] = 3\n",
    "df.loc[df['Host Response Time']=='a few days or more', \"Reactivite\"] = 4 "
   ]
  },
  {
   "attachments": {},
   "cell_type": "markdown",
   "id": "035228b2",
   "metadata": {},
   "source": [
    "Enfin, on crée une variable \"Popu Arrondissement\" qui correspond au nombre d'annonces par arrondissement ; en effet, cette variable peut influencer le prix d'une annonce et aussi favoriser une réservation par rapport à une autre annonce."
   ]
  },
  {
   "cell_type": "code",
   "execution_count": 64,
   "id": "b3a4a49a",
   "metadata": {},
   "outputs": [],
   "source": [
    "df[\"Popu Arrondissement\"]=0"
   ]
  },
  {
   "cell_type": "code",
   "execution_count": 65,
   "id": "fe9b2bcf",
   "metadata": {},
   "outputs": [
    {
     "data": {
      "text/plain": [
       "array([18,  4, 17, 19, 15,  7,  9, 10, 12, 11,  8, 13,  6,  5,  1,  3, 20,\n",
       "        2, 14, 16], dtype=int64)"
      ]
     },
     "execution_count": 65,
     "metadata": {},
     "output_type": "execute_result"
    }
   ],
   "source": [
    "df['Arrondissement'].unique()"
   ]
  },
  {
   "cell_type": "code",
   "execution_count": 84,
   "id": "33a51cdd",
   "metadata": {},
   "outputs": [
    {
     "data": {
      "text/html": [
       "<div>\n",
       "<style scoped>\n",
       "    .dataframe tbody tr th:only-of-type {\n",
       "        vertical-align: middle;\n",
       "    }\n",
       "\n",
       "    .dataframe tbody tr th {\n",
       "        vertical-align: top;\n",
       "    }\n",
       "\n",
       "    .dataframe thead th {\n",
       "        text-align: right;\n",
       "    }\n",
       "</style>\n",
       "<table border=\"1\" class=\"dataframe\">\n",
       "  <thead>\n",
       "    <tr style=\"text-align: right;\">\n",
       "      <th></th>\n",
       "      <th>Arrondissement</th>\n",
       "    </tr>\n",
       "    <tr>\n",
       "      <th>Arrondissement</th>\n",
       "      <th></th>\n",
       "    </tr>\n",
       "  </thead>\n",
       "  <tbody>\n",
       "    <tr>\n",
       "      <th>1</th>\n",
       "      <td>487</td>\n",
       "    </tr>\n",
       "    <tr>\n",
       "      <th>2</th>\n",
       "      <td>692</td>\n",
       "    </tr>\n",
       "    <tr>\n",
       "      <th>3</th>\n",
       "      <td>887</td>\n",
       "    </tr>\n",
       "    <tr>\n",
       "      <th>4</th>\n",
       "      <td>808</td>\n",
       "    </tr>\n",
       "    <tr>\n",
       "      <th>5</th>\n",
       "      <td>685</td>\n",
       "    </tr>\n",
       "    <tr>\n",
       "      <th>6</th>\n",
       "      <td>736</td>\n",
       "    </tr>\n",
       "    <tr>\n",
       "      <th>7</th>\n",
       "      <td>583</td>\n",
       "    </tr>\n",
       "    <tr>\n",
       "      <th>8</th>\n",
       "      <td>465</td>\n",
       "    </tr>\n",
       "    <tr>\n",
       "      <th>9</th>\n",
       "      <td>656</td>\n",
       "    </tr>\n",
       "    <tr>\n",
       "      <th>10</th>\n",
       "      <td>1110</td>\n",
       "    </tr>\n",
       "    <tr>\n",
       "      <th>11</th>\n",
       "      <td>1494</td>\n",
       "    </tr>\n",
       "    <tr>\n",
       "      <th>12</th>\n",
       "      <td>485</td>\n",
       "    </tr>\n",
       "    <tr>\n",
       "      <th>13</th>\n",
       "      <td>400</td>\n",
       "    </tr>\n",
       "    <tr>\n",
       "      <th>14</th>\n",
       "      <td>522</td>\n",
       "    </tr>\n",
       "    <tr>\n",
       "      <th>15</th>\n",
       "      <td>1066</td>\n",
       "    </tr>\n",
       "    <tr>\n",
       "      <th>16</th>\n",
       "      <td>739</td>\n",
       "    </tr>\n",
       "    <tr>\n",
       "      <th>17</th>\n",
       "      <td>885</td>\n",
       "    </tr>\n",
       "    <tr>\n",
       "      <th>18</th>\n",
       "      <td>1577</td>\n",
       "    </tr>\n",
       "    <tr>\n",
       "      <th>19</th>\n",
       "      <td>580</td>\n",
       "    </tr>\n",
       "    <tr>\n",
       "      <th>20</th>\n",
       "      <td>651</td>\n",
       "    </tr>\n",
       "  </tbody>\n",
       "</table>\n",
       "</div>"
      ],
      "text/plain": [
       "                Arrondissement\n",
       "Arrondissement                \n",
       "1                          487\n",
       "2                          692\n",
       "3                          887\n",
       "4                          808\n",
       "5                          685\n",
       "6                          736\n",
       "7                          583\n",
       "8                          465\n",
       "9                          656\n",
       "10                        1110\n",
       "11                        1494\n",
       "12                         485\n",
       "13                         400\n",
       "14                         522\n",
       "15                        1066\n",
       "16                         739\n",
       "17                         885\n",
       "18                        1577\n",
       "19                         580\n",
       "20                         651"
      ]
     },
     "execution_count": 84,
     "metadata": {},
     "output_type": "execute_result"
    }
   ],
   "source": [
    "listepopu = df.groupby(['Arrondissement']).agg({'Arrondissement':'count'})\n",
    "listepopu\n"
   ]
  },
  {
   "cell_type": "code",
   "execution_count": 96,
   "id": "bc3a4df5",
   "metadata": {},
   "outputs": [],
   "source": [
    "df['Popu Arrondissement'] = df['Arrondissement'].groupby(df['Arrondissement']).transform('count')"
   ]
  },
  {
   "cell_type": "code",
   "execution_count": null,
   "id": "71c8ca3e",
   "metadata": {},
   "outputs": [
    {
     "data": {
      "text/plain": [
       "array([1577,  808,  885,  580, 1066,  583,  656, 1110,  485, 1494,  465,\n",
       "        400,  736,  685,  487,  887,  651,  692,  522,  739], dtype=int64)"
      ]
     },
     "metadata": {},
     "output_type": "display_data"
    }
   ],
   "source": [
    "df['Popu Arrondissement'].unique()"
   ]
  },
  {
   "cell_type": "code",
   "execution_count": 97,
   "id": "a78ab5d0",
   "metadata": {},
   "outputs": [
    {
     "data": {
      "text/html": [
       "<div>\n",
       "<style scoped>\n",
       "    .dataframe tbody tr th:only-of-type {\n",
       "        vertical-align: middle;\n",
       "    }\n",
       "\n",
       "    .dataframe tbody tr th {\n",
       "        vertical-align: top;\n",
       "    }\n",
       "\n",
       "    .dataframe thead th {\n",
       "        text-align: right;\n",
       "    }\n",
       "</style>\n",
       "<table border=\"1\" class=\"dataframe\">\n",
       "  <thead>\n",
       "    <tr style=\"text-align: right;\">\n",
       "      <th></th>\n",
       "      <th>Name</th>\n",
       "      <th>Space</th>\n",
       "      <th>Description</th>\n",
       "      <th>Neighborhood Overview</th>\n",
       "      <th>Notes</th>\n",
       "      <th>Transit</th>\n",
       "      <th>Access</th>\n",
       "      <th>Host ID</th>\n",
       "      <th>Host Since</th>\n",
       "      <th>Host Response Time</th>\n",
       "      <th>...</th>\n",
       "      <th>Review Scores Location</th>\n",
       "      <th>Review Scores Value</th>\n",
       "      <th>Cancellation Policy</th>\n",
       "      <th>Calculated host listings count</th>\n",
       "      <th>Reviews per Month</th>\n",
       "      <th>Geolocation</th>\n",
       "      <th>Arrondissement</th>\n",
       "      <th>Score Annulation</th>\n",
       "      <th>Reactivite</th>\n",
       "      <th>Popu Arrondissement</th>\n",
       "    </tr>\n",
       "  </thead>\n",
       "  <tbody>\n",
       "    <tr>\n",
       "      <th>0</th>\n",
       "      <td>STUDIO PIGALLE W BALCONY</td>\n",
       "      <td>This newly refurbished flat is ideal for a cou...</td>\n",
       "      <td>In the heart of Montmarte Pigalle, this lovely...</td>\n",
       "      <td>It is central enough for you to walk your way ...</td>\n",
       "      <td>Real globetrotters, we are real Parisians with...</td>\n",
       "      <td>The flat is ideally located in Montmartre Piga...</td>\n",
       "      <td>Subway stations: Abbesses or Pigalle. Bus, Tax...</td>\n",
       "      <td>32492446</td>\n",
       "      <td>2015-05-03</td>\n",
       "      <td>within an hour</td>\n",
       "      <td>...</td>\n",
       "      <td>8.0</td>\n",
       "      <td>9.0</td>\n",
       "      <td>strict</td>\n",
       "      <td>7</td>\n",
       "      <td>1.84</td>\n",
       "      <td>48.88292573377615,2.3358125139068453</td>\n",
       "      <td>18</td>\n",
       "      <td>3</td>\n",
       "      <td>1</td>\n",
       "      <td>1577</td>\n",
       "    </tr>\n",
       "    <tr>\n",
       "      <th>8</th>\n",
       "      <td>Montmartre-Metro Abbesses</td>\n",
       "      <td>Quartier bobo (bourgeois-bohème) où se rencont...</td>\n",
       "      <td>Petit logement pour 2 personnes (15m²-161 sq f...</td>\n",
       "      <td>L'appartement se situe à 180 mètres du métro A...</td>\n",
       "      <td>-----Internet free WIFI------ -----Bed linen a...</td>\n",
       "      <td>NaN</td>\n",
       "      <td>NaN</td>\n",
       "      <td>8272773</td>\n",
       "      <td>2013-08-20</td>\n",
       "      <td>within an hour</td>\n",
       "      <td>...</td>\n",
       "      <td>10.0</td>\n",
       "      <td>9.0</td>\n",
       "      <td>strict</td>\n",
       "      <td>3</td>\n",
       "      <td>3.35</td>\n",
       "      <td>48.884574794276794,2.3364623213623235</td>\n",
       "      <td>18</td>\n",
       "      <td>3</td>\n",
       "      <td>1</td>\n",
       "      <td>1577</td>\n",
       "    </tr>\n",
       "    <tr>\n",
       "      <th>16</th>\n",
       "      <td>♥ Exotic Loft Montmartre + terrace !</td>\n",
       "      <td>Welcome to you! - Loft 80m² near Montmartre  -...</td>\n",
       "      <td>Exotic loft with a terrace of 35 m² at the foo...</td>\n",
       "      <td>Nearby you will find many shops for groceries,...</td>\n",
       "      <td>My wife Michelle and I Damien, pay attention t...</td>\n",
       "      <td>There are many bus lines and subway to anywher...</td>\n",
       "      <td>You have access to all the apartment and the t...</td>\n",
       "      <td>2829146</td>\n",
       "      <td>2012-07-04</td>\n",
       "      <td>within a day</td>\n",
       "      <td>...</td>\n",
       "      <td>9.0</td>\n",
       "      <td>9.0</td>\n",
       "      <td>strict</td>\n",
       "      <td>1</td>\n",
       "      <td>0.31</td>\n",
       "      <td>48.88581031428594,2.326678991449712</td>\n",
       "      <td>18</td>\n",
       "      <td>3</td>\n",
       "      <td>3</td>\n",
       "      <td>1577</td>\n",
       "    </tr>\n",
       "    <tr>\n",
       "      <th>19</th>\n",
       "      <td>Cosy flat / Montmartre 10 min walk</td>\n",
       "      <td>The Sacré Coeur and the Abbesses street is 10 ...</td>\n",
       "      <td>The apartment is ideally located in Paris, at ...</td>\n",
       "      <td>The apartment is very well located for explori...</td>\n",
       "      <td>Suivant la saison et la durée de votre séjour,...</td>\n",
       "      <td>Located near the Simplon metro station (line 4...</td>\n",
       "      <td>At your disposal guides to Paris with all rele...</td>\n",
       "      <td>12382291</td>\n",
       "      <td>2014-02-19</td>\n",
       "      <td>within an hour</td>\n",
       "      <td>...</td>\n",
       "      <td>8.0</td>\n",
       "      <td>10.0</td>\n",
       "      <td>moderate</td>\n",
       "      <td>1</td>\n",
       "      <td>0.72</td>\n",
       "      <td>48.893635042498,2.3467555434390395</td>\n",
       "      <td>18</td>\n",
       "      <td>2</td>\n",
       "      <td>1</td>\n",
       "      <td>1577</td>\n",
       "    </tr>\n",
       "    <tr>\n",
       "      <th>33</th>\n",
       "      <td>flat to rent these summer</td>\n",
       "      <td>My flat is located in Le marais nearby Place d...</td>\n",
       "      <td>I rent my flat these summer (july and august) ...</td>\n",
       "      <td>Le Marais is a nice area, full of old building...</td>\n",
       "      <td>- pas d'animaux svp</td>\n",
       "      <td>all transports facilities nearby To get here f...</td>\n",
       "      <td>we share the kitchen and bathroom while I rent...</td>\n",
       "      <td>13022412</td>\n",
       "      <td>2014-03-11</td>\n",
       "      <td>within an hour</td>\n",
       "      <td>...</td>\n",
       "      <td>10.0</td>\n",
       "      <td>9.0</td>\n",
       "      <td>moderate</td>\n",
       "      <td>2</td>\n",
       "      <td>1.50</td>\n",
       "      <td>48.852995466539134,2.36452620127334</td>\n",
       "      <td>4</td>\n",
       "      <td>2</td>\n",
       "      <td>1</td>\n",
       "      <td>808</td>\n",
       "    </tr>\n",
       "    <tr>\n",
       "      <th>...</th>\n",
       "      <td>...</td>\n",
       "      <td>...</td>\n",
       "      <td>...</td>\n",
       "      <td>...</td>\n",
       "      <td>...</td>\n",
       "      <td>...</td>\n",
       "      <td>...</td>\n",
       "      <td>...</td>\n",
       "      <td>...</td>\n",
       "      <td>...</td>\n",
       "      <td>...</td>\n",
       "      <td>...</td>\n",
       "      <td>...</td>\n",
       "      <td>...</td>\n",
       "      <td>...</td>\n",
       "      <td>...</td>\n",
       "      <td>...</td>\n",
       "      <td>...</td>\n",
       "      <td>...</td>\n",
       "      <td>...</td>\n",
       "      <td>...</td>\n",
       "    </tr>\n",
       "    <tr>\n",
       "      <th>54500</th>\n",
       "      <td>Cosy studio w/bath - Eiffel Tower</td>\n",
       "      <td>This small apartment has been completely renov...</td>\n",
       "      <td>Charming &amp; quiet place in the historical distr...</td>\n",
       "      <td>NaN</td>\n",
       "      <td>NaN</td>\n",
       "      <td>Metro Line 8 Metro Line 13 Rer station Invalid...</td>\n",
       "      <td>Possibilité parking aux Invalides (20€/jour)</td>\n",
       "      <td>13556685</td>\n",
       "      <td>2014-03-26</td>\n",
       "      <td>within an hour</td>\n",
       "      <td>...</td>\n",
       "      <td>10.0</td>\n",
       "      <td>10.0</td>\n",
       "      <td>strict</td>\n",
       "      <td>3</td>\n",
       "      <td>2.44</td>\n",
       "      <td>48.85845196408179,2.308919581602885</td>\n",
       "      <td>7</td>\n",
       "      <td>3</td>\n",
       "      <td>1</td>\n",
       "      <td>583</td>\n",
       "    </tr>\n",
       "    <tr>\n",
       "      <th>54504</th>\n",
       "      <td>Apt 60 m² balcony Champ de Mars Eiffel Tower</td>\n",
       "      <td>NaN</td>\n",
       "      <td>Charming apt - 60m² - near Champ de Mars - Eif...</td>\n",
       "      <td>NaN</td>\n",
       "      <td>Domestic equipment : nespresso, fridge, toaste...</td>\n",
       "      <td>Access : metros La Motte Piquet Grenelle (L.8,...</td>\n",
       "      <td>Full access apartment : Living room, bedroom, ...</td>\n",
       "      <td>33176005</td>\n",
       "      <td>2015-05-12</td>\n",
       "      <td>within a day</td>\n",
       "      <td>...</td>\n",
       "      <td>10.0</td>\n",
       "      <td>9.0</td>\n",
       "      <td>strict</td>\n",
       "      <td>1</td>\n",
       "      <td>1.13</td>\n",
       "      <td>48.852114527389666,2.2997429846960387</td>\n",
       "      <td>7</td>\n",
       "      <td>3</td>\n",
       "      <td>3</td>\n",
       "      <td>583</td>\n",
       "    </tr>\n",
       "    <tr>\n",
       "      <th>54506</th>\n",
       "      <td>Chic district, B&amp;B.</td>\n",
       "      <td>Nestled in a residential, safe and central are...</td>\n",
       "      <td>This beautiful 160 sq meter apartment is locat...</td>\n",
       "      <td>Located on the left bank of the Seine, it's on...</td>\n",
       "      <td>You can check-in between 14:00 pm and 22:00 pm...</td>\n",
       "      <td>I'll be happy to inform you about all transpor...</td>\n",
       "      <td>ACCESS Feel confortable to enjoy your snacks i...</td>\n",
       "      <td>19094239</td>\n",
       "      <td>2014-07-29</td>\n",
       "      <td>within an hour</td>\n",
       "      <td>...</td>\n",
       "      <td>10.0</td>\n",
       "      <td>10.0</td>\n",
       "      <td>moderate</td>\n",
       "      <td>4</td>\n",
       "      <td>0.96</td>\n",
       "      <td>48.847333757257786,2.3168425106941846</td>\n",
       "      <td>7</td>\n",
       "      <td>2</td>\n",
       "      <td>1</td>\n",
       "      <td>583</td>\n",
       "    </tr>\n",
       "    <tr>\n",
       "      <th>54507</th>\n",
       "      <td>Blvd St Germain - Orsay Museum</td>\n",
       "      <td>We are a family of antique dealers and interio...</td>\n",
       "      <td>Cosy and very quiet one bedroom apartment (sle...</td>\n",
       "      <td>The 7th district is one of the most exclusive ...</td>\n",
       "      <td>Our apartment has a king size bed but can be s...</td>\n",
       "      <td>The metro station Rue du Bac (line 12) and the...</td>\n",
       "      <td>Full usage of the apartment, TV, telephone, Wi...</td>\n",
       "      <td>6887970</td>\n",
       "      <td>2013-06-13</td>\n",
       "      <td>within an hour</td>\n",
       "      <td>...</td>\n",
       "      <td>10.0</td>\n",
       "      <td>9.0</td>\n",
       "      <td>flexible</td>\n",
       "      <td>1</td>\n",
       "      <td>0.83</td>\n",
       "      <td>48.85870242114693,2.3277856646519584</td>\n",
       "      <td>7</td>\n",
       "      <td>1</td>\n",
       "      <td>1</td>\n",
       "      <td>583</td>\n",
       "    </tr>\n",
       "    <tr>\n",
       "      <th>54508</th>\n",
       "      <td>Rue Cler at 500m from Eiffel Tower!</td>\n",
       "      <td>Ce logement se trouve au 2e étage et comporte ...</td>\n",
       "      <td>Logement très calme, ensoleillé, situé derrièr...</td>\n",
       "      <td>Quartier \"vivant\" aussi bien de jour comme de ...</td>\n",
       "      <td>NaN</td>\n",
       "      <td>Très proche du métro École militaire (Métro en...</td>\n",
       "      <td>NaN</td>\n",
       "      <td>13368008</td>\n",
       "      <td>2014-03-21</td>\n",
       "      <td>within a day</td>\n",
       "      <td>...</td>\n",
       "      <td>10.0</td>\n",
       "      <td>9.0</td>\n",
       "      <td>moderate</td>\n",
       "      <td>1</td>\n",
       "      <td>1.06</td>\n",
       "      <td>48.858121148036595,2.3060024345958587</td>\n",
       "      <td>7</td>\n",
       "      <td>2</td>\n",
       "      <td>3</td>\n",
       "      <td>583</td>\n",
       "    </tr>\n",
       "  </tbody>\n",
       "</table>\n",
       "<p>15508 rows × 57 columns</p>\n",
       "</div>"
      ],
      "text/plain": [
       "                                               Name  \\\n",
       "0                          STUDIO PIGALLE W BALCONY   \n",
       "8                         Montmartre-Metro Abbesses   \n",
       "16             ♥ Exotic Loft Montmartre + terrace !   \n",
       "19               Cosy flat / Montmartre 10 min walk   \n",
       "33                        flat to rent these summer   \n",
       "...                                             ...   \n",
       "54500             Cosy studio w/bath - Eiffel Tower   \n",
       "54504  Apt 60 m² balcony Champ de Mars Eiffel Tower   \n",
       "54506                           Chic district, B&B.   \n",
       "54507                Blvd St Germain - Orsay Museum   \n",
       "54508           Rue Cler at 500m from Eiffel Tower!   \n",
       "\n",
       "                                                   Space  \\\n",
       "0      This newly refurbished flat is ideal for a cou...   \n",
       "8      Quartier bobo (bourgeois-bohème) où se rencont...   \n",
       "16     Welcome to you! - Loft 80m² near Montmartre  -...   \n",
       "19     The Sacré Coeur and the Abbesses street is 10 ...   \n",
       "33     My flat is located in Le marais nearby Place d...   \n",
       "...                                                  ...   \n",
       "54500  This small apartment has been completely renov...   \n",
       "54504                                                NaN   \n",
       "54506  Nestled in a residential, safe and central are...   \n",
       "54507  We are a family of antique dealers and interio...   \n",
       "54508  Ce logement se trouve au 2e étage et comporte ...   \n",
       "\n",
       "                                             Description  \\\n",
       "0      In the heart of Montmarte Pigalle, this lovely...   \n",
       "8      Petit logement pour 2 personnes (15m²-161 sq f...   \n",
       "16     Exotic loft with a terrace of 35 m² at the foo...   \n",
       "19     The apartment is ideally located in Paris, at ...   \n",
       "33     I rent my flat these summer (july and august) ...   \n",
       "...                                                  ...   \n",
       "54500  Charming & quiet place in the historical distr...   \n",
       "54504  Charming apt - 60m² - near Champ de Mars - Eif...   \n",
       "54506  This beautiful 160 sq meter apartment is locat...   \n",
       "54507  Cosy and very quiet one bedroom apartment (sle...   \n",
       "54508  Logement très calme, ensoleillé, situé derrièr...   \n",
       "\n",
       "                                   Neighborhood Overview  \\\n",
       "0      It is central enough for you to walk your way ...   \n",
       "8      L'appartement se situe à 180 mètres du métro A...   \n",
       "16     Nearby you will find many shops for groceries,...   \n",
       "19     The apartment is very well located for explori...   \n",
       "33     Le Marais is a nice area, full of old building...   \n",
       "...                                                  ...   \n",
       "54500                                                NaN   \n",
       "54504                                                NaN   \n",
       "54506  Located on the left bank of the Seine, it's on...   \n",
       "54507  The 7th district is one of the most exclusive ...   \n",
       "54508  Quartier \"vivant\" aussi bien de jour comme de ...   \n",
       "\n",
       "                                                   Notes  \\\n",
       "0      Real globetrotters, we are real Parisians with...   \n",
       "8      -----Internet free WIFI------ -----Bed linen a...   \n",
       "16     My wife Michelle and I Damien, pay attention t...   \n",
       "19     Suivant la saison et la durée de votre séjour,...   \n",
       "33                                   - pas d'animaux svp   \n",
       "...                                                  ...   \n",
       "54500                                                NaN   \n",
       "54504  Domestic equipment : nespresso, fridge, toaste...   \n",
       "54506  You can check-in between 14:00 pm and 22:00 pm...   \n",
       "54507  Our apartment has a king size bed but can be s...   \n",
       "54508                                                NaN   \n",
       "\n",
       "                                                 Transit  \\\n",
       "0      The flat is ideally located in Montmartre Piga...   \n",
       "8                                                    NaN   \n",
       "16     There are many bus lines and subway to anywher...   \n",
       "19     Located near the Simplon metro station (line 4...   \n",
       "33     all transports facilities nearby To get here f...   \n",
       "...                                                  ...   \n",
       "54500  Metro Line 8 Metro Line 13 Rer station Invalid...   \n",
       "54504  Access : metros La Motte Piquet Grenelle (L.8,...   \n",
       "54506  I'll be happy to inform you about all transpor...   \n",
       "54507  The metro station Rue du Bac (line 12) and the...   \n",
       "54508  Très proche du métro École militaire (Métro en...   \n",
       "\n",
       "                                                  Access   Host ID  \\\n",
       "0      Subway stations: Abbesses or Pigalle. Bus, Tax...  32492446   \n",
       "8                                                    NaN   8272773   \n",
       "16     You have access to all the apartment and the t...   2829146   \n",
       "19     At your disposal guides to Paris with all rele...  12382291   \n",
       "33     we share the kitchen and bathroom while I rent...  13022412   \n",
       "...                                                  ...       ...   \n",
       "54500       Possibilité parking aux Invalides (20€/jour)  13556685   \n",
       "54504  Full access apartment : Living room, bedroom, ...  33176005   \n",
       "54506  ACCESS Feel confortable to enjoy your snacks i...  19094239   \n",
       "54507  Full usage of the apartment, TV, telephone, Wi...   6887970   \n",
       "54508                                                NaN  13368008   \n",
       "\n",
       "       Host Since Host Response Time  ...  Review Scores Location  \\\n",
       "0      2015-05-03     within an hour  ...                     8.0   \n",
       "8      2013-08-20     within an hour  ...                    10.0   \n",
       "16     2012-07-04       within a day  ...                     9.0   \n",
       "19     2014-02-19     within an hour  ...                     8.0   \n",
       "33     2014-03-11     within an hour  ...                    10.0   \n",
       "...           ...                ...  ...                     ...   \n",
       "54500  2014-03-26     within an hour  ...                    10.0   \n",
       "54504  2015-05-12       within a day  ...                    10.0   \n",
       "54506  2014-07-29     within an hour  ...                    10.0   \n",
       "54507  2013-06-13     within an hour  ...                    10.0   \n",
       "54508  2014-03-21       within a day  ...                    10.0   \n",
       "\n",
       "       Review Scores Value Cancellation Policy Calculated host listings count  \\\n",
       "0                      9.0              strict                              7   \n",
       "8                      9.0              strict                              3   \n",
       "16                     9.0              strict                              1   \n",
       "19                    10.0            moderate                              1   \n",
       "33                     9.0            moderate                              2   \n",
       "...                    ...                 ...                            ...   \n",
       "54500                 10.0              strict                              3   \n",
       "54504                  9.0              strict                              1   \n",
       "54506                 10.0            moderate                              4   \n",
       "54507                  9.0            flexible                              1   \n",
       "54508                  9.0            moderate                              1   \n",
       "\n",
       "      Reviews per Month                            Geolocation Arrondissement  \\\n",
       "0                  1.84   48.88292573377615,2.3358125139068453             18   \n",
       "8                  3.35  48.884574794276794,2.3364623213623235             18   \n",
       "16                 0.31    48.88581031428594,2.326678991449712             18   \n",
       "19                 0.72     48.893635042498,2.3467555434390395             18   \n",
       "33                 1.50    48.852995466539134,2.36452620127334              4   \n",
       "...                 ...                                    ...            ...   \n",
       "54500              2.44    48.85845196408179,2.308919581602885              7   \n",
       "54504              1.13  48.852114527389666,2.2997429846960387              7   \n",
       "54506              0.96  48.847333757257786,2.3168425106941846              7   \n",
       "54507              0.83   48.85870242114693,2.3277856646519584              7   \n",
       "54508              1.06  48.858121148036595,2.3060024345958587              7   \n",
       "\n",
       "       Score Annulation  Reactivite Popu Arrondissement  \n",
       "0                     3           1                1577  \n",
       "8                     3           1                1577  \n",
       "16                    3           3                1577  \n",
       "19                    2           1                1577  \n",
       "33                    2           1                 808  \n",
       "...                 ...         ...                 ...  \n",
       "54500                 3           1                 583  \n",
       "54504                 3           3                 583  \n",
       "54506                 2           1                 583  \n",
       "54507                 1           1                 583  \n",
       "54508                 2           3                 583  \n",
       "\n",
       "[15508 rows x 57 columns]"
      ]
     },
     "execution_count": 97,
     "metadata": {},
     "output_type": "execute_result"
    }
   ],
   "source": [
    "df"
   ]
  },
  {
   "cell_type": "markdown",
   "id": "48cfc55a",
   "metadata": {},
   "source": [
    "## Importation de toutes les librairies nécessaires à la modélisation"
   ]
  },
  {
   "cell_type": "code",
   "execution_count": 130,
   "id": "f23619c1",
   "metadata": {},
   "outputs": [
    {
     "name": "stdout",
     "output_type": "stream",
     "text": [
      "Requirement already satisfied: shap in c:\\users\\ac3e2\\appdata\\local\\programs\\python\\python39\\lib\\site-packages (0.41.0)\n",
      "Requirement already satisfied: slicer==0.0.7 in c:\\users\\ac3e2\\appdata\\local\\programs\\python\\python39\\lib\\site-packages (from shap) (0.0.7)\n",
      "Requirement already satisfied: numba in c:\\users\\ac3e2\\appdata\\local\\programs\\python\\python39\\lib\\site-packages (from shap) (0.56.4)\n",
      "Requirement already satisfied: tqdm>4.25.0 in c:\\users\\ac3e2\\appdata\\local\\programs\\python\\python39\\lib\\site-packages (from shap) (4.64.1)\n",
      "Requirement already satisfied: scipy in c:\\users\\ac3e2\\appdata\\local\\programs\\python\\python39\\lib\\site-packages (from shap) (1.9.3)\n",
      "Requirement already satisfied: pandas in c:\\users\\ac3e2\\appdata\\local\\programs\\python\\python39\\lib\\site-packages (from shap) (1.5.2)\n",
      "Requirement already satisfied: scikit-learn in c:\\users\\ac3e2\\appdata\\local\\programs\\python\\python39\\lib\\site-packages (from shap) (1.2.0)\n",
      "Requirement already satisfied: cloudpickle in c:\\users\\ac3e2\\appdata\\local\\programs\\python\\python39\\lib\\site-packages (from shap) (2.2.0)\n",
      "Requirement already satisfied: packaging>20.9 in c:\\users\\ac3e2\\appdata\\roaming\\python\\python39\\site-packages (from shap) (22.0)\n",
      "Requirement already satisfied: numpy in c:\\users\\ac3e2\\appdata\\local\\programs\\python\\python39\\lib\\site-packages (from shap) (1.21.4)\n",
      "Requirement already satisfied: colorama in c:\\users\\ac3e2\\appdata\\roaming\\python\\python39\\site-packages (from tqdm>4.25.0->shap) (0.4.6)\n",
      "Requirement already satisfied: setuptools in c:\\users\\ac3e2\\appdata\\local\\programs\\python\\python39\\lib\\site-packages (from numba->shap) (49.2.1)\n",
      "Collecting llvmlite<0.40,>=0.39.0dev0\n",
      "  Using cached llvmlite-0.39.1-cp39-cp39-win_amd64.whl (23.2 MB)\n",
      "Requirement already satisfied: python-dateutil>=2.8.1 in c:\\users\\ac3e2\\appdata\\roaming\\python\\python39\\site-packages (from pandas->shap) (2.8.2)\n",
      "Requirement already satisfied: pytz>=2020.1 in c:\\users\\ac3e2\\appdata\\local\\programs\\python\\python39\\lib\\site-packages (from pandas->shap) (2022.7)\n",
      "Requirement already satisfied: threadpoolctl>=2.0.0 in c:\\users\\ac3e2\\appdata\\local\\programs\\python\\python39\\lib\\site-packages (from scikit-learn->shap) (3.1.0)\n",
      "Requirement already satisfied: joblib>=1.1.1 in c:\\users\\ac3e2\\appdata\\local\\programs\\python\\python39\\lib\\site-packages (from scikit-learn->shap) (1.2.0)\n",
      "Requirement already satisfied: six>=1.5 in c:\\users\\ac3e2\\appdata\\roaming\\python\\python39\\site-packages (from python-dateutil>=2.8.1->pandas->shap) (1.16.0)\n",
      "Installing collected packages: llvmlite\n",
      "  Attempting uninstall: llvmlite\n",
      "    Found existing installation: llvmlite 0.36.0\n",
      "    Uninstalling llvmlite-0.36.0:\n",
      "      Successfully uninstalled llvmlite-0.36.0\n",
      "Note: you may need to restart the kernel to use updated packages.\n"
     ]
    },
    {
     "name": "stderr",
     "output_type": "stream",
     "text": [
      "ERROR: Could not install packages due to an OSError: [WinError 5] Accès refusé: 'C:\\\\Users\\\\ac3e2\\\\AppData\\\\Local\\\\Programs\\\\Python\\\\Python39\\\\Lib\\\\site-packages\\\\~-vmlite\\\\binding\\\\llvmlite.dll'\n",
      "Consider using the `--user` option or check the permissions.\n",
      "\n"
     ]
    }
   ],
   "source": [
    "%pip install shap"
   ]
  },
  {
   "cell_type": "code",
   "execution_count": 107,
   "id": "6ff2af3d",
   "metadata": {},
   "outputs": [
    {
     "name": "stdout",
     "output_type": "stream",
     "text": [
      "Collecting pip\n",
      "  Downloading pip-22.3.1-py3-none-any.whl (2.1 MB)\n",
      "Installing collected packages: pip\n",
      "  Attempting uninstall: pip\n",
      "    Found existing installation: pip 20.2.3\n",
      "    Uninstalling pip-20.2.3:\n",
      "      Successfully uninstalled pip-20.2.3\n",
      "Successfully installed pip-22.3.1\n",
      "Note: you may need to restart the kernel to use updated packages.\n"
     ]
    },
    {
     "name": "stderr",
     "output_type": "stream",
     "text": [
      "  WARNING: The scripts pip.exe, pip3.10.exe, pip3.9.exe and pip3.exe are installed in 'c:\\Users\\ac3e2\\AppData\\Local\\Programs\\Python\\Python39\\Scripts' which is not on PATH.\n",
      "  Consider adding this directory to PATH or, if you prefer to suppress this warning, use --no-warn-script-location.\n"
     ]
    }
   ],
   "source": [
    "%pip install --upgrade pip"
   ]
  },
  {
   "cell_type": "code",
   "execution_count": 134,
   "id": "ab8d2030",
   "metadata": {},
   "outputs": [],
   "source": [
    "import geopy\n",
    "from geopy.distance import *\n",
    "import statsmodels.api as sm\n",
    "import statsmodels.formula.api as smf\n",
    "import patsy\n",
    "import sklearn\n",
    "\n",
    "import pickle\n",
    "import xgboost as xgb\n",
    "from xgboost import plot_importance\n",
    "\n",
    "\n",
    "%matplotlib inline"
   ]
  },
  {
   "cell_type": "code",
   "execution_count": 135,
   "id": "6bc69c40",
   "metadata": {},
   "outputs": [
    {
     "ename": "SystemError",
     "evalue": "initialization of _internal failed without raising an exception",
     "output_type": "error",
     "traceback": [
      "\u001b[1;31m---------------------------------------------------------------------------\u001b[0m",
      "\u001b[1;31mSystemError\u001b[0m                               Traceback (most recent call last)",
      "Cell \u001b[1;32mIn[135], line 1\u001b[0m\n\u001b[1;32m----> 1\u001b[0m \u001b[39mimport\u001b[39;00m \u001b[39mshap\u001b[39;00m\n",
      "File \u001b[1;32mc:\\Users\\ac3e2\\AppData\\Local\\Programs\\Python\\Python39\\lib\\site-packages\\shap\\__init__.py:12\u001b[0m\n\u001b[0;32m      9\u001b[0m \u001b[39mif\u001b[39;00m (sys\u001b[39m.\u001b[39mversion_info \u001b[39m<\u001b[39m (\u001b[39m3\u001b[39m, \u001b[39m0\u001b[39m)):\n\u001b[0;32m     10\u001b[0m     warnings\u001b[39m.\u001b[39mwarn(\u001b[39m\"\u001b[39m\u001b[39mAs of version 0.29.0 shap only supports Python 3 (not 2)!\u001b[39m\u001b[39m\"\u001b[39m)\n\u001b[1;32m---> 12\u001b[0m \u001b[39mfrom\u001b[39;00m \u001b[39m.\u001b[39;00m\u001b[39m_explanation\u001b[39;00m \u001b[39mimport\u001b[39;00m Explanation, Cohorts\n\u001b[0;32m     14\u001b[0m \u001b[39m# explainers\u001b[39;00m\n\u001b[0;32m     15\u001b[0m \u001b[39mfrom\u001b[39;00m \u001b[39m.\u001b[39;00m\u001b[39mexplainers\u001b[39;00m\u001b[39m.\u001b[39;00m\u001b[39m_explainer\u001b[39;00m \u001b[39mimport\u001b[39;00m Explainer\n",
      "File \u001b[1;32mc:\\Users\\ac3e2\\AppData\\Local\\Programs\\Python\\Python39\\lib\\site-packages\\shap\\_explanation.py:12\u001b[0m\n\u001b[0;32m     10\u001b[0m \u001b[39mfrom\u001b[39;00m \u001b[39mslicer\u001b[39;00m \u001b[39mimport\u001b[39;00m Slicer, Alias, Obj\n\u001b[0;32m     11\u001b[0m \u001b[39m# from ._order import Order\u001b[39;00m\n\u001b[1;32m---> 12\u001b[0m \u001b[39mfrom\u001b[39;00m \u001b[39m.\u001b[39;00m\u001b[39mutils\u001b[39;00m\u001b[39m.\u001b[39;00m\u001b[39m_general\u001b[39;00m \u001b[39mimport\u001b[39;00m OpChain\n\u001b[0;32m     13\u001b[0m \u001b[39mfrom\u001b[39;00m \u001b[39m.\u001b[39;00m\u001b[39mutils\u001b[39;00m\u001b[39m.\u001b[39;00m\u001b[39m_exceptions\u001b[39;00m \u001b[39mimport\u001b[39;00m DimensionError\n\u001b[0;32m     15\u001b[0m \u001b[39m# slicer confuses pylint...\u001b[39;00m\n\u001b[0;32m     16\u001b[0m \u001b[39m# pylint: disable=no-member\u001b[39;00m\n",
      "File \u001b[1;32mc:\\Users\\ac3e2\\AppData\\Local\\Programs\\Python\\Python39\\lib\\site-packages\\shap\\utils\\__init__.py:1\u001b[0m\n\u001b[1;32m----> 1\u001b[0m \u001b[39mfrom\u001b[39;00m \u001b[39m.\u001b[39;00m\u001b[39m_clustering\u001b[39;00m \u001b[39mimport\u001b[39;00m hclust_ordering, partition_tree, partition_tree_shuffle, delta_minimization_order, hclust\n\u001b[0;32m      2\u001b[0m \u001b[39mfrom\u001b[39;00m \u001b[39m.\u001b[39;00m\u001b[39m_general\u001b[39;00m \u001b[39mimport\u001b[39;00m approximate_interactions, potential_interactions, sample, safe_isinstance, assert_import, record_import_error\n\u001b[0;32m      3\u001b[0m \u001b[39mfrom\u001b[39;00m \u001b[39m.\u001b[39;00m\u001b[39m_general\u001b[39;00m \u001b[39mimport\u001b[39;00m shapley_coefficients, convert_name, format_value, ordinal_str, OpChain, suppress_stderr\n",
      "File \u001b[1;32mc:\\Users\\ac3e2\\AppData\\Local\\Programs\\Python\\Python39\\lib\\site-packages\\shap\\utils\\_clustering.py:4\u001b[0m\n\u001b[0;32m      2\u001b[0m \u001b[39mimport\u001b[39;00m \u001b[39mscipy\u001b[39;00m \u001b[39mas\u001b[39;00m \u001b[39msp\u001b[39;00m\n\u001b[0;32m      3\u001b[0m \u001b[39mfrom\u001b[39;00m \u001b[39mscipy\u001b[39;00m\u001b[39m.\u001b[39;00m\u001b[39mspatial\u001b[39;00m\u001b[39m.\u001b[39;00m\u001b[39mdistance\u001b[39;00m \u001b[39mimport\u001b[39;00m pdist\n\u001b[1;32m----> 4\u001b[0m \u001b[39mfrom\u001b[39;00m \u001b[39mnumba\u001b[39;00m \u001b[39mimport\u001b[39;00m jit\n\u001b[0;32m      5\u001b[0m \u001b[39mimport\u001b[39;00m \u001b[39msklearn\u001b[39;00m\n\u001b[0;32m      6\u001b[0m \u001b[39mimport\u001b[39;00m \u001b[39mwarnings\u001b[39;00m\n",
      "File \u001b[1;32mc:\\Users\\ac3e2\\AppData\\Local\\Programs\\Python\\Python39\\lib\\site-packages\\numba\\__init__.py:42\u001b[0m\n\u001b[0;32m     38\u001b[0m \u001b[39mfrom\u001b[39;00m \u001b[39mnumba\u001b[39;00m\u001b[39m.\u001b[39;00m\u001b[39mcore\u001b[39;00m\u001b[39m.\u001b[39;00m\u001b[39mdecorators\u001b[39;00m \u001b[39mimport\u001b[39;00m (cfunc, generated_jit, jit, njit, stencil,\n\u001b[0;32m     39\u001b[0m                                    jit_module)\n\u001b[0;32m     41\u001b[0m \u001b[39m# Re-export vectorize decorators and the thread layer querying function\u001b[39;00m\n\u001b[1;32m---> 42\u001b[0m \u001b[39mfrom\u001b[39;00m \u001b[39mnumba\u001b[39;00m\u001b[39m.\u001b[39;00m\u001b[39mnp\u001b[39;00m\u001b[39m.\u001b[39;00m\u001b[39mufunc\u001b[39;00m \u001b[39mimport\u001b[39;00m (vectorize, guvectorize, threading_layer,\n\u001b[0;32m     43\u001b[0m                             get_num_threads, set_num_threads,\n\u001b[0;32m     44\u001b[0m                             set_parallel_chunksize, get_parallel_chunksize,\n\u001b[0;32m     45\u001b[0m                             get_thread_id)\n\u001b[0;32m     47\u001b[0m \u001b[39m# Re-export Numpy helpers\u001b[39;00m\n\u001b[0;32m     48\u001b[0m \u001b[39mfrom\u001b[39;00m \u001b[39mnumba\u001b[39;00m\u001b[39m.\u001b[39;00m\u001b[39mnp\u001b[39;00m\u001b[39m.\u001b[39;00m\u001b[39mnumpy_support\u001b[39;00m \u001b[39mimport\u001b[39;00m carray, farray, from_dtype\n",
      "File \u001b[1;32mc:\\Users\\ac3e2\\AppData\\Local\\Programs\\Python\\Python39\\lib\\site-packages\\numba\\np\\ufunc\\__init__.py:3\u001b[0m\n\u001b[0;32m      1\u001b[0m \u001b[39m# -*- coding: utf-8 -*-\u001b[39;00m\n\u001b[1;32m----> 3\u001b[0m \u001b[39mfrom\u001b[39;00m \u001b[39mnumba\u001b[39;00m\u001b[39m.\u001b[39;00m\u001b[39mnp\u001b[39;00m\u001b[39m.\u001b[39;00m\u001b[39mufunc\u001b[39;00m\u001b[39m.\u001b[39;00m\u001b[39mdecorators\u001b[39;00m \u001b[39mimport\u001b[39;00m Vectorize, GUVectorize, vectorize, guvectorize\n\u001b[0;32m      4\u001b[0m \u001b[39mfrom\u001b[39;00m \u001b[39mnumba\u001b[39;00m\u001b[39m.\u001b[39;00m\u001b[39mnp\u001b[39;00m\u001b[39m.\u001b[39;00m\u001b[39mufunc\u001b[39;00m\u001b[39m.\u001b[39;00m\u001b[39m_internal\u001b[39;00m \u001b[39mimport\u001b[39;00m PyUFunc_None, PyUFunc_Zero, PyUFunc_One\n\u001b[0;32m      5\u001b[0m \u001b[39mfrom\u001b[39;00m \u001b[39mnumba\u001b[39;00m\u001b[39m.\u001b[39;00m\u001b[39mnp\u001b[39;00m\u001b[39m.\u001b[39;00m\u001b[39mufunc\u001b[39;00m \u001b[39mimport\u001b[39;00m _internal, array_exprs\n",
      "File \u001b[1;32mc:\\Users\\ac3e2\\AppData\\Local\\Programs\\Python\\Python39\\lib\\site-packages\\numba\\np\\ufunc\\decorators.py:3\u001b[0m\n\u001b[0;32m      1\u001b[0m \u001b[39mimport\u001b[39;00m \u001b[39minspect\u001b[39;00m\n\u001b[1;32m----> 3\u001b[0m \u001b[39mfrom\u001b[39;00m \u001b[39mnumba\u001b[39;00m\u001b[39m.\u001b[39;00m\u001b[39mnp\u001b[39;00m\u001b[39m.\u001b[39;00m\u001b[39mufunc\u001b[39;00m \u001b[39mimport\u001b[39;00m _internal\n\u001b[0;32m      4\u001b[0m \u001b[39mfrom\u001b[39;00m \u001b[39mnumba\u001b[39;00m\u001b[39m.\u001b[39;00m\u001b[39mnp\u001b[39;00m\u001b[39m.\u001b[39;00m\u001b[39mufunc\u001b[39;00m\u001b[39m.\u001b[39;00m\u001b[39mparallel\u001b[39;00m \u001b[39mimport\u001b[39;00m ParallelUFuncBuilder, ParallelGUFuncBuilder\n\u001b[0;32m      6\u001b[0m \u001b[39mfrom\u001b[39;00m \u001b[39mnumba\u001b[39;00m\u001b[39m.\u001b[39;00m\u001b[39mcore\u001b[39;00m\u001b[39m.\u001b[39;00m\u001b[39mregistry\u001b[39;00m \u001b[39mimport\u001b[39;00m DelayedRegistry\n",
      "\u001b[1;31mSystemError\u001b[0m: initialization of _internal failed without raising an exception"
     ]
    }
   ],
   "source": [
    "import shap"
   ]
  },
  {
   "cell_type": "code",
   "execution_count": 128,
   "id": "4aaf490e",
   "metadata": {},
   "outputs": [],
   "source": [
    "from sklearn.linear_model import LinearRegression, Lasso, LassoCV, Ridge, RidgeCV\n",
    "from sklearn.linear_model import RidgeCV\n",
    "from sklearn.model_selection import train_test_split\n",
    "from sklearn.pipeline import Pipeline\n",
    "from sklearn.preprocessing import StandardScaler\n",
    "from sklearn.preprocessing import PolynomialFeatures\n",
    "from sklearn.pipeline import make_pipeline\n",
    "from sklearn import metrics\n",
    "from sklearn.model_selection import KFold\n",
    "from sklearn.model_selection import cross_val_score\n",
    "from sklearn.metrics import explained_variance_score, mean_absolute_error, r2_score\n",
    "from sklearn.ensemble import RandomForestRegressor\n",
    "from sklearn.linear_model import SGDRegressor"
   ]
  },
  {
   "cell_type": "markdown",
   "id": "a04af928",
   "metadata": {},
   "source": [
    "### Préparation du modèle"
   ]
  },
  {
   "attachments": {},
   "cell_type": "markdown",
   "id": "15994ed2",
   "metadata": {},
   "source": [
    "Le dataset étant de taille assez conséquente, nous allons le \"shuffler\" puis le diviser en 5, afin d'avoir 5 samples iid."
   ]
  },
  {
   "cell_type": "code",
   "execution_count": null,
   "id": "639b1300",
   "metadata": {},
   "outputs": [],
   "source": [
    "df_shuffle = df.sample(frac = 1)\n",
    "df_shuffle"
   ]
  },
  {
   "cell_type": "code",
   "execution_count": null,
   "id": "f0843230",
   "metadata": {},
   "outputs": [],
   "source": [
    "df_splits = np.array_split(df_shuffle, 5)\n",
    "df_splits"
   ]
  },
  {
   "cell_type": "code",
   "execution_count": null,
   "id": "72d6173c",
   "metadata": {},
   "outputs": [],
   "source": [
    "df1 = df_splits[0]"
   ]
  },
  {
   "attachments": {},
   "cell_type": "markdown",
   "id": "c912f161",
   "metadata": {},
   "source": [
    "On travaillera donc sur 5 subsets."
   ]
  },
  {
   "attachments": {},
   "cell_type": "markdown",
   "id": "9ec0d336",
   "metadata": {},
   "source": [
    "### Traitement du 1er subset"
   ]
  },
  {
   "cell_type": "code",
   "execution_count": null,
   "id": "36b00c43",
   "metadata": {},
   "outputs": [],
   "source": [
    "fig, ax = plt.subplots(figsize=(10, 5))\n",
    "sns.histplot(data=df1['Accommodates'], kde=True, bins=int(100))\n",
    "plt.title ('Répartition du nombre de personnes accueillies par Airbnb')"
   ]
  },
  {
   "cell_type": "code",
   "execution_count": null,
   "id": "e4a4b170",
   "metadata": {},
   "outputs": [],
   "source": [
    "fig, ax = plt.subplots(figsize=(10, 5))\n",
    "sns.histplot(data=df1['Price'], kde=True, bins=int(100))\n",
    "plt.title ('Répartition du prix par Airbnb')"
   ]
  },
  {
   "cell_type": "code",
   "execution_count": null,
   "id": "5d1f3efb",
   "metadata": {},
   "outputs": [],
   "source": [
    "model1 = df1[(df1['Price'] < 400) & (df1['Accommodates'] <= 8)]\n",
    "list(model1.columns)"
   ]
  },
  {
   "cell_type": "code",
   "execution_count": null,
   "id": "a0db5359",
   "metadata": {},
   "outputs": [],
   "source": [
    "garde_cols = ['Price', 'Calculated host listings count','Score Annulation', 'Host Response Time', 'Arrondissement', 'Availability 30', 'Availability 365','Has Availability', 'Cleaning Fee']\n",
    "drop_cols = ['Name','Space','Description','Neighborhood Overview',\n",
    " 'Notes',\n",
    " 'Transit',\n",
    " 'Access',\n",
    " 'Host ID',\n",
    " 'Host Since',\n",
    " 'Host Response Rate',\n",
    " 'Host Total Listings Count',\n",
    " 'Street',\n",
    " 'Neighbourhood',\n",
    " 'Host Response Time',\n",
    " 'Neighbourhood Cleansed',\n",
    " 'City',\n",
    " 'Zipcode',\n",
    " 'Latitude',\n",
    " 'Longitude',\n",
    " 'Property Type',\n",
    " 'Room Type',\n",
    " 'Bed Type',\n",
    " 'Amenities',\n",
    " 'Square Feet',\n",
    " 'Security Deposit',\n",
    " 'Guests Included',\n",
    " 'Extra People',\n",
    " 'Minimum Nights',\n",
    " 'Maximum Nights',\n",
    " 'Calendar Updated',\n",
    " 'Has Availability',\n",
    " 'Availability 60',\n",
    " 'Availability 90',\n",
    " 'Number of Reviews',\n",
    " 'Review Scores Rating',\n",
    " 'Review Scores Accuracy',\n",
    " 'Review Scores Cleanliness',\n",
    " 'Review Scores Checkin',\n",
    " 'Review Scores Communication',\n",
    " 'Review Scores Location',\n",
    " 'Review Scores Value',\n",
    " 'Cancellation Policy',\n",
    " 'Reviews per Month',\n",
    " 'Geolocation',\n",
    "]"
   ]
  },
  {
   "cell_type": "code",
   "execution_count": null,
   "id": "6d9dd58c",
   "metadata": {},
   "outputs": [],
   "source": [
    "X = model1.copy()\n",
    "X = X.drop(drop_cols,axis=1)\n",
    "y = X['Price']\n"
   ]
  },
  {
   "cell_type": "code",
   "execution_count": null,
   "id": "f2ef87e2",
   "metadata": {},
   "outputs": [],
   "source": [
    "#correlation check\n",
    "\n",
    "#plt.figure(figsize=(50,30))\n",
    "\n",
    "#sns.heatmap(X.corr(),\n",
    "           # annot=True,\n",
    "            #center=0,\n",
    "            #cbar=True,\n",
    "            )\n",
    "\n",
    "#plt.show()"
   ]
  },
  {
   "cell_type": "code",
   "execution_count": null,
   "id": "db10752a",
   "metadata": {},
   "outputs": [],
   "source": [
    "X.columns, y"
   ]
  },
  {
   "cell_type": "code",
   "execution_count": null,
   "id": "48a9e1d7",
   "metadata": {},
   "outputs": [],
   "source": [
    "cols = [x.lower() for x in X.columns.tolist()]\n",
    "X.columns = cols"
   ]
  },
  {
   "cell_type": "code",
   "execution_count": null,
   "id": "53098aff",
   "metadata": {},
   "outputs": [],
   "source": [
    "df2 = X.copy()\n",
    "y_copy = y.copy()"
   ]
  },
  {
   "cell_type": "code",
   "execution_count": null,
   "id": "a589d12f",
   "metadata": {},
   "outputs": [],
   "source": [
    "X = X.drop('price', axis = 1)\n",
    "X.columns"
   ]
  },
  {
   "cell_type": "code",
   "execution_count": null,
   "id": "28763e98",
   "metadata": {},
   "outputs": [],
   "source": [
    "X, X_test, y, y_test = train_test_split(X, y, test_size=.2, random_state=10)\n",
    "\n",
    "X_train, X_val, y_train, y_val = train_test_split(X, y, test_size=.25, random_state=3)"
   ]
  },
  {
   "cell_type": "code",
   "execution_count": null,
   "id": "eca4844e",
   "metadata": {},
   "outputs": [],
   "source": [
    "print(f' X_train shape : {X_train.shape}')\n",
    "print(f' X_val shape : {X_val.shape}')\n",
    "print(f' X_test shape : {X_test.shape}')"
   ]
  },
  {
   "attachments": {},
   "cell_type": "markdown",
   "id": "159080b9",
   "metadata": {},
   "source": [
    "## Approche par OLS"
   ]
  },
  {
   "cell_type": "code",
   "execution_count": null,
   "id": "c191b347",
   "metadata": {},
   "outputs": [],
   "source": [
    "X_train.head()"
   ]
  },
  {
   "cell_type": "code",
   "execution_count": null,
   "id": "b7410b6d",
   "metadata": {},
   "outputs": [],
   "source": [
    "std = StandardScaler() \n",
    "std.fit(X_train.values) \n",
    "X_train_scaled = std.transform(X_train.values)\n",
    "train_df = pd.DataFrame(X_train_scaled, columns=X_train.columns)\n",
    "model = sm.OLS(np.array(y_train), sm.add_constant(train_df))\n",
    "\n",
    "fit = model.fit()\n",
    "fit.summary()"
   ]
  },
  {
   "cell_type": "code",
   "execution_count": null,
   "id": "4486bc1b",
   "metadata": {},
   "outputs": [],
   "source": [
    "std = StandardScaler() \n",
    "std.fit(X_train.values) \n",
    "X_train_scaled = std.transform(X_train.values)\n",
    "X_val_scaled = std.transform(X_val.values)\n",
    "X_test_scaled = std.transform(X_test.values)\n",
    "\n",
    "train_df = pd.DataFrame(X_train_scaled, columns=X_train.columns)\n",
    "model = sm.OLS(np.array(y_train), sm.add_constant(train_df))\n",
    "\n",
    "fit = model.fit()\n",
    "fit.summary()"
   ]
  },
  {
   "attachments": {},
   "cell_type": "markdown",
   "id": "dab84673",
   "metadata": {},
   "source": [
    "Haute p-value pour bathrooms"
   ]
  },
  {
   "cell_type": "markdown",
   "id": "633ae302",
   "metadata": {},
   "source": [
    "## Regression avec Scikit-Learn"
   ]
  },
  {
   "cell_type": "code",
   "execution_count": null,
   "id": "b119f676",
   "metadata": {},
   "outputs": [],
   "source": [
    "def mae_score(pred, actual):\n",
    "    return np.mean(np.abs(np.exp(actual) - np.exp(pred)))"
   ]
  },
  {
   "cell_type": "code",
   "execution_count": null,
   "id": "326a13b8",
   "metadata": {},
   "outputs": [],
   "source": [
    "lm = LinearRegression() \n",
    "\n",
    "lm.fit(X_train_scaled, y_train)\n",
    "\n",
    "train_pred = lm.predict(X_train_scaled)\n",
    "val_pred = lm.predict(X_val_scaled)\n",
    "\n",
    "print(f'Linear Regression train R^2: {lm.score(X_train_scaled, y_train)}')\n",
    "print(f'Linear Regression val R^2: {lm.score(X_val_scaled, y_val)}')\n",
    "\n",
    "print(\"\\nTraining MAE:\", round(mean_absolute_error(y_train, train_pred),4))\n",
    "print(\"Validation MAE:\", round(mean_absolute_error(y_val, val_pred),4))"
   ]
  },
  {
   "cell_type": "code",
   "execution_count": null,
   "id": "163c5836",
   "metadata": {},
   "outputs": [],
   "source": [
    "y_train.describe()"
   ]
  },
  {
   "cell_type": "code",
   "execution_count": null,
   "id": "96d4461b",
   "metadata": {},
   "outputs": [],
   "source": [
    "# Plot actual vs predicted\n",
    "plt.figure(figsize=(10, 8))\n",
    "plt.plot([0,150], [0,150], c='#FF5A5F')\n",
    "plt.scatter(val_pred, y_val, color='#00A699', alpha=0.4)\n",
    "sns.despine()\n",
    "plt.ylabel('Actual Price', size=15)\n",
    "plt.xlabel('Predicted Price', size=15)\n",
    "plt.title('Actual vs Predicted Prices (Linear Regression)', size=18);\n",
    "plt.savefig('actual_plot', bbox_inches ='tight', dpi = 400)"
   ]
  },
  {
   "cell_type": "code",
   "execution_count": null,
   "id": "0bd95a00",
   "metadata": {},
   "outputs": [],
   "source": [
    "plt.figure(figsize=(12,8))\n",
    "sns.distplot(y_val - val_pred, color='#00A699') \n",
    "plt.title('Residual Distribution', size = 18)\n",
    "plt.xlabel('Difference', size = 15);\n",
    "plt.savefig('residuals', bbox_inches ='tight', dpi = 400);"
   ]
  },
  {
   "attachments": {},
   "cell_type": "markdown",
   "id": "cf3b2344",
   "metadata": {},
   "source": [
    "### Regularisation"
   ]
  },
  {
   "attachments": {},
   "cell_type": "markdown",
   "id": "700e48f1",
   "metadata": {},
   "source": [
    "#### Lasso"
   ]
  },
  {
   "cell_type": "code",
   "execution_count": null,
   "id": "5982df56",
   "metadata": {},
   "outputs": [],
   "source": [
    "kf = KFold(n_splits=5, shuffle=True, random_state = 21)\n",
    "\n",
    "alphavec = 10**np.linspace(-3,3,500)\n",
    "\n",
    "lasso_model = LassoCV(alphas = alphavec, cv=kf)\n",
    "\n",
    "lasso_model.fit(X_train_scaled, y_train)\n",
    "\n",
    "print('LassoCV alpha:', lasso_model.alpha_)\n",
    "\n",
    "print(f'LassoCV train R^2: {lasso_model.score(X_train_scaled, y_train):.3f}')\n",
    "print(f'LassoCV val R^2: {lasso_model.score(X_val_scaled, y_val):.3f}')\n",
    "\n",
    "train_pred = lasso_model.predict(X_train_scaled)\n",
    "y_val_pred = lasso_model.predict(X_val_scaled)\n",
    "\n",
    "print('Train MAE for LassoCV:', round(mean_absolute_error(y_train, train_pred),4))\n",
    "print('Validation MAE for LassoCV:', round(mean_absolute_error(y_val, y_val_pred),4))"
   ]
  },
  {
   "cell_type": "code",
   "execution_count": null,
   "id": "3d3b074c",
   "metadata": {},
   "outputs": [],
   "source": [
    "# Plot actual vs predicted\n",
    "plt.figure(figsize=(10, 8))\n",
    "plt.plot([0,150], [0,150], c='#FF5A5F')\n",
    "plt.scatter(y_val_pred, y_val, color='#00A699', alpha=0.4)\n",
    "sns.despine()\n",
    "plt.ylabel('Actual Price', size=15)\n",
    "plt.xlabel('Predicted Price', size=15)\n",
    "plt.title('Actual vs Predicted Prices (Lasso)', size=18);\n",
    "plt.savefig('actual plot', bbox_inches ='tight', dpi = 400)"
   ]
  },
  {
   "attachments": {},
   "cell_type": "markdown",
   "id": "11fa7788",
   "metadata": {},
   "source": [
    "#### Ridge"
   ]
  },
  {
   "cell_type": "code",
   "execution_count": null,
   "id": "1f67e543",
   "metadata": {},
   "outputs": [],
   "source": [
    "alphavec = 10**np.linspace(-3,3,500)\n",
    "\n",
    "ridge_model = RidgeCV(alphas = alphavec, cv=kf)\n",
    "\n",
    "ridge_model.fit(X_train_scaled, y_train)\n",
    "\n",
    "print('LassoCV alpha:', ridge_model.alpha_)\n",
    "\n",
    "print(f'LassoCV train R^2: {ridge_model.score(X_train_scaled, y_train):.3f}')\n",
    "print(f'LassoCV val R^2: {ridge_model.score(X_val_scaled, y_val):.3f}')\n",
    "\n",
    "train_pred = ridge_model.predict(X_train_scaled)\n",
    "y_val_pred = ridge_model.predict(X_val_scaled)\n",
    "\n",
    "print('Train MAE for LassoCV:', round(mean_absolute_error(y_train, train_pred),4))\n",
    "print('Validation MAE for LassoCV:', round(mean_absolute_error(y_val, y_val_pred),4))"
   ]
  },
  {
   "attachments": {},
   "cell_type": "markdown",
   "id": "6238a60d",
   "metadata": {},
   "source": [
    "#### Coefficients de la régression linéaire"
   ]
  },
  {
   "cell_type": "code",
   "execution_count": null,
   "id": "9aabf523",
   "metadata": {},
   "outputs": [],
   "source": [
    "coef_list = sorted(list(zip(X_train.columns, lm.coef_)), key= lambda x : x[1])\n",
    "\n",
    "x_values = [x[0] for x in coef_list]\n",
    "y_values = [y[1] for y in coef_list]\n",
    "\n",
    "fig, ax = plt.subplots(figsize=(15,10))\n",
    "ax = sns.barplot(x=y_values, y=x_values, palette=(\"husl\"))\n",
    "#ax.set(xticks=xtick_list)\n",
    "ax.set_title('Feature Weights', size=18)\n",
    "ax.set_xlabel('Price', size=15)\n",
    "ax.set_ylabel('Features', size=15)\n",
    "plt.savefig('features', bbox_inches ='tight', dpi = 400)"
   ]
  },
  {
   "cell_type": "code",
   "execution_count": null,
   "id": "fc58e05a",
   "metadata": {},
   "outputs": [],
   "source": [
    "x_values"
   ]
  },
  {
   "cell_type": "code",
   "execution_count": null,
   "id": "ec1c6585",
   "metadata": {},
   "outputs": [],
   "source": [
    "coefs_df = pd.DataFrame(columns=['Feature', 'Coefficient'])\n",
    "coefs_df['Feature'] = x_values\n",
    "coefs_df['Coefficient'] = y_values\n",
    "coefs_df.to_csv('lr_coefs.csv')\n",
    "coefs_df"
   ]
  },
  {
   "cell_type": "code",
   "execution_count": null,
   "id": "8a21966d",
   "metadata": {},
   "outputs": [],
   "source": [
    "import matplotlib.style as style "
   ]
  },
  {
   "cell_type": "code",
   "execution_count": null,
   "id": "54f947fc",
   "metadata": {},
   "outputs": [],
   "source": [
    "actionable_feats = ['arrondissement', 'reactivite', 'score annulation', 'beds', 'calculated host listings count', 'availability 365', 'availability 30', 'bathrooms', 'accommodates', 'bedrooms', 'cleaning fee']\n",
    "coefs = coefs = sorted(list(zip(lm.coef_, X.columns)))\n",
    "\n",
    "coefs = coefs[::-1]\n",
    "improvements = [x for x in coefs if x[1] in actionable_feats]\n",
    "\n",
    "improvements"
   ]
  },
  {
   "cell_type": "code",
   "execution_count": null,
   "id": "5b6c3f87",
   "metadata": {},
   "outputs": [],
   "source": [
    "\n",
    "x_values = [x[0] for x in improvements]\n",
    "y_values = [y[1] for y in improvements]\n",
    "\n",
    "xtick_list = ['Arrondissement', 'Reactivite', 'Score Annulation', 'Beds', 'Calculated host listings count ', 'Availability 365', 'Availability 30', 'Bathrooms', 'Accomodates', 'Bedrooms', 'Cleaning Fees']\n",
    "fig, ax = plt.subplots(figsize=(10,8))\n",
    "ax = sns.barplot(x=x_values, y=y_values, palette=(\"husl\"))\n",
    "#ax.set(xticks=xtick_list)\n",
    "ax.set_title('Feature Weights', size=18)\n",
    "ax.set_xlabel('Price', size=15)\n",
    "ax.set_yticklabels(xtick_list, size=10)\n",
    "ax.set_ylabel('Features', size=15)\n",
    "plt.savefig('features', bbox_inches ='tight', dpi = 400)"
   ]
  },
  {
   "cell_type": "code",
   "execution_count": null,
   "id": "b34084ce",
   "metadata": {},
   "outputs": [],
   "source": [
    "fig, ax = plt.subplots(figsize=(10,5)) \n",
    "model1['Price'].hist(color='#FF585D')\n",
    "plt.title('Price Distribution')\n",
    "plt.xlabel('Price')\n",
    "plt.ylabel('Number of Listings');\n",
    "\n",
    "plt.savefig('Price', bbox_inches ='tight', dpi = 400)"
   ]
  },
  {
   "attachments": {},
   "cell_type": "markdown",
   "id": "4b1d2987",
   "metadata": {},
   "source": [
    "### XGBoost"
   ]
  },
  {
   "cell_type": "code",
   "execution_count": null,
   "id": "2a2420c6",
   "metadata": {},
   "outputs": [],
   "source": [
    "eval_set = [(X_val, y_val)]"
   ]
  },
  {
   "cell_type": "code",
   "execution_count": null,
   "id": "3638f4cd",
   "metadata": {},
   "outputs": [],
   "source": [
    "gbm = xgb.XGBRegressor( \n",
    "                       n_estimators=10000, #arbitrary large number\n",
    "                       max_depth=7,\n",
    "                       objective=\"reg:squarederror\",\n",
    "                       learning_rate=.1, \n",
    "                       subsample=1,\n",
    "                       min_child_weight=1,\n",
    "                       colsample_bytree=.6\n",
    "                      )\n",
    "\n",
    "eval_set=[(X_train,y_train),(X_val,y_val)] #tracking train/validation error as we go\n",
    "\n",
    "xgb_reg = gbm.fit( \n",
    "                    X_train, y_train, \n",
    "                    eval_set=eval_set,\n",
    "                    eval_metric='mae',\n",
    "                    early_stopping_rounds=20,\n",
    "                    verbose=100 #gives output log as below\n",
    "                   )"
   ]
  },
  {
   "cell_type": "code",
   "execution_count": null,
   "id": "5aeaafd6",
   "metadata": {},
   "outputs": [],
   "source": [
    "test_pred = xgb_reg.predict(X_test)\n",
    "print('Test MAE:', round(mean_absolute_error(y_test, test_pred),4))"
   ]
  },
  {
   "cell_type": "markdown",
   "id": "bae4edf1",
   "metadata": {},
   "source": [
    "### GridSearchCV for Best Parameters"
   ]
  },
  {
   "cell_type": "code",
   "execution_count": null,
   "id": "df25ff0f",
   "metadata": {},
   "outputs": [],
   "source": [
    "from sklearn.model_selection import GridSearchCV\n",
    "\n",
    "xgb_param_grid = {\n",
    "    'max_depth': [5, 7, 9],\n",
    "    'learning_rate': [0.1],\n",
    "    'n_estimators': [1000],\n",
    "    'colsample_bytree':[0.5,0.75],\n",
    "    'colsample_bylevel':[0.25,0.5],  \n",
    "}\n",
    "\n",
    "xgb_gridsearch = GridSearchCV(xgb.XGBRegressor(),\n",
    "                           xgb_param_grid,\n",
    "                           cv=5,\n",
    "                           n_jobs=-1)\n",
    "\n",
    "xgb_gridsearch.fit(X_train, y_train)"
   ]
  },
  {
   "cell_type": "code",
   "execution_count": null,
   "id": "355ace73",
   "metadata": {},
   "outputs": [],
   "source": [
    "best_xgb = xgb_gridsearch.best_estimator_"
   ]
  },
  {
   "cell_type": "code",
   "execution_count": null,
   "id": "8356ab8e",
   "metadata": {},
   "outputs": [],
   "source": [
    "test_pred = best_xgb.predict(X_test)\n",
    "print('Test MAE:', round(mean_absolute_error(y_test, test_pred),4))"
   ]
  },
  {
   "cell_type": "code",
   "execution_count": null,
   "id": "0a43db3a",
   "metadata": {},
   "outputs": [],
   "source": [
    "best_xgb"
   ]
  },
  {
   "cell_type": "code",
   "execution_count": null,
   "id": "2d1820d4",
   "metadata": {},
   "outputs": [],
   "source": [
    "pickle.dump(best_xgb, open(\"best_xgb_model.pkl\", \"wb\"))"
   ]
  },
  {
   "cell_type": "code",
   "execution_count": null,
   "id": "39479009",
   "metadata": {},
   "outputs": [],
   "source": [
    "feat_df = pd.DataFrame(list(zip(X_train.columns, best_xgb.feature_importances_)), \n",
    "                       columns=['Feature', 'Weight'])"
   ]
  },
  {
   "cell_type": "code",
   "execution_count": null,
   "id": "572fdb31",
   "metadata": {},
   "outputs": [],
   "source": [
    "feat_df = feat_df.sort_values(by=['Weight'], ascending=False)"
   ]
  },
  {
   "cell_type": "code",
   "execution_count": null,
   "id": "4c6a53a6",
   "metadata": {},
   "outputs": [],
   "source": [
    "top_10 = feat_df.head(10)"
   ]
  },
  {
   "cell_type": "code",
   "execution_count": null,
   "id": "fddd8c3e",
   "metadata": {},
   "outputs": [],
   "source": [
    "fig, ax = plt.subplots(figsize=(10,8))\n",
    "ax = sns.barplot(x=top_10['Weight'], y=top_10['Feature'])\n",
    "ax.set_title('XGBoost Feature Importances');"
   ]
  },
  {
   "cell_type": "code",
   "execution_count": null,
   "id": "e1ff76e7",
   "metadata": {},
   "outputs": [],
   "source": [
    "shap.initjs()\n",
    "explainer = shap.TreeExplainer(best_xgb)\n",
    "shap_values = explainer.shap_values(X_train)"
   ]
  },
  {
   "cell_type": "code",
   "execution_count": null,
   "id": "82579781",
   "metadata": {},
   "outputs": [],
   "source": [
    "shap.summary_plot(shap_values, X_train,max_display=30)"
   ]
  },
  {
   "cell_type": "code",
   "execution_count": null,
   "id": "adccb6dd",
   "metadata": {},
   "outputs": [],
   "source": [
    "shap.force_plot(explainer.expected_value, shap_values[113,:], X_test.iloc[10,:]) "
   ]
  },
  {
   "cell_type": "code",
   "execution_count": null,
   "id": "87c3dca2",
   "metadata": {},
   "outputs": [],
   "source": [
    "shap.dependence_plot(\"accommodates\", shap_values, X_train)"
   ]
  },
  {
   "cell_type": "code",
   "execution_count": null,
   "id": "cc62a2eb",
   "metadata": {},
   "outputs": [],
   "source": [
    "X_display, y_display = shap.datasets.adult(display=True)"
   ]
  },
  {
   "cell_type": "code",
   "execution_count": null,
   "id": "fab1c7b9",
   "metadata": {},
   "outputs": [],
   "source": [
    "expected_value = explainer.expected_value\n",
    "if isinstance(expected_value, list):\n",
    "    expected_value = expected_value[1]\n",
    "print(f\"Explainer expected value: {expected_value}\")"
   ]
  },
  {
   "cell_type": "code",
   "execution_count": null,
   "id": "8ac2c355",
   "metadata": {},
   "outputs": [],
   "source": [
    "select = range(20,50)\n",
    "features = X_test.iloc[select]\n",
    "features_display = X_test.iloc[select]"
   ]
  },
  {
   "cell_type": "code",
   "execution_count": null,
   "id": "9a2875f4",
   "metadata": {},
   "outputs": [],
   "source": [
    "shap_values = explainer.shap_values(features)[1]"
   ]
  },
  {
   "cell_type": "code",
   "execution_count": null,
   "id": "e2a938b5",
   "metadata": {},
   "outputs": [],
   "source": [
    "shap.decision_plot(expected_value, shap_values, features_display)"
   ]
  }
 ],
 "metadata": {
  "kernelspec": {
   "display_name": "Python 3",
   "language": "python",
   "name": "python3"
  },
  "language_info": {
   "codemirror_mode": {
    "name": "ipython",
    "version": 3
   },
   "file_extension": ".py",
   "mimetype": "text/x-python",
   "name": "python",
   "nbconvert_exporter": "python",
   "pygments_lexer": "ipython3",
   "version": "3.9.0 (tags/v3.9.0:9cf6752, Oct  5 2020, 15:34:40) [MSC v.1927 64 bit (AMD64)]"
  },
  "vscode": {
   "interpreter": {
    "hash": "54afd52a6487d6284f61e30918ba5042b8e92ae1e70c04658de538216c0877e0"
   }
  }
 },
 "nbformat": 4,
 "nbformat_minor": 5
}
