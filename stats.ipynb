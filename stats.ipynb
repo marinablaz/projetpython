{
 "cells": [
  {
   "cell_type": "markdown",
   "id": "6c55186d-d73f-4aca-8c39-addb880a4f08",
   "metadata": {},
   "source": [
    "# Projet Python pour le data scientist : Prévision des prix des Airbnb\n",
    "#### Réalisé par M.Blazevic, E.Bordais, C.Nadler, C.Voisin"
   ]
  },
  {
   "cell_type": "markdown",
   "id": "992a7682-62b1-4d74-b79e-32526280c369",
   "metadata": {
    "jp-MarkdownHeadingCollapsed": true,
    "tags": []
   },
   "source": [
    "## 0. Import modules et base de données"
   ]
  },
  {
   "cell_type": "code",
   "execution_count": null,
   "id": "4f3f78ce-fc50-42f4-8ecb-436880b95186",
   "metadata": {},
   "outputs": [],
   "source": [
    "import pandas as pd\n",
    "import numpy as np\n",
    "import seaborn as sns \n",
    "import matplotlib.pyplot as plt\n",
    "from string import ascii_letters\n"
   ]
  },
  {
   "cell_type": "code",
   "execution_count": null,
   "id": "d7495292-69f8-4444-89c3-f2d0a1e9b5dd",
   "metadata": {},
   "outputs": [
    {
     "name": "stderr",
     "output_type": "stream",
     "text": [
      "/var/folders/jy/50hwswtx04j4ympkb9_ywp_h0000gn/T/ipykernel_86230/652722768.py:1: DtypeWarning: Columns (40,82) have mixed types. Specify dtype option on import or set low_memory=False.\n",
      "  data = pd.read_csv('/Users/eleabordais/Documents/ENSAE/2A ENSAE/Python/Projet python/airbnb-listings3.csv' , sep=';')\n"
     ]
    },
    {
     "data": {
      "text/html": [
       "<div>\n",
       "<style scoped>\n",
       "    .dataframe tbody tr th:only-of-type {\n",
       "        vertical-align: middle;\n",
       "    }\n",
       "\n",
       "    .dataframe tbody tr th {\n",
       "        vertical-align: top;\n",
       "    }\n",
       "\n",
       "    .dataframe thead th {\n",
       "        text-align: right;\n",
       "    }\n",
       "</style>\n",
       "<table border=\"1\" class=\"dataframe\">\n",
       "  <thead>\n",
       "    <tr style=\"text-align: right;\">\n",
       "      <th></th>\n",
       "      <th>ID</th>\n",
       "      <th>Listing Url</th>\n",
       "      <th>Scrape ID</th>\n",
       "      <th>Last Scraped</th>\n",
       "      <th>Name</th>\n",
       "      <th>Summary</th>\n",
       "      <th>Space</th>\n",
       "      <th>Description</th>\n",
       "      <th>Experiences Offered</th>\n",
       "      <th>Neighborhood Overview</th>\n",
       "      <th>...</th>\n",
       "      <th>Review Scores Communication</th>\n",
       "      <th>Review Scores Location</th>\n",
       "      <th>Review Scores Value</th>\n",
       "      <th>License</th>\n",
       "      <th>Jurisdiction Names</th>\n",
       "      <th>Cancellation Policy</th>\n",
       "      <th>Calculated host listings count</th>\n",
       "      <th>Reviews per Month</th>\n",
       "      <th>Geolocation</th>\n",
       "      <th>Features</th>\n",
       "    </tr>\n",
       "  </thead>\n",
       "  <tbody>\n",
       "    <tr>\n",
       "      <th>0</th>\n",
       "      <td>7713011</td>\n",
       "      <td>https://www.airbnb.com/rooms/7713011</td>\n",
       "      <td>20170404145355</td>\n",
       "      <td>2017-04-06</td>\n",
       "      <td>STUDIO PIGALLE W BALCONY</td>\n",
       "      <td>In the heart of Montmarte Pigalle, this lovely...</td>\n",
       "      <td>This newly refurbished flat is ideal for a cou...</td>\n",
       "      <td>In the heart of Montmarte Pigalle, this lovely...</td>\n",
       "      <td>none</td>\n",
       "      <td>It is central enough for you to walk your way ...</td>\n",
       "      <td>...</td>\n",
       "      <td>9.0</td>\n",
       "      <td>8.0</td>\n",
       "      <td>9.0</td>\n",
       "      <td>NaN</td>\n",
       "      <td>Paris</td>\n",
       "      <td>strict</td>\n",
       "      <td>7</td>\n",
       "      <td>1.84</td>\n",
       "      <td>48.88292573377615,2.3358125139068453</td>\n",
       "      <td>Host Has Profile Pic,Host Identity Verified,Is...</td>\n",
       "    </tr>\n",
       "    <tr>\n",
       "      <th>1</th>\n",
       "      <td>3335054</td>\n",
       "      <td>https://www.airbnb.com/rooms/3335054</td>\n",
       "      <td>20170404145355</td>\n",
       "      <td>2017-04-05</td>\n",
       "      <td>Montmartre au pied du Sacré-Coeur !</td>\n",
       "      <td>Ce studio de 22m2, rénové et équipé avec soin,...</td>\n",
       "      <td>A studio where it is very pleasant to settle i...</td>\n",
       "      <td>A studio where it is very pleasant to settle i...</td>\n",
       "      <td>none</td>\n",
       "      <td>The apartment is located rue d'Orsel just belo...</td>\n",
       "      <td>...</td>\n",
       "      <td>10.0</td>\n",
       "      <td>10.0</td>\n",
       "      <td>10.0</td>\n",
       "      <td>NaN</td>\n",
       "      <td>Paris</td>\n",
       "      <td>moderate</td>\n",
       "      <td>1</td>\n",
       "      <td>0.03</td>\n",
       "      <td>48.88301302713629,2.343468625865973</td>\n",
       "      <td>Host Has Profile Pic,Host Identity Verified,Is...</td>\n",
       "    </tr>\n",
       "    <tr>\n",
       "      <th>2</th>\n",
       "      <td>10066518</td>\n",
       "      <td>https://www.airbnb.com/rooms/10066518</td>\n",
       "      <td>20170404145355</td>\n",
       "      <td>2017-04-06</td>\n",
       "      <td>LOVELY FLAT MONTMARTRE SACRE COEUR</td>\n",
       "      <td>In 2' by walk of the Sacré-Coeur and the Mouli...</td>\n",
       "      <td>Charmant appartement typiquement parisien avec...</td>\n",
       "      <td>In 2' by walk of the Sacré-Coeur and the Mouli...</td>\n",
       "      <td>none</td>\n",
       "      <td>Situé en plein quartier Montmartre, vous serez...</td>\n",
       "      <td>...</td>\n",
       "      <td>10.0</td>\n",
       "      <td>10.0</td>\n",
       "      <td>10.0</td>\n",
       "      <td>NaN</td>\n",
       "      <td>Paris</td>\n",
       "      <td>moderate</td>\n",
       "      <td>2</td>\n",
       "      <td>0.89</td>\n",
       "      <td>48.884043258037266,2.3406044314802927</td>\n",
       "      <td>Host Has Profile Pic,Host Identity Verified,Is...</td>\n",
       "    </tr>\n",
       "    <tr>\n",
       "      <th>3</th>\n",
       "      <td>8100080</td>\n",
       "      <td>https://www.airbnb.com/rooms/8100080</td>\n",
       "      <td>20170404145355</td>\n",
       "      <td>2017-04-06</td>\n",
       "      <td>Appartement au pied de Montmartre</td>\n",
       "      <td>Dans un appartement de 50m², à deux minutes du...</td>\n",
       "      <td>NaN</td>\n",
       "      <td>Dans un appartement de 50m², à deux minutes du...</td>\n",
       "      <td>none</td>\n",
       "      <td>NaN</td>\n",
       "      <td>...</td>\n",
       "      <td>10.0</td>\n",
       "      <td>10.0</td>\n",
       "      <td>9.0</td>\n",
       "      <td>NaN</td>\n",
       "      <td>Paris</td>\n",
       "      <td>flexible</td>\n",
       "      <td>1</td>\n",
       "      <td>0.17</td>\n",
       "      <td>48.88519518071742,2.3451007362886185</td>\n",
       "      <td>Host Has Profile Pic,Host Identity Verified,Is...</td>\n",
       "    </tr>\n",
       "    <tr>\n",
       "      <th>4</th>\n",
       "      <td>7397323</td>\n",
       "      <td>https://www.airbnb.com/rooms/7397323</td>\n",
       "      <td>20170404145355</td>\n",
       "      <td>2017-04-06</td>\n",
       "      <td>Beautiful and Spacious Studio</td>\n",
       "      <td>Grd studio lumineux de 32m² avec une grande pi...</td>\n",
       "      <td>NaN</td>\n",
       "      <td>Grd studio lumineux de 32m² avec une grande pi...</td>\n",
       "      <td>none</td>\n",
       "      <td>NaN</td>\n",
       "      <td>...</td>\n",
       "      <td>10.0</td>\n",
       "      <td>8.0</td>\n",
       "      <td>10.0</td>\n",
       "      <td>NaN</td>\n",
       "      <td>Paris</td>\n",
       "      <td>flexible</td>\n",
       "      <td>1</td>\n",
       "      <td>0.11</td>\n",
       "      <td>48.89480043872107,2.3300554723388434</td>\n",
       "      <td>Host Has Profile Pic</td>\n",
       "    </tr>\n",
       "    <tr>\n",
       "      <th>...</th>\n",
       "      <td>...</td>\n",
       "      <td>...</td>\n",
       "      <td>...</td>\n",
       "      <td>...</td>\n",
       "      <td>...</td>\n",
       "      <td>...</td>\n",
       "      <td>...</td>\n",
       "      <td>...</td>\n",
       "      <td>...</td>\n",
       "      <td>...</td>\n",
       "      <td>...</td>\n",
       "      <td>...</td>\n",
       "      <td>...</td>\n",
       "      <td>...</td>\n",
       "      <td>...</td>\n",
       "      <td>...</td>\n",
       "      <td>...</td>\n",
       "      <td>...</td>\n",
       "      <td>...</td>\n",
       "      <td>...</td>\n",
       "      <td>...</td>\n",
       "    </tr>\n",
       "    <tr>\n",
       "      <th>54508</th>\n",
       "      <td>2610162</td>\n",
       "      <td>https://www.airbnb.com/rooms/2610162</td>\n",
       "      <td>20170404145355</td>\n",
       "      <td>2017-04-06</td>\n",
       "      <td>Rue Cler at 500m from Eiffel Tower!</td>\n",
       "      <td>Logement très calme, ensoleillé, situé derrièr...</td>\n",
       "      <td>Ce logement se trouve au 2e étage et comporte ...</td>\n",
       "      <td>Logement très calme, ensoleillé, situé derrièr...</td>\n",
       "      <td>none</td>\n",
       "      <td>Quartier \"vivant\" aussi bien de jour comme de ...</td>\n",
       "      <td>...</td>\n",
       "      <td>9.0</td>\n",
       "      <td>10.0</td>\n",
       "      <td>9.0</td>\n",
       "      <td>NaN</td>\n",
       "      <td>Paris</td>\n",
       "      <td>moderate</td>\n",
       "      <td>1</td>\n",
       "      <td>1.06</td>\n",
       "      <td>48.858121148036595,2.3060024345958587</td>\n",
       "      <td>Host Has Profile Pic,Host Identity Verified,Is...</td>\n",
       "    </tr>\n",
       "    <tr>\n",
       "      <th>54509</th>\n",
       "      <td>13760682</td>\n",
       "      <td>https://www.airbnb.com/rooms/13760682</td>\n",
       "      <td>20170404145355</td>\n",
       "      <td>2017-04-06</td>\n",
       "      <td>Elegant 160m Home in the heart of St Germain</td>\n",
       "      <td>Our home is in the heart to Saint-Germain-des-...</td>\n",
       "      <td>Our home is a large (160m) classic French apar...</td>\n",
       "      <td>Our home is in the heart to Saint-Germain-des-...</td>\n",
       "      <td>none</td>\n",
       "      <td>St Germain des Pres is the heart of left bank ...</td>\n",
       "      <td>...</td>\n",
       "      <td>10.0</td>\n",
       "      <td>10.0</td>\n",
       "      <td>9.0</td>\n",
       "      <td>NaN</td>\n",
       "      <td>Paris</td>\n",
       "      <td>strict</td>\n",
       "      <td>2</td>\n",
       "      <td>0.56</td>\n",
       "      <td>48.85289626976821,2.3256957697321123</td>\n",
       "      <td>Host Has Profile Pic,Host Identity Verified,Is...</td>\n",
       "    </tr>\n",
       "    <tr>\n",
       "      <th>54510</th>\n",
       "      <td>9173969</td>\n",
       "      <td>https://www.airbnb.com/rooms/9173969</td>\n",
       "      <td>20170404145355</td>\n",
       "      <td>2017-04-06</td>\n",
       "      <td>partner service test listing3</td>\n",
       "      <td>this is a test summary</td>\n",
       "      <td>NaN</td>\n",
       "      <td>this is a test summary</td>\n",
       "      <td>none</td>\n",
       "      <td>NaN</td>\n",
       "      <td>...</td>\n",
       "      <td>NaN</td>\n",
       "      <td>NaN</td>\n",
       "      <td>NaN</td>\n",
       "      <td>NaN</td>\n",
       "      <td>Paris</td>\n",
       "      <td>flexible</td>\n",
       "      <td>1</td>\n",
       "      <td>NaN</td>\n",
       "      <td>48.8528110291481,2.3248405116672988</td>\n",
       "      <td>Host Has Profile Pic,Is Location Exact</td>\n",
       "    </tr>\n",
       "    <tr>\n",
       "      <th>54511</th>\n",
       "      <td>13754942</td>\n",
       "      <td>https://www.airbnb.com/rooms/13754942</td>\n",
       "      <td>20170404145355</td>\n",
       "      <td>2017-04-06</td>\n",
       "      <td>2 bedroom appartement in a premium area</td>\n",
       "      <td>Situated in a prestigious area near the Rodin ...</td>\n",
       "      <td>NaN</td>\n",
       "      <td>Situated in a prestigious area near the Rodin ...</td>\n",
       "      <td>none</td>\n",
       "      <td>Premium neighborhoods with many wonderful cafe...</td>\n",
       "      <td>...</td>\n",
       "      <td>10.0</td>\n",
       "      <td>10.0</td>\n",
       "      <td>10.0</td>\n",
       "      <td>NaN</td>\n",
       "      <td>Paris</td>\n",
       "      <td>strict</td>\n",
       "      <td>1</td>\n",
       "      <td>0.34</td>\n",
       "      <td>48.858549434544635,2.3167999983004584</td>\n",
       "      <td>Host Has Profile Pic,Is Location Exact</td>\n",
       "    </tr>\n",
       "    <tr>\n",
       "      <th>54512</th>\n",
       "      <td>8642835</td>\n",
       "      <td>https://www.airbnb.com/rooms/8642835</td>\n",
       "      <td>20170404145355</td>\n",
       "      <td>2017-04-06</td>\n",
       "      <td>Spacious Room in Charming Apartment</td>\n",
       "      <td>Spacious bedroom in a beautifully authentic th...</td>\n",
       "      <td>A classic turn of the century apartment in the...</td>\n",
       "      <td>Spacious bedroom in a beautifully authentic th...</td>\n",
       "      <td>none</td>\n",
       "      <td>Welcome to the Rive Gauche!  This particular a...</td>\n",
       "      <td>...</td>\n",
       "      <td>10.0</td>\n",
       "      <td>10.0</td>\n",
       "      <td>10.0</td>\n",
       "      <td>NaN</td>\n",
       "      <td>Paris</td>\n",
       "      <td>flexible</td>\n",
       "      <td>1</td>\n",
       "      <td>0.06</td>\n",
       "      <td>48.85690237657029,2.3074208235843616</td>\n",
       "      <td>Host Has Profile Pic,Host Identity Verified,Is...</td>\n",
       "    </tr>\n",
       "  </tbody>\n",
       "</table>\n",
       "<p>54513 rows × 89 columns</p>\n",
       "</div>"
      ],
      "text/plain": [
       "             ID                            Listing Url       Scrape ID  \\\n",
       "0       7713011   https://www.airbnb.com/rooms/7713011  20170404145355   \n",
       "1       3335054   https://www.airbnb.com/rooms/3335054  20170404145355   \n",
       "2      10066518  https://www.airbnb.com/rooms/10066518  20170404145355   \n",
       "3       8100080   https://www.airbnb.com/rooms/8100080  20170404145355   \n",
       "4       7397323   https://www.airbnb.com/rooms/7397323  20170404145355   \n",
       "...         ...                                    ...             ...   \n",
       "54508   2610162   https://www.airbnb.com/rooms/2610162  20170404145355   \n",
       "54509  13760682  https://www.airbnb.com/rooms/13760682  20170404145355   \n",
       "54510   9173969   https://www.airbnb.com/rooms/9173969  20170404145355   \n",
       "54511  13754942  https://www.airbnb.com/rooms/13754942  20170404145355   \n",
       "54512   8642835   https://www.airbnb.com/rooms/8642835  20170404145355   \n",
       "\n",
       "      Last Scraped                                          Name  \\\n",
       "0       2017-04-06                      STUDIO PIGALLE W BALCONY   \n",
       "1       2017-04-05           Montmartre au pied du Sacré-Coeur !   \n",
       "2       2017-04-06            LOVELY FLAT MONTMARTRE SACRE COEUR   \n",
       "3       2017-04-06             Appartement au pied de Montmartre   \n",
       "4       2017-04-06                 Beautiful and Spacious Studio   \n",
       "...            ...                                           ...   \n",
       "54508   2017-04-06           Rue Cler at 500m from Eiffel Tower!   \n",
       "54509   2017-04-06  Elegant 160m Home in the heart of St Germain   \n",
       "54510   2017-04-06                 partner service test listing3   \n",
       "54511   2017-04-06       2 bedroom appartement in a premium area   \n",
       "54512   2017-04-06           Spacious Room in Charming Apartment   \n",
       "\n",
       "                                                 Summary  \\\n",
       "0      In the heart of Montmarte Pigalle, this lovely...   \n",
       "1      Ce studio de 22m2, rénové et équipé avec soin,...   \n",
       "2      In 2' by walk of the Sacré-Coeur and the Mouli...   \n",
       "3      Dans un appartement de 50m², à deux minutes du...   \n",
       "4      Grd studio lumineux de 32m² avec une grande pi...   \n",
       "...                                                  ...   \n",
       "54508  Logement très calme, ensoleillé, situé derrièr...   \n",
       "54509  Our home is in the heart to Saint-Germain-des-...   \n",
       "54510                             this is a test summary   \n",
       "54511  Situated in a prestigious area near the Rodin ...   \n",
       "54512  Spacious bedroom in a beautifully authentic th...   \n",
       "\n",
       "                                                   Space  \\\n",
       "0      This newly refurbished flat is ideal for a cou...   \n",
       "1      A studio where it is very pleasant to settle i...   \n",
       "2      Charmant appartement typiquement parisien avec...   \n",
       "3                                                    NaN   \n",
       "4                                                    NaN   \n",
       "...                                                  ...   \n",
       "54508  Ce logement se trouve au 2e étage et comporte ...   \n",
       "54509  Our home is a large (160m) classic French apar...   \n",
       "54510                                                NaN   \n",
       "54511                                                NaN   \n",
       "54512  A classic turn of the century apartment in the...   \n",
       "\n",
       "                                             Description Experiences Offered  \\\n",
       "0      In the heart of Montmarte Pigalle, this lovely...                none   \n",
       "1      A studio where it is very pleasant to settle i...                none   \n",
       "2      In 2' by walk of the Sacré-Coeur and the Mouli...                none   \n",
       "3      Dans un appartement de 50m², à deux minutes du...                none   \n",
       "4      Grd studio lumineux de 32m² avec une grande pi...                none   \n",
       "...                                                  ...                 ...   \n",
       "54508  Logement très calme, ensoleillé, situé derrièr...                none   \n",
       "54509  Our home is in the heart to Saint-Germain-des-...                none   \n",
       "54510                             this is a test summary                none   \n",
       "54511  Situated in a prestigious area near the Rodin ...                none   \n",
       "54512  Spacious bedroom in a beautifully authentic th...                none   \n",
       "\n",
       "                                   Neighborhood Overview  ...  \\\n",
       "0      It is central enough for you to walk your way ...  ...   \n",
       "1      The apartment is located rue d'Orsel just belo...  ...   \n",
       "2      Situé en plein quartier Montmartre, vous serez...  ...   \n",
       "3                                                    NaN  ...   \n",
       "4                                                    NaN  ...   \n",
       "...                                                  ...  ...   \n",
       "54508  Quartier \"vivant\" aussi bien de jour comme de ...  ...   \n",
       "54509  St Germain des Pres is the heart of left bank ...  ...   \n",
       "54510                                                NaN  ...   \n",
       "54511  Premium neighborhoods with many wonderful cafe...  ...   \n",
       "54512  Welcome to the Rive Gauche!  This particular a...  ...   \n",
       "\n",
       "      Review Scores Communication Review Scores Location Review Scores Value  \\\n",
       "0                             9.0                    8.0                 9.0   \n",
       "1                            10.0                   10.0                10.0   \n",
       "2                            10.0                   10.0                10.0   \n",
       "3                            10.0                   10.0                 9.0   \n",
       "4                            10.0                    8.0                10.0   \n",
       "...                           ...                    ...                 ...   \n",
       "54508                         9.0                   10.0                 9.0   \n",
       "54509                        10.0                   10.0                 9.0   \n",
       "54510                         NaN                    NaN                 NaN   \n",
       "54511                        10.0                   10.0                10.0   \n",
       "54512                        10.0                   10.0                10.0   \n",
       "\n",
       "      License Jurisdiction Names Cancellation Policy  \\\n",
       "0         NaN              Paris              strict   \n",
       "1         NaN              Paris            moderate   \n",
       "2         NaN              Paris            moderate   \n",
       "3         NaN              Paris            flexible   \n",
       "4         NaN              Paris            flexible   \n",
       "...       ...                ...                 ...   \n",
       "54508     NaN              Paris            moderate   \n",
       "54509     NaN              Paris              strict   \n",
       "54510     NaN              Paris            flexible   \n",
       "54511     NaN              Paris              strict   \n",
       "54512     NaN              Paris            flexible   \n",
       "\n",
       "      Calculated host listings count Reviews per Month  \\\n",
       "0                                  7              1.84   \n",
       "1                                  1              0.03   \n",
       "2                                  2              0.89   \n",
       "3                                  1              0.17   \n",
       "4                                  1              0.11   \n",
       "...                              ...               ...   \n",
       "54508                              1              1.06   \n",
       "54509                              2              0.56   \n",
       "54510                              1               NaN   \n",
       "54511                              1              0.34   \n",
       "54512                              1              0.06   \n",
       "\n",
       "                                 Geolocation  \\\n",
       "0       48.88292573377615,2.3358125139068453   \n",
       "1        48.88301302713629,2.343468625865973   \n",
       "2      48.884043258037266,2.3406044314802927   \n",
       "3       48.88519518071742,2.3451007362886185   \n",
       "4       48.89480043872107,2.3300554723388434   \n",
       "...                                      ...   \n",
       "54508  48.858121148036595,2.3060024345958587   \n",
       "54509   48.85289626976821,2.3256957697321123   \n",
       "54510    48.8528110291481,2.3248405116672988   \n",
       "54511  48.858549434544635,2.3167999983004584   \n",
       "54512   48.85690237657029,2.3074208235843616   \n",
       "\n",
       "                                                Features  \n",
       "0      Host Has Profile Pic,Host Identity Verified,Is...  \n",
       "1      Host Has Profile Pic,Host Identity Verified,Is...  \n",
       "2      Host Has Profile Pic,Host Identity Verified,Is...  \n",
       "3      Host Has Profile Pic,Host Identity Verified,Is...  \n",
       "4                                   Host Has Profile Pic  \n",
       "...                                                  ...  \n",
       "54508  Host Has Profile Pic,Host Identity Verified,Is...  \n",
       "54509  Host Has Profile Pic,Host Identity Verified,Is...  \n",
       "54510             Host Has Profile Pic,Is Location Exact  \n",
       "54511             Host Has Profile Pic,Is Location Exact  \n",
       "54512  Host Has Profile Pic,Host Identity Verified,Is...  \n",
       "\n",
       "[54513 rows x 89 columns]"
      ]
     },
     "execution_count": 107,
     "metadata": {},
     "output_type": "execute_result"
    }
   ],
   "source": [
    "data = pd.read_csv('/Users/eleabordais/Documents/ENSAE/2A ENSAE/Python/Projet python/airbnb-listings3.csv' , sep=';')\n",
    "data\n",
    "# data = pd.read_csv('/Users/come/Desktop/ENSAE/Cours/Projet_python/airbnb-listings3.csv' , sep=';')\n",
    "# data"
   ]
  },
  {
   "cell_type": "markdown",
   "id": "8925a776-2eb8-4a46-ae57-341a0c26d1fd",
   "metadata": {},
   "source": [
    "On supprime les features qui ne sont pas utiles"
   ]
  },
  {
   "cell_type": "code",
   "execution_count": null,
   "id": "c2f69f57-2cec-46f1-a219-e2b75374a8e9",
   "metadata": {},
   "outputs": [],
   "source": [
    "df = data.drop(['ID', 'Listing Url', 'Scrape ID', 'Last Scraped', 'Summary', \n",
    "              'Experiences Offered', 'Thumbnail Url', 'House Rules', 'Medium Url',\n",
    "              'Picture Url', 'XL Picture Url', 'Host URL', 'Host Location', \n",
    "              'Host About', 'Host Acceptance Rate', 'Host Thumbnail Url', \n",
    "              'Host Picture Url', 'Host Neighbourhood', 'Host Listings Count',\n",
    "               'Host Verifications','Neighbourhood Group Cleansed', 'State', \n",
    "                'Market', 'Smart Location', 'Country Code', 'Country', \n",
    "               'Calendar last Scraped', 'First Review', 'Last Review', \n",
    "                'Jurisdiction Names', 'Features', 'License', 'Interaction', 'Host Name',\n",
    "                'Monthly Price', 'Weekly Price'\n",
    "               ], axis=1)"
   ]
  },
  {
   "cell_type": "code",
   "execution_count": null,
   "id": "f2eb3b21-bdf8-4efc-ad2a-221903b25f3d",
   "metadata": {},
   "outputs": [
    {
     "data": {
      "text/html": [
       "<div>\n",
       "<style scoped>\n",
       "    .dataframe tbody tr th:only-of-type {\n",
       "        vertical-align: middle;\n",
       "    }\n",
       "\n",
       "    .dataframe tbody tr th {\n",
       "        vertical-align: top;\n",
       "    }\n",
       "\n",
       "    .dataframe thead th {\n",
       "        text-align: right;\n",
       "    }\n",
       "</style>\n",
       "<table border=\"1\" class=\"dataframe\">\n",
       "  <thead>\n",
       "    <tr style=\"text-align: right;\">\n",
       "      <th></th>\n",
       "      <th>Name</th>\n",
       "      <th>Space</th>\n",
       "      <th>Description</th>\n",
       "      <th>Neighborhood Overview</th>\n",
       "      <th>Notes</th>\n",
       "      <th>Transit</th>\n",
       "      <th>Access</th>\n",
       "      <th>Host ID</th>\n",
       "      <th>Host Since</th>\n",
       "      <th>Host Response Time</th>\n",
       "      <th>...</th>\n",
       "      <th>Review Scores Accuracy</th>\n",
       "      <th>Review Scores Cleanliness</th>\n",
       "      <th>Review Scores Checkin</th>\n",
       "      <th>Review Scores Communication</th>\n",
       "      <th>Review Scores Location</th>\n",
       "      <th>Review Scores Value</th>\n",
       "      <th>Cancellation Policy</th>\n",
       "      <th>Calculated host listings count</th>\n",
       "      <th>Reviews per Month</th>\n",
       "      <th>Geolocation</th>\n",
       "    </tr>\n",
       "  </thead>\n",
       "  <tbody>\n",
       "    <tr>\n",
       "      <th>0</th>\n",
       "      <td>STUDIO PIGALLE W BALCONY</td>\n",
       "      <td>This newly refurbished flat is ideal for a cou...</td>\n",
       "      <td>In the heart of Montmarte Pigalle, this lovely...</td>\n",
       "      <td>It is central enough for you to walk your way ...</td>\n",
       "      <td>Real globetrotters, we are real Parisians with...</td>\n",
       "      <td>The flat is ideally located in Montmartre Piga...</td>\n",
       "      <td>Subway stations: Abbesses or Pigalle. Bus, Tax...</td>\n",
       "      <td>32492446</td>\n",
       "      <td>2015-05-03</td>\n",
       "      <td>within an hour</td>\n",
       "      <td>...</td>\n",
       "      <td>9.0</td>\n",
       "      <td>9.0</td>\n",
       "      <td>9.0</td>\n",
       "      <td>9.0</td>\n",
       "      <td>8.0</td>\n",
       "      <td>9.0</td>\n",
       "      <td>strict</td>\n",
       "      <td>7</td>\n",
       "      <td>1.84</td>\n",
       "      <td>48.88292573377615,2.3358125139068453</td>\n",
       "    </tr>\n",
       "    <tr>\n",
       "      <th>1</th>\n",
       "      <td>Montmartre au pied du Sacré-Coeur !</td>\n",
       "      <td>A studio where it is very pleasant to settle i...</td>\n",
       "      <td>A studio where it is very pleasant to settle i...</td>\n",
       "      <td>The apartment is located rue d'Orsel just belo...</td>\n",
       "      <td>The building has a digital code and intercom. ...</td>\n",
       "      <td>The studio is easily accessible. At the foot o...</td>\n",
       "      <td>The kitchen is equipped with a refrigerator, t...</td>\n",
       "      <td>2726446</td>\n",
       "      <td>2012-06-24</td>\n",
       "      <td>NaN</td>\n",
       "      <td>...</td>\n",
       "      <td>10.0</td>\n",
       "      <td>10.0</td>\n",
       "      <td>10.0</td>\n",
       "      <td>10.0</td>\n",
       "      <td>10.0</td>\n",
       "      <td>10.0</td>\n",
       "      <td>moderate</td>\n",
       "      <td>1</td>\n",
       "      <td>0.03</td>\n",
       "      <td>48.88301302713629,2.343468625865973</td>\n",
       "    </tr>\n",
       "    <tr>\n",
       "      <th>2</th>\n",
       "      <td>LOVELY FLAT MONTMARTRE SACRE COEUR</td>\n",
       "      <td>Charmant appartement typiquement parisien avec...</td>\n",
       "      <td>In 2' by walk of the Sacré-Coeur and the Mouli...</td>\n",
       "      <td>Situé en plein quartier Montmartre, vous serez...</td>\n",
       "      <td>Situé en plein quartier Montmartre, vous serez...</td>\n",
       "      <td>Très bien desservi par les transports en commu...</td>\n",
       "      <td>NaN</td>\n",
       "      <td>30432969</td>\n",
       "      <td>2015-04-01</td>\n",
       "      <td>within a few hours</td>\n",
       "      <td>...</td>\n",
       "      <td>10.0</td>\n",
       "      <td>10.0</td>\n",
       "      <td>10.0</td>\n",
       "      <td>10.0</td>\n",
       "      <td>10.0</td>\n",
       "      <td>10.0</td>\n",
       "      <td>moderate</td>\n",
       "      <td>2</td>\n",
       "      <td>0.89</td>\n",
       "      <td>48.884043258037266,2.3406044314802927</td>\n",
       "    </tr>\n",
       "    <tr>\n",
       "      <th>3</th>\n",
       "      <td>Appartement au pied de Montmartre</td>\n",
       "      <td>NaN</td>\n",
       "      <td>Dans un appartement de 50m², à deux minutes du...</td>\n",
       "      <td>NaN</td>\n",
       "      <td>NaN</td>\n",
       "      <td>NaN</td>\n",
       "      <td>NaN</td>\n",
       "      <td>42773335</td>\n",
       "      <td>2015-08-28</td>\n",
       "      <td>within a few hours</td>\n",
       "      <td>...</td>\n",
       "      <td>10.0</td>\n",
       "      <td>10.0</td>\n",
       "      <td>10.0</td>\n",
       "      <td>10.0</td>\n",
       "      <td>10.0</td>\n",
       "      <td>9.0</td>\n",
       "      <td>flexible</td>\n",
       "      <td>1</td>\n",
       "      <td>0.17</td>\n",
       "      <td>48.88519518071742,2.3451007362886185</td>\n",
       "    </tr>\n",
       "    <tr>\n",
       "      <th>4</th>\n",
       "      <td>Beautiful and Spacious Studio</td>\n",
       "      <td>NaN</td>\n",
       "      <td>Grd studio lumineux de 32m² avec une grande pi...</td>\n",
       "      <td>NaN</td>\n",
       "      <td>NaN</td>\n",
       "      <td>NaN</td>\n",
       "      <td>NaN</td>\n",
       "      <td>38757332</td>\n",
       "      <td>2015-07-17</td>\n",
       "      <td>within an hour</td>\n",
       "      <td>...</td>\n",
       "      <td>10.0</td>\n",
       "      <td>9.0</td>\n",
       "      <td>9.0</td>\n",
       "      <td>10.0</td>\n",
       "      <td>8.0</td>\n",
       "      <td>10.0</td>\n",
       "      <td>flexible</td>\n",
       "      <td>1</td>\n",
       "      <td>0.11</td>\n",
       "      <td>48.89480043872107,2.3300554723388434</td>\n",
       "    </tr>\n",
       "  </tbody>\n",
       "</table>\n",
       "<p>5 rows × 53 columns</p>\n",
       "</div>"
      ],
      "text/plain": [
       "                                  Name  \\\n",
       "0             STUDIO PIGALLE W BALCONY   \n",
       "1  Montmartre au pied du Sacré-Coeur !   \n",
       "2   LOVELY FLAT MONTMARTRE SACRE COEUR   \n",
       "3    Appartement au pied de Montmartre   \n",
       "4        Beautiful and Spacious Studio   \n",
       "\n",
       "                                               Space  \\\n",
       "0  This newly refurbished flat is ideal for a cou...   \n",
       "1  A studio where it is very pleasant to settle i...   \n",
       "2  Charmant appartement typiquement parisien avec...   \n",
       "3                                                NaN   \n",
       "4                                                NaN   \n",
       "\n",
       "                                         Description  \\\n",
       "0  In the heart of Montmarte Pigalle, this lovely...   \n",
       "1  A studio where it is very pleasant to settle i...   \n",
       "2  In 2' by walk of the Sacré-Coeur and the Mouli...   \n",
       "3  Dans un appartement de 50m², à deux minutes du...   \n",
       "4  Grd studio lumineux de 32m² avec une grande pi...   \n",
       "\n",
       "                               Neighborhood Overview  \\\n",
       "0  It is central enough for you to walk your way ...   \n",
       "1  The apartment is located rue d'Orsel just belo...   \n",
       "2  Situé en plein quartier Montmartre, vous serez...   \n",
       "3                                                NaN   \n",
       "4                                                NaN   \n",
       "\n",
       "                                               Notes  \\\n",
       "0  Real globetrotters, we are real Parisians with...   \n",
       "1  The building has a digital code and intercom. ...   \n",
       "2  Situé en plein quartier Montmartre, vous serez...   \n",
       "3                                                NaN   \n",
       "4                                                NaN   \n",
       "\n",
       "                                             Transit  \\\n",
       "0  The flat is ideally located in Montmartre Piga...   \n",
       "1  The studio is easily accessible. At the foot o...   \n",
       "2  Très bien desservi par les transports en commu...   \n",
       "3                                                NaN   \n",
       "4                                                NaN   \n",
       "\n",
       "                                              Access   Host ID  Host Since  \\\n",
       "0  Subway stations: Abbesses or Pigalle. Bus, Tax...  32492446  2015-05-03   \n",
       "1  The kitchen is equipped with a refrigerator, t...   2726446  2012-06-24   \n",
       "2                                                NaN  30432969  2015-04-01   \n",
       "3                                                NaN  42773335  2015-08-28   \n",
       "4                                                NaN  38757332  2015-07-17   \n",
       "\n",
       "   Host Response Time  ...  Review Scores Accuracy  Review Scores Cleanliness  \\\n",
       "0      within an hour  ...                     9.0                        9.0   \n",
       "1                 NaN  ...                    10.0                       10.0   \n",
       "2  within a few hours  ...                    10.0                       10.0   \n",
       "3  within a few hours  ...                    10.0                       10.0   \n",
       "4      within an hour  ...                    10.0                        9.0   \n",
       "\n",
       "  Review Scores Checkin Review Scores Communication Review Scores Location  \\\n",
       "0                   9.0                         9.0                    8.0   \n",
       "1                  10.0                        10.0                   10.0   \n",
       "2                  10.0                        10.0                   10.0   \n",
       "3                  10.0                        10.0                   10.0   \n",
       "4                   9.0                        10.0                    8.0   \n",
       "\n",
       "  Review Scores Value Cancellation Policy  Calculated host listings count  \\\n",
       "0                 9.0              strict                               7   \n",
       "1                10.0            moderate                               1   \n",
       "2                10.0            moderate                               2   \n",
       "3                 9.0            flexible                               1   \n",
       "4                10.0            flexible                               1   \n",
       "\n",
       "   Reviews per Month                            Geolocation  \n",
       "0               1.84   48.88292573377615,2.3358125139068453  \n",
       "1               0.03    48.88301302713629,2.343468625865973  \n",
       "2               0.89  48.884043258037266,2.3406044314802927  \n",
       "3               0.17   48.88519518071742,2.3451007362886185  \n",
       "4               0.11   48.89480043872107,2.3300554723388434  \n",
       "\n",
       "[5 rows x 53 columns]"
      ]
     },
     "execution_count": 109,
     "metadata": {},
     "output_type": "execute_result"
    }
   ],
   "source": [
    "df.head()"
   ]
  },
  {
   "cell_type": "markdown",
   "id": "624d89ad-51af-46df-b0f8-360a8142071b",
   "metadata": {},
   "source": [
    "on a donc maintenant 55 features"
   ]
  },
  {
   "cell_type": "code",
   "execution_count": null,
   "id": "b67f03dd-4271-4a11-8a54-cfb73e8914a2",
   "metadata": {},
   "outputs": [
    {
     "data": {
      "text/plain": [
       "Index(['Name', 'Space', 'Description', 'Neighborhood Overview', 'Notes',\n",
       "       'Transit', 'Access', 'Host ID', 'Host Since', 'Host Response Time',\n",
       "       'Host Response Rate', 'Host Total Listings Count', 'Street',\n",
       "       'Neighbourhood', 'Neighbourhood Cleansed', 'City', 'Zipcode',\n",
       "       'Latitude', 'Longitude', 'Property Type', 'Room Type', 'Accommodates',\n",
       "       'Bathrooms', 'Bedrooms', 'Beds', 'Bed Type', 'Amenities', 'Square Feet',\n",
       "       'Price', 'Security Deposit', 'Cleaning Fee', 'Guests Included',\n",
       "       'Extra People', 'Minimum Nights', 'Maximum Nights', 'Calendar Updated',\n",
       "       'Has Availability', 'Availability 30', 'Availability 60',\n",
       "       'Availability 90', 'Availability 365', 'Number of Reviews',\n",
       "       'Review Scores Rating', 'Review Scores Accuracy',\n",
       "       'Review Scores Cleanliness', 'Review Scores Checkin',\n",
       "       'Review Scores Communication', 'Review Scores Location',\n",
       "       'Review Scores Value', 'Cancellation Policy',\n",
       "       'Calculated host listings count', 'Reviews per Month', 'Geolocation'],\n",
       "      dtype='object')"
      ]
     },
     "execution_count": 110,
     "metadata": {},
     "output_type": "execute_result"
    }
   ],
   "source": [
    "df.columns"
   ]
  },
  {
   "cell_type": "markdown",
   "id": "e6f159b3-4d3f-40fb-969b-32a334be80b8",
   "metadata": {
    "tags": []
   },
   "source": [
    "## 1. Statistiques descriptives de la base de données "
   ]
  },
  {
   "cell_type": "markdown",
   "id": "e461ca3f-a45f-4245-ac80-39183cf34e37",
   "metadata": {
    "jp-MarkdownHeadingCollapsed": true,
    "tags": []
   },
   "source": [
    "### 1.0 Premières statistiques"
   ]
  },
  {
   "cell_type": "code",
   "execution_count": null,
   "id": "4b40d0a4-dd35-421d-b64f-c14cee39bb16",
   "metadata": {},
   "outputs": [],
   "source": [
    "#on abandonne les colonnes où les prix sont nuls pour éviter de fausser l'analyse\n",
    "df=df[df['Price']!=0]"
   ]
  },
  {
   "cell_type": "code",
   "execution_count": null,
   "id": "19369afe-2b5e-461e-b3bd-1ce4a934a8d9",
   "metadata": {},
   "outputs": [
    {
     "data": {
      "text/plain": [
       "count    54458.000000\n",
       "mean        94.789159\n",
       "std         73.357259\n",
       "min          8.000000\n",
       "25%         55.000000\n",
       "50%         75.000000\n",
       "75%        107.000000\n",
       "max        999.000000\n",
       "Name: Price, dtype: float64"
      ]
     },
     "execution_count": 8,
     "metadata": {},
     "output_type": "execute_result"
    }
   ],
   "source": [
    "df['Price'].describe()"
   ]
  },
  {
   "cell_type": "markdown",
   "id": "e9ab2362-43cf-4f92-a342-7014a9021a41",
   "metadata": {},
   "source": [
    "Commentaire : prix moyen de 94€ (prix min de 8€ étrange) "
   ]
  },
  {
   "cell_type": "code",
   "execution_count": null,
   "id": "818f0d3d-e8d3-41c2-915a-49f5fd1c082b",
   "metadata": {},
   "outputs": [],
   "source": [
    "#Traçons la répartition des prix des Airbnb Parisiens"
   ]
  },
  {
   "cell_type": "code",
   "execution_count": null,
   "id": "6a7552e7-b138-4a70-a447-149174423218",
   "metadata": {},
   "outputs": [
    {
     "data": {
      "text/plain": [
       "Text(0.5, 1.0, 'Répartition des prix des AirBnb parisiens')"
      ]
     },
     "execution_count": 15,
     "metadata": {},
     "output_type": "execute_result"
    },
    {
     "data": {
      "image/png": "[encoded data removed]",
      "text/plain": [
       "<Figure size 1000x500 with 1 Axes>"
      ]
     },
     "metadata": {},
     "output_type": "display_data"
    }
   ],
   "source": [
    "fig, ax = plt.subplots(figsize=(10, 5))\n",
    "sns.histplot(data=df['Price'], kde=True, bins=int(100))\n",
    "plt.title ('Répartition des prix des AirBnb parisiens')"
   ]
  },
  {
   "cell_type": "code",
   "execution_count": null,
   "id": "8f6f3bb2-61e4-4436-96aa-15fea8bf0121",
   "metadata": {},
   "outputs": [
    {
     "data": {
      "text/plain": [
       "93.09155614257149"
      ]
     },
     "execution_count": 111,
     "metadata": {},
     "output_type": "execute_result"
    }
   ],
   "source": [
    "#Pourcentage des airbnb ayant un prix inférieur à 200€\n",
    "len(df.loc[df['Price']<200])/len(df) * 100"
   ]
  },
  {
   "cell_type": "markdown",
   "id": "20baecb6-b1a5-4e22-87a8-eda7e8259341",
   "metadata": {},
   "source": [
    "Commentaire : la plus grande partie des AirBnb ont un prix inférieur à 200€ la nuit. "
   ]
  },
  {
   "cell_type": "markdown",
   "id": "45981a0a-5379-4819-9fba-6097afc6ef38",
   "metadata": {},
   "source": [
    "Question : qu'est ce qui influence le plus le prix d'un airbnb ? plusieurs axes \n",
    "- sa taille : nb de chambres, de personnes qu'il peut accueillir, mètre carré\n",
    "- sa localisation : quartier \n",
    "- qualité de l'hébergement : matériels et service disponible\n",
    "- qualité de l'hôte\n"
   ]
  },
  {
   "cell_type": "markdown",
   "id": "47c80ade-d9d9-4219-aaae-38dcc445fa43",
   "metadata": {},
   "source": [
    "##### Quelles sont les variables les plus corrélées au prix ?"
   ]
  },
  {
   "cell_type": "code",
   "execution_count": null,
   "id": "c3f71fd0-f87d-4174-a5d8-0990ec06f8ff",
   "metadata": {},
   "outputs": [
    {
     "data": {
      "text/html": [
       "<div>\n",
       "<style scoped>\n",
       "    .dataframe tbody tr th:only-of-type {\n",
       "        vertical-align: middle;\n",
       "    }\n",
       "\n",
       "    .dataframe tbody tr th {\n",
       "        vertical-align: top;\n",
       "    }\n",
       "\n",
       "    .dataframe thead th {\n",
       "        text-align: right;\n",
       "    }\n",
       "</style>\n",
       "<table border=\"1\" class=\"dataframe\">\n",
       "  <thead>\n",
       "    <tr style=\"text-align: right;\">\n",
       "      <th></th>\n",
       "      <th>Host ID</th>\n",
       "      <th>Host Response Rate</th>\n",
       "      <th>Host Total Listings Count</th>\n",
       "      <th>Latitude</th>\n",
       "      <th>Longitude</th>\n",
       "      <th>Accommodates</th>\n",
       "      <th>Bathrooms</th>\n",
       "      <th>Bedrooms</th>\n",
       "      <th>Beds</th>\n",
       "      <th>Square Feet</th>\n",
       "      <th>...</th>\n",
       "      <th>Number of Reviews</th>\n",
       "      <th>Review Scores Rating</th>\n",
       "      <th>Review Scores Accuracy</th>\n",
       "      <th>Review Scores Cleanliness</th>\n",
       "      <th>Review Scores Checkin</th>\n",
       "      <th>Review Scores Communication</th>\n",
       "      <th>Review Scores Location</th>\n",
       "      <th>Review Scores Value</th>\n",
       "      <th>Calculated host listings count</th>\n",
       "      <th>Reviews per Month</th>\n",
       "    </tr>\n",
       "  </thead>\n",
       "  <tbody>\n",
       "    <tr>\n",
       "      <th>0</th>\n",
       "      <td>32492446</td>\n",
       "      <td>100.0</td>\n",
       "      <td>7.0</td>\n",
       "      <td>48.882926</td>\n",
       "      <td>2.335813</td>\n",
       "      <td>2</td>\n",
       "      <td>1.0</td>\n",
       "      <td>0.0</td>\n",
       "      <td>1.0</td>\n",
       "      <td>NaN</td>\n",
       "      <td>...</td>\n",
       "      <td>37</td>\n",
       "      <td>85.0</td>\n",
       "      <td>9.0</td>\n",
       "      <td>9.0</td>\n",
       "      <td>9.0</td>\n",
       "      <td>9.0</td>\n",
       "      <td>8.0</td>\n",
       "      <td>9.0</td>\n",
       "      <td>7</td>\n",
       "      <td>1.84</td>\n",
       "    </tr>\n",
       "    <tr>\n",
       "      <th>1</th>\n",
       "      <td>2726446</td>\n",
       "      <td>NaN</td>\n",
       "      <td>1.0</td>\n",
       "      <td>48.883013</td>\n",
       "      <td>2.343469</td>\n",
       "      <td>2</td>\n",
       "      <td>1.0</td>\n",
       "      <td>0.0</td>\n",
       "      <td>1.0</td>\n",
       "      <td>NaN</td>\n",
       "      <td>...</td>\n",
       "      <td>1</td>\n",
       "      <td>100.0</td>\n",
       "      <td>10.0</td>\n",
       "      <td>10.0</td>\n",
       "      <td>10.0</td>\n",
       "      <td>10.0</td>\n",
       "      <td>10.0</td>\n",
       "      <td>10.0</td>\n",
       "      <td>1</td>\n",
       "      <td>0.03</td>\n",
       "    </tr>\n",
       "    <tr>\n",
       "      <th>2</th>\n",
       "      <td>30432969</td>\n",
       "      <td>95.0</td>\n",
       "      <td>2.0</td>\n",
       "      <td>48.884043</td>\n",
       "      <td>2.340604</td>\n",
       "      <td>2</td>\n",
       "      <td>1.0</td>\n",
       "      <td>1.0</td>\n",
       "      <td>1.0</td>\n",
       "      <td>NaN</td>\n",
       "      <td>...</td>\n",
       "      <td>13</td>\n",
       "      <td>97.0</td>\n",
       "      <td>10.0</td>\n",
       "      <td>10.0</td>\n",
       "      <td>10.0</td>\n",
       "      <td>10.0</td>\n",
       "      <td>10.0</td>\n",
       "      <td>10.0</td>\n",
       "      <td>2</td>\n",
       "      <td>0.89</td>\n",
       "    </tr>\n",
       "    <tr>\n",
       "      <th>3</th>\n",
       "      <td>42773335</td>\n",
       "      <td>100.0</td>\n",
       "      <td>1.0</td>\n",
       "      <td>48.885195</td>\n",
       "      <td>2.345101</td>\n",
       "      <td>2</td>\n",
       "      <td>1.0</td>\n",
       "      <td>1.0</td>\n",
       "      <td>1.0</td>\n",
       "      <td>NaN</td>\n",
       "      <td>...</td>\n",
       "      <td>3</td>\n",
       "      <td>87.0</td>\n",
       "      <td>10.0</td>\n",
       "      <td>10.0</td>\n",
       "      <td>10.0</td>\n",
       "      <td>10.0</td>\n",
       "      <td>10.0</td>\n",
       "      <td>9.0</td>\n",
       "      <td>1</td>\n",
       "      <td>0.17</td>\n",
       "    </tr>\n",
       "    <tr>\n",
       "      <th>4</th>\n",
       "      <td>38757332</td>\n",
       "      <td>100.0</td>\n",
       "      <td>1.0</td>\n",
       "      <td>48.894800</td>\n",
       "      <td>2.330055</td>\n",
       "      <td>2</td>\n",
       "      <td>1.0</td>\n",
       "      <td>0.0</td>\n",
       "      <td>1.0</td>\n",
       "      <td>NaN</td>\n",
       "      <td>...</td>\n",
       "      <td>2</td>\n",
       "      <td>90.0</td>\n",
       "      <td>10.0</td>\n",
       "      <td>9.0</td>\n",
       "      <td>9.0</td>\n",
       "      <td>10.0</td>\n",
       "      <td>8.0</td>\n",
       "      <td>10.0</td>\n",
       "      <td>1</td>\n",
       "      <td>0.11</td>\n",
       "    </tr>\n",
       "  </tbody>\n",
       "</table>\n",
       "<p>5 rows × 32 columns</p>\n",
       "</div>"
      ],
      "text/plain": [
       "    Host ID  Host Response Rate  Host Total Listings Count   Latitude  \\\n",
       "0  32492446               100.0                        7.0  48.882926   \n",
       "1   2726446                 NaN                        1.0  48.883013   \n",
       "2  30432969                95.0                        2.0  48.884043   \n",
       "3  42773335               100.0                        1.0  48.885195   \n",
       "4  38757332               100.0                        1.0  48.894800   \n",
       "\n",
       "   Longitude  Accommodates  Bathrooms  Bedrooms  Beds  Square Feet  ...  \\\n",
       "0   2.335813             2        1.0       0.0   1.0          NaN  ...   \n",
       "1   2.343469             2        1.0       0.0   1.0          NaN  ...   \n",
       "2   2.340604             2        1.0       1.0   1.0          NaN  ...   \n",
       "3   2.345101             2        1.0       1.0   1.0          NaN  ...   \n",
       "4   2.330055             2        1.0       0.0   1.0          NaN  ...   \n",
       "\n",
       "   Number of Reviews  Review Scores Rating  Review Scores Accuracy  \\\n",
       "0                 37                  85.0                     9.0   \n",
       "1                  1                 100.0                    10.0   \n",
       "2                 13                  97.0                    10.0   \n",
       "3                  3                  87.0                    10.0   \n",
       "4                  2                  90.0                    10.0   \n",
       "\n",
       "   Review Scores Cleanliness  Review Scores Checkin  \\\n",
       "0                        9.0                    9.0   \n",
       "1                       10.0                   10.0   \n",
       "2                       10.0                   10.0   \n",
       "3                       10.0                   10.0   \n",
       "4                        9.0                    9.0   \n",
       "\n",
       "   Review Scores Communication  Review Scores Location  Review Scores Value  \\\n",
       "0                          9.0                     8.0                  9.0   \n",
       "1                         10.0                    10.0                 10.0   \n",
       "2                         10.0                    10.0                 10.0   \n",
       "3                         10.0                    10.0                  9.0   \n",
       "4                         10.0                     8.0                 10.0   \n",
       "\n",
       "   Calculated host listings count  Reviews per Month  \n",
       "0                               7               1.84  \n",
       "1                               1               0.03  \n",
       "2                               2               0.89  \n",
       "3                               1               0.17  \n",
       "4                               1               0.11  \n",
       "\n",
       "[5 rows x 32 columns]"
      ]
     },
     "execution_count": 78,
     "metadata": {},
     "output_type": "execute_result"
    }
   ],
   "source": [
    "#on ne garde que les variables de type numériques\n",
    "df_num = df.select_dtypes(include = ['float64', 'int64'])\n",
    "df_num.head()"
   ]
  },
  {
   "cell_type": "code",
   "execution_count": null,
   "id": "eed418b5-7804-49b8-ab84-2d08a3593427",
   "metadata": {},
   "outputs": [
    {
     "data": {
      "text/plain": [
       "<AxesSubplot:>"
      ]
     },
     "execution_count": 79,
     "metadata": {},
     "output_type": "execute_result"
    },
    {
     "data": {
      "image/png": "[encoded data removed]",
      "text/plain": [
       "<Figure size 1100x900 with 2 Axes>"
      ]
     },
     "metadata": {},
     "output_type": "display_data"
    }
   ],
   "source": [
    "sns.set_theme(style=\"white\")\n",
    "\n",
    "# Compute the correlation matrix\n",
    "corr = df_num.corr()\n",
    "\n",
    "# Generate a mask for the upper triangle\n",
    "mask = np.triu(np.ones_like(corr, dtype=bool))\n",
    "\n",
    "# Set up the matplotlib figure\n",
    "f, ax = plt.subplots(figsize=(11, 9))\n",
    "\n",
    "# Generate a custom diverging colormap\n",
    "cmap = sns.diverging_palette(230, 20, as_cmap=True)\n",
    "\n",
    "# Draw the heatmap with the mask and correct aspect ratio\n",
    "sns.heatmap(corr, mask=mask, cmap=cmap, vmax=.3, center=0,\n",
    "            square=True, linewidths=.5, cbar_kws={\"shrink\": .5})"
   ]
  },
  {
   "cell_type": "code",
   "execution_count": null,
   "id": "bf53ea0b-8188-40f7-9d30-922912c87cbb",
   "metadata": {},
   "outputs": [
    {
     "name": "stdout",
     "output_type": "stream",
     "text": [
      "Voici les 6 variables les plus fortement corrélées avec le prix par nuit:\n",
      "Price           1.000000\n",
      "Cleaning Fee    0.606410\n",
      "Accommodates    0.578694\n",
      "Bedrooms        0.548542\n",
      "Beds            0.506757\n",
      "Bathrooms       0.465735\n",
      "Name: Price, dtype: float64\n"
     ]
    }
   ],
   "source": [
    "#Variables numériques le splus corrélées avec le prix\n",
    "\n",
    "var_corr = df_num.corr()['Price']\n",
    "var = var_corr[abs(var_corr) > 0.4].sort_values(ascending=False)\n",
    "print(\"Voici les {} variables les plus fortement corrélées avec le prix par nuit:\\n{}\".format(len(var), var))"
   ]
  },
  {
   "cell_type": "markdown",
   "id": "7b506a4f-f9c2-4f92-bf0a-c27fe9e2242b",
   "metadata": {
    "tags": []
   },
   "source": [
    "### 1.1 Influence de la localisation géographique"
   ]
  },
  {
   "cell_type": "code",
   "execution_count": null,
   "id": "18f3e198-fa93-48ae-9ed7-94b995811334",
   "metadata": {},
   "outputs": [
    {
     "data": {
      "text/plain": [
       "Index(['Name', 'Space', 'Description', 'Neighborhood Overview', 'Notes',\n",
       "       'Transit', 'Access', 'Host ID', 'Host Since', 'Host Response Time',\n",
       "       'Host Response Rate', 'Host Total Listings Count', 'Street',\n",
       "       'Neighbourhood', 'Neighbourhood Cleansed', 'City', 'Zipcode',\n",
       "       'Latitude', 'Longitude', 'Property Type', 'Room Type', 'Accommodates',\n",
       "       'Bathrooms', 'Bedrooms', 'Beds', 'Bed Type', 'Amenities', 'Square Feet',\n",
       "       'Price', 'Weekly Price', 'Monthly Price', 'Security Deposit',\n",
       "       'Cleaning Fee', 'Guests Included', 'Extra People', 'Minimum Nights',\n",
       "       'Maximum Nights', 'Calendar Updated', 'Has Availability',\n",
       "       'Availability 30', 'Availability 60', 'Availability 90',\n",
       "       'Availability 365', 'Number of Reviews', 'Review Scores Rating',\n",
       "       'Review Scores Accuracy', 'Review Scores Cleanliness',\n",
       "       'Review Scores Checkin', 'Review Scores Communication',\n",
       "       'Review Scores Location', 'Review Scores Value', 'Cancellation Policy',\n",
       "       'Calculated host listings count', 'Reviews per Month', 'Geolocation'],\n",
       "      dtype='object')"
      ]
     },
     "execution_count": 45,
     "metadata": {},
     "output_type": "execute_result"
    }
   ],
   "source": [
    "df.columns"
   ]
  },
  {
   "cell_type": "markdown",
   "id": "384411fa-13ef-4b19-b955-d0c8b2d56908",
   "metadata": {},
   "source": [
    "Après une rapide analyse, on se rend compte que la variable Neighborhood Cleansed est moins précise que Neighborhood\n",
    "(20 valeurs contre 64) mais elle semble éliminer certaines erreurs et doublons (exemple quartier Cannesqui n'existent pas, le 15 arrondissement qui groupe avec d'autre quartier). On utilisera donc cette variable là. "
   ]
  },
  {
   "cell_type": "code",
   "execution_count": null,
   "id": "3e4cc1db-2bae-4588-88c5-e0264851fcd7",
   "metadata": {},
   "outputs": [
    {
     "data": {
      "text/plain": [
       "count                 54512\n",
       "unique                   20\n",
       "top       Buttes-Montmartre\n",
       "freq                   6315\n",
       "Name: Neighbourhood Cleansed, dtype: object"
      ]
     },
     "execution_count": 110,
     "metadata": {},
     "output_type": "execute_result"
    }
   ],
   "source": [
    "df['Neighbourhood Cleansed'].describe()"
   ]
  },
  {
   "cell_type": "code",
   "execution_count": null,
   "id": "cbdc7949-d57b-479f-bc92-a194f37fdf54",
   "metadata": {},
   "outputs": [],
   "source": [
    "#On sort le tableau qui indique le nombre et le prix moyen des Airbnb par quartiers\n",
    "df_nb = df.groupby('Neighbourhood Cleansed').agg({'Neighbourhood Cleansed':'count', 'Price':'mean'})\n",
    "df_nb.columns = ['count', 'mean_price']\n",
    "df_nb.reset_index(inplace=True)\n",
    "df_nb.sort_values('count', ascending=False, ignore_index=True, inplace=True)"
   ]
  },
  {
   "cell_type": "code",
   "execution_count": null,
   "id": "722038ba-31e2-4176-8cd8-3af81f677552",
   "metadata": {},
   "outputs": [
    {
     "data": {
      "text/html": [
       "<div>\n",
       "<style scoped>\n",
       "    .dataframe tbody tr th:only-of-type {\n",
       "        vertical-align: middle;\n",
       "    }\n",
       "\n",
       "    .dataframe tbody tr th {\n",
       "        vertical-align: top;\n",
       "    }\n",
       "\n",
       "    .dataframe thead th {\n",
       "        text-align: right;\n",
       "    }\n",
       "</style>\n",
       "<table border=\"1\" class=\"dataframe\">\n",
       "  <thead>\n",
       "    <tr style=\"text-align: right;\">\n",
       "      <th></th>\n",
       "      <th>Neighbourhood Cleansed</th>\n",
       "      <th>count</th>\n",
       "      <th>mean_price</th>\n",
       "    </tr>\n",
       "  </thead>\n",
       "  <tbody>\n",
       "    <tr>\n",
       "      <th>0</th>\n",
       "      <td>Buttes-Montmartre</td>\n",
       "      <td>6315</td>\n",
       "      <td>74.789549</td>\n",
       "    </tr>\n",
       "    <tr>\n",
       "      <th>1</th>\n",
       "      <td>Popincourt</td>\n",
       "      <td>5381</td>\n",
       "      <td>79.472775</td>\n",
       "    </tr>\n",
       "    <tr>\n",
       "      <th>2</th>\n",
       "      <td>Vaugirard</td>\n",
       "      <td>4000</td>\n",
       "      <td>90.588250</td>\n",
       "    </tr>\n",
       "    <tr>\n",
       "      <th>3</th>\n",
       "      <td>Entrepôt</td>\n",
       "      <td>3749</td>\n",
       "      <td>82.757535</td>\n",
       "    </tr>\n",
       "    <tr>\n",
       "      <th>4</th>\n",
       "      <td>Batignolles-Monceau</td>\n",
       "      <td>3547</td>\n",
       "      <td>88.341979</td>\n",
       "    </tr>\n",
       "    <tr>\n",
       "      <th>5</th>\n",
       "      <td>Ménilmontant</td>\n",
       "      <td>2981</td>\n",
       "      <td>65.175444</td>\n",
       "    </tr>\n",
       "    <tr>\n",
       "      <th>6</th>\n",
       "      <td>Buttes-Chaumont</td>\n",
       "      <td>2951</td>\n",
       "      <td>66.352762</td>\n",
       "    </tr>\n",
       "    <tr>\n",
       "      <th>7</th>\n",
       "      <td>Passy</td>\n",
       "      <td>2895</td>\n",
       "      <td>123.388946</td>\n",
       "    </tr>\n",
       "    <tr>\n",
       "      <th>8</th>\n",
       "      <td>Opéra</td>\n",
       "      <td>2391</td>\n",
       "      <td>98.380594</td>\n",
       "    </tr>\n",
       "    <tr>\n",
       "      <th>9</th>\n",
       "      <td>Temple</td>\n",
       "      <td>2368</td>\n",
       "      <td>120.041807</td>\n",
       "    </tr>\n",
       "    <tr>\n",
       "      <th>10</th>\n",
       "      <td>Observatoire</td>\n",
       "      <td>2161</td>\n",
       "      <td>80.667284</td>\n",
       "    </tr>\n",
       "    <tr>\n",
       "      <th>11</th>\n",
       "      <td>Reuilly</td>\n",
       "      <td>2156</td>\n",
       "      <td>77.792672</td>\n",
       "    </tr>\n",
       "    <tr>\n",
       "      <th>12</th>\n",
       "      <td>Panthéon</td>\n",
       "      <td>1989</td>\n",
       "      <td>109.700855</td>\n",
       "    </tr>\n",
       "    <tr>\n",
       "      <th>13</th>\n",
       "      <td>Gobelins</td>\n",
       "      <td>1940</td>\n",
       "      <td>72.184536</td>\n",
       "    </tr>\n",
       "    <tr>\n",
       "      <th>14</th>\n",
       "      <td>Hôtel-de-Ville</td>\n",
       "      <td>1927</td>\n",
       "      <td>131.209652</td>\n",
       "    </tr>\n",
       "    <tr>\n",
       "      <th>15</th>\n",
       "      <td>Luxembourg</td>\n",
       "      <td>1846</td>\n",
       "      <td>141.888949</td>\n",
       "    </tr>\n",
       "    <tr>\n",
       "      <th>16</th>\n",
       "      <td>Palais-Bourbon</td>\n",
       "      <td>1708</td>\n",
       "      <td>138.290984</td>\n",
       "    </tr>\n",
       "    <tr>\n",
       "      <th>17</th>\n",
       "      <td>Bourse</td>\n",
       "      <td>1620</td>\n",
       "      <td>111.252469</td>\n",
       "    </tr>\n",
       "    <tr>\n",
       "      <th>18</th>\n",
       "      <td>Élysée</td>\n",
       "      <td>1459</td>\n",
       "      <td>151.599726</td>\n",
       "    </tr>\n",
       "    <tr>\n",
       "      <th>19</th>\n",
       "      <td>Louvre</td>\n",
       "      <td>1128</td>\n",
       "      <td>138.898936</td>\n",
       "    </tr>\n",
       "  </tbody>\n",
       "</table>\n",
       "</div>"
      ],
      "text/plain": [
       "   Neighbourhood Cleansed  count  mean_price\n",
       "0       Buttes-Montmartre   6315   74.789549\n",
       "1              Popincourt   5381   79.472775\n",
       "2               Vaugirard   4000   90.588250\n",
       "3                Entrepôt   3749   82.757535\n",
       "4     Batignolles-Monceau   3547   88.341979\n",
       "5            Ménilmontant   2981   65.175444\n",
       "6         Buttes-Chaumont   2951   66.352762\n",
       "7                   Passy   2895  123.388946\n",
       "8                   Opéra   2391   98.380594\n",
       "9                  Temple   2368  120.041807\n",
       "10           Observatoire   2161   80.667284\n",
       "11                Reuilly   2156   77.792672\n",
       "12               Panthéon   1989  109.700855\n",
       "13               Gobelins   1940   72.184536\n",
       "14         Hôtel-de-Ville   1927  131.209652\n",
       "15             Luxembourg   1846  141.888949\n",
       "16         Palais-Bourbon   1708  138.290984\n",
       "17                 Bourse   1620  111.252469\n",
       "18                 Élysée   1459  151.599726\n",
       "19                 Louvre   1128  138.898936"
      ]
     },
     "execution_count": 118,
     "metadata": {},
     "output_type": "execute_result"
    }
   ],
   "source": [
    "df_nb"
   ]
  },
  {
   "cell_type": "markdown",
   "id": "20e3f824-f220-4e17-b9d2-7d6d0e22abe5",
   "metadata": {},
   "source": [
    "Commentaire : On s'aperçoit donc que, logiquement, les prix varient fortement entre les différentes quartiers de Paris. On s'interesse désormais au prix par arrondissement, pour ensuite faire de la visualisation sur carte. "
   ]
  },
  {
   "cell_type": "code",
   "execution_count": null,
   "id": "7a3a0158-ad96-47b4-8c55-e03f512f7b6b",
   "metadata": {},
   "outputs": [
    {
     "data": {
      "text/plain": [
       "array(['75018', '75004', '75003', '75017', nan, '75019', '75020', '75007',\n",
       "       '75015', '75006', '75010', '75009', '93300', '75012', '75011',\n",
       "       '75008', '75013', '75005', '75002', '75001', '75014', '75116',\n",
       "       '75016', '750018', '92130', '75', '75011\\n75011', 'Paris 75004',\n",
       "       '92300', '75000', '94250', '94160', '76016', '75011 PARIS',\n",
       "       '92100', '750109', '7015', 75116.0, 75016.0, 75018.0, 75004.0,\n",
       "       75003.0, 75011.0, 75005.0, 75020.0, 75010.0, 75012.0, 75002.0,\n",
       "       75008.0, 75014.0, 75006.0, 75013.0, 75015.0, 92130.0, 75009.0,\n",
       "       75007.0, 75001.0, 75017.0, 92240.0, 75019.0, 92200.0, 'adf',\n",
       "       'Paris', '700014', '75 018', '93310', '75014\\n75014', 'Montmartre',\n",
       "       '750016', '075016', '93170', '75003\\n75003', '78005', '78008',\n",
       "       '75018e', '75106', '92170'], dtype=object)"
      ]
     },
     "execution_count": 113,
     "metadata": {},
     "output_type": "execute_result"
    }
   ],
   "source": [
    "#Toutes les valeurs prises par la variable Zipcode\n",
    "df['Zipcode'].unique()"
   ]
  },
  {
   "cell_type": "markdown",
   "id": "02ad8b8e-87a5-4f47-b4db-d9a4302e94d6",
   "metadata": {},
   "source": [
    "On remarque que il y a beaucoup d'imperfections sur cette variable, il faut donc la nettoyer : \n",
    "- enlever les Airbnb situés en banlieue (zipcode commencant par 92, 94, ...) \n",
    "- regrouper les 75018.0 et 75018 "
   ]
  },
  {
   "cell_type": "code",
   "execution_count": null,
   "id": "d5299b1e-766a-40cb-b471-d44fef4d34d3",
   "metadata": {},
   "outputs": [],
   "source": [
    "#on créé la variable arrondissement, on lui donne la valeur 0 par défaut\n",
    "df['Arrondissement']=0"
   ]
  },
  {
   "cell_type": "code",
   "execution_count": null,
   "id": "8dc62f02-e3f8-4c60-8f31-1d1fbe1e69a7",
   "metadata": {},
   "outputs": [
    {
     "name": "stderr",
     "output_type": "stream",
     "text": [
      "/var/folders/jy/50hwswtx04j4ympkb9_ywp_h0000gn/T/ipykernel_86230/885454847.py:55: SettingWithCopyWarning: \n",
      "A value is trying to be set on a copy of a slice from a DataFrame\n",
      "\n",
      "See the caveats in the documentation: https://pandas.pydata.org/pandas-docs/stable/user_guide/indexing.html#returning-a-view-versus-a-copy\n",
      "  df[\"Arrondissement\"][i]= 18\n",
      "/var/folders/jy/50hwswtx04j4ympkb9_ywp_h0000gn/T/ipykernel_86230/885454847.py:13: SettingWithCopyWarning: \n",
      "A value is trying to be set on a copy of a slice from a DataFrame\n",
      "\n",
      "See the caveats in the documentation: https://pandas.pydata.org/pandas-docs/stable/user_guide/indexing.html#returning-a-view-versus-a-copy\n",
      "  df[\"Arrondissement\"][i]= 4\n",
      "/var/folders/jy/50hwswtx04j4ympkb9_ywp_h0000gn/T/ipykernel_86230/885454847.py:10: SettingWithCopyWarning: \n",
      "A value is trying to be set on a copy of a slice from a DataFrame\n",
      "\n",
      "See the caveats in the documentation: https://pandas.pydata.org/pandas-docs/stable/user_guide/indexing.html#returning-a-view-versus-a-copy\n",
      "  df[\"Arrondissement\"][i]= 3\n",
      "/var/folders/jy/50hwswtx04j4ympkb9_ywp_h0000gn/T/ipykernel_86230/885454847.py:52: SettingWithCopyWarning: \n",
      "A value is trying to be set on a copy of a slice from a DataFrame\n",
      "\n",
      "See the caveats in the documentation: https://pandas.pydata.org/pandas-docs/stable/user_guide/indexing.html#returning-a-view-versus-a-copy\n",
      "  df[\"Arrondissement\"][i]= 17\n",
      "/var/folders/jy/50hwswtx04j4ympkb9_ywp_h0000gn/T/ipykernel_86230/885454847.py:58: SettingWithCopyWarning: \n",
      "A value is trying to be set on a copy of a slice from a DataFrame\n",
      "\n",
      "See the caveats in the documentation: https://pandas.pydata.org/pandas-docs/stable/user_guide/indexing.html#returning-a-view-versus-a-copy\n",
      "  df[\"Arrondissement\"][i]= 19\n",
      "/var/folders/jy/50hwswtx04j4ympkb9_ywp_h0000gn/T/ipykernel_86230/885454847.py:61: SettingWithCopyWarning: \n",
      "A value is trying to be set on a copy of a slice from a DataFrame\n",
      "\n",
      "See the caveats in the documentation: https://pandas.pydata.org/pandas-docs/stable/user_guide/indexing.html#returning-a-view-versus-a-copy\n",
      "  df[\"Arrondissement\"][i]= 20\n",
      "/var/folders/jy/50hwswtx04j4ympkb9_ywp_h0000gn/T/ipykernel_86230/885454847.py:22: SettingWithCopyWarning: \n",
      "A value is trying to be set on a copy of a slice from a DataFrame\n",
      "\n",
      "See the caveats in the documentation: https://pandas.pydata.org/pandas-docs/stable/user_guide/indexing.html#returning-a-view-versus-a-copy\n",
      "  df[\"Arrondissement\"][i]= 7\n",
      "/var/folders/jy/50hwswtx04j4ympkb9_ywp_h0000gn/T/ipykernel_86230/885454847.py:46: SettingWithCopyWarning: \n",
      "A value is trying to be set on a copy of a slice from a DataFrame\n",
      "\n",
      "See the caveats in the documentation: https://pandas.pydata.org/pandas-docs/stable/user_guide/indexing.html#returning-a-view-versus-a-copy\n",
      "  df[\"Arrondissement\"][i]= 15\n",
      "/var/folders/jy/50hwswtx04j4ympkb9_ywp_h0000gn/T/ipykernel_86230/885454847.py:19: SettingWithCopyWarning: \n",
      "A value is trying to be set on a copy of a slice from a DataFrame\n",
      "\n",
      "See the caveats in the documentation: https://pandas.pydata.org/pandas-docs/stable/user_guide/indexing.html#returning-a-view-versus-a-copy\n",
      "  df[\"Arrondissement\"][i]= 6\n",
      "/var/folders/jy/50hwswtx04j4ympkb9_ywp_h0000gn/T/ipykernel_86230/885454847.py:31: SettingWithCopyWarning: \n",
      "A value is trying to be set on a copy of a slice from a DataFrame\n",
      "\n",
      "See the caveats in the documentation: https://pandas.pydata.org/pandas-docs/stable/user_guide/indexing.html#returning-a-view-versus-a-copy\n",
      "  df[\"Arrondissement\"][i]= 10\n",
      "/var/folders/jy/50hwswtx04j4ympkb9_ywp_h0000gn/T/ipykernel_86230/885454847.py:28: SettingWithCopyWarning: \n",
      "A value is trying to be set on a copy of a slice from a DataFrame\n",
      "\n",
      "See the caveats in the documentation: https://pandas.pydata.org/pandas-docs/stable/user_guide/indexing.html#returning-a-view-versus-a-copy\n",
      "  df[\"Arrondissement\"][i]= 9\n",
      "/var/folders/jy/50hwswtx04j4ympkb9_ywp_h0000gn/T/ipykernel_86230/885454847.py:37: SettingWithCopyWarning: \n",
      "A value is trying to be set on a copy of a slice from a DataFrame\n",
      "\n",
      "See the caveats in the documentation: https://pandas.pydata.org/pandas-docs/stable/user_guide/indexing.html#returning-a-view-versus-a-copy\n",
      "  df[\"Arrondissement\"][i]= 12\n",
      "/var/folders/jy/50hwswtx04j4ympkb9_ywp_h0000gn/T/ipykernel_86230/885454847.py:34: SettingWithCopyWarning: \n",
      "A value is trying to be set on a copy of a slice from a DataFrame\n",
      "\n",
      "See the caveats in the documentation: https://pandas.pydata.org/pandas-docs/stable/user_guide/indexing.html#returning-a-view-versus-a-copy\n",
      "  df[\"Arrondissement\"][i]= 11\n",
      "/var/folders/jy/50hwswtx04j4ympkb9_ywp_h0000gn/T/ipykernel_86230/885454847.py:25: SettingWithCopyWarning: \n",
      "A value is trying to be set on a copy of a slice from a DataFrame\n",
      "\n",
      "See the caveats in the documentation: https://pandas.pydata.org/pandas-docs/stable/user_guide/indexing.html#returning-a-view-versus-a-copy\n",
      "  df[\"Arrondissement\"][i]= 8\n",
      "/var/folders/jy/50hwswtx04j4ympkb9_ywp_h0000gn/T/ipykernel_86230/885454847.py:40: SettingWithCopyWarning: \n",
      "A value is trying to be set on a copy of a slice from a DataFrame\n",
      "\n",
      "See the caveats in the documentation: https://pandas.pydata.org/pandas-docs/stable/user_guide/indexing.html#returning-a-view-versus-a-copy\n",
      "  df[\"Arrondissement\"][i]= 13\n",
      "/var/folders/jy/50hwswtx04j4ympkb9_ywp_h0000gn/T/ipykernel_86230/885454847.py:16: SettingWithCopyWarning: \n",
      "A value is trying to be set on a copy of a slice from a DataFrame\n",
      "\n",
      "See the caveats in the documentation: https://pandas.pydata.org/pandas-docs/stable/user_guide/indexing.html#returning-a-view-versus-a-copy\n",
      "  df[\"Arrondissement\"][i]= 5\n",
      "/var/folders/jy/50hwswtx04j4ympkb9_ywp_h0000gn/T/ipykernel_86230/885454847.py:7: SettingWithCopyWarning: \n",
      "A value is trying to be set on a copy of a slice from a DataFrame\n",
      "\n",
      "See the caveats in the documentation: https://pandas.pydata.org/pandas-docs/stable/user_guide/indexing.html#returning-a-view-versus-a-copy\n",
      "  df[\"Arrondissement\"][i]= 2\n",
      "/var/folders/jy/50hwswtx04j4ympkb9_ywp_h0000gn/T/ipykernel_86230/885454847.py:4: SettingWithCopyWarning: \n",
      "A value is trying to be set on a copy of a slice from a DataFrame\n",
      "\n",
      "See the caveats in the documentation: https://pandas.pydata.org/pandas-docs/stable/user_guide/indexing.html#returning-a-view-versus-a-copy\n",
      "  df[\"Arrondissement\"][i]= 1\n",
      "/var/folders/jy/50hwswtx04j4ympkb9_ywp_h0000gn/T/ipykernel_86230/885454847.py:43: SettingWithCopyWarning: \n",
      "A value is trying to be set on a copy of a slice from a DataFrame\n",
      "\n",
      "See the caveats in the documentation: https://pandas.pydata.org/pandas-docs/stable/user_guide/indexing.html#returning-a-view-versus-a-copy\n",
      "  df[\"Arrondissement\"][i]= 14\n",
      "/var/folders/jy/50hwswtx04j4ympkb9_ywp_h0000gn/T/ipykernel_86230/885454847.py:49: SettingWithCopyWarning: \n",
      "A value is trying to be set on a copy of a slice from a DataFrame\n",
      "\n",
      "See the caveats in the documentation: https://pandas.pydata.org/pandas-docs/stable/user_guide/indexing.html#returning-a-view-versus-a-copy\n",
      "  df[\"Arrondissement\"][i]= 16\n"
     ]
    }
   ],
   "source": [
    "#on attribue la bonne valeur à la variable arrondissement\n",
    "for i in range (0,df.shape[0]):\n",
    "    if (df[\"Zipcode\"][i]==\"75001\") ^ (df[\"Zipcode\"][i]==75001.0):\n",
    "        df[\"Arrondissement\"][i]= 1\n",
    "\n",
    "    elif (df[\"Zipcode\"][i]==\"75002\") ^ (df[\"Zipcode\"][i]==75002.0):\n",
    "        df[\"Arrondissement\"][i]= 2\n",
    "\n",
    "    elif (df[\"Zipcode\"][i]==\"75003\") ^ (df[\"Zipcode\"][i]==75003.0):\n",
    "        df[\"Arrondissement\"][i]= 3\n",
    "        \n",
    "    elif (df[\"Zipcode\"][i]==\"75004\") ^ (df[\"Zipcode\"][i]==75004.0):\n",
    "        df[\"Arrondissement\"][i]= 4\n",
    "        \n",
    "    elif (df[\"Zipcode\"][i]==\"75005\") ^ (df[\"Zipcode\"][i]==75005.0):\n",
    "        df[\"Arrondissement\"][i]= 5\n",
    "        \n",
    "    elif (df[\"Zipcode\"][i]==\"75006\") ^ (df[\"Zipcode\"][i]==75006.0):\n",
    "        df[\"Arrondissement\"][i]= 6\n",
    "        \n",
    "    elif (df[\"Zipcode\"][i]==\"75007\") ^ (df[\"Zipcode\"][i]==75007.0):\n",
    "        df[\"Arrondissement\"][i]= 7\n",
    "        \n",
    "    elif (df[\"Zipcode\"][i]==\"75008\") ^ (df[\"Zipcode\"][i]==75008.0):\n",
    "        df[\"Arrondissement\"][i]= 8\n",
    "    \n",
    "    elif (df[\"Zipcode\"][i]==\"75009\") ^ (df[\"Zipcode\"][i]==75009.0):\n",
    "        df[\"Arrondissement\"][i]= 9\n",
    "        \n",
    "    elif (df[\"Zipcode\"][i]==\"75010\") ^ (df[\"Zipcode\"][i]==75010.0):\n",
    "        df[\"Arrondissement\"][i]= 10\n",
    "\n",
    "    elif (df[\"Zipcode\"][i]==\"75011\") ^ (df[\"Zipcode\"][i]==75011.0):\n",
    "        df[\"Arrondissement\"][i]= 11\n",
    "        \n",
    "    elif (df[\"Zipcode\"][i]==\"75012\") ^ (df[\"Zipcode\"][i]==75012.0):\n",
    "        df[\"Arrondissement\"][i]= 12\n",
    "        \n",
    "    elif (df[\"Zipcode\"][i]==\"75013\") ^ (df[\"Zipcode\"][i]==75013.0):\n",
    "        df[\"Arrondissement\"][i]= 13\n",
    "        \n",
    "    elif (df[\"Zipcode\"][i]==\"75014\") ^ (df[\"Zipcode\"][i]==75014.0):\n",
    "        df[\"Arrondissement\"][i]= 14\n",
    "        \n",
    "    elif (df[\"Zipcode\"][i]==\"75015\") ^ (df[\"Zipcode\"][i]==75015.0):\n",
    "        df[\"Arrondissement\"][i]= 15\n",
    "        \n",
    "    elif (df[\"Zipcode\"][i]==\"75016\") ^ (df[\"Zipcode\"][i]==75016.0)^ (df[\"Zipcode\"][i]==\"75116\") ^ (df[\"Zipcode\"][i]==75116.0) :\n",
    "        df[\"Arrondissement\"][i]= 16\n",
    "        \n",
    "    elif (df[\"Zipcode\"][i]==\"75017\") ^ (df[\"Zipcode\"][i]==75017.0):\n",
    "        df[\"Arrondissement\"][i]= 17\n",
    "        \n",
    "    elif (df[\"Zipcode\"][i]==\"75018\") ^ (df[\"Zipcode\"][i]==75018.0):\n",
    "        df[\"Arrondissement\"][i]= 18\n",
    "    \n",
    "    elif (df[\"Zipcode\"][i]==\"75019\") ^ (df[\"Zipcode\"][i]==75019.0):\n",
    "        df[\"Arrondissement\"][i]= 19\n",
    "        \n",
    "    elif (df[\"Zipcode\"][i]==\"75020\") ^ (df[\"Zipcode\"][i]==75020.0):\n",
    "        df[\"Arrondissement\"][i]= 20"
   ]
  },
  {
   "cell_type": "code",
   "execution_count": null,
   "id": "380e2bd3-58ac-465c-a392-42ed6a7454ef",
   "metadata": {},
   "outputs": [
    {
     "data": {
      "text/plain": [
       "array([18,  4,  3, 17, 19, 20,  7, 15,  6, 10,  9, 12, 11,  8, 13,  5,  2,\n",
       "        1, 14, 16])"
      ]
     },
     "execution_count": 54,
     "metadata": {},
     "output_type": "execute_result"
    }
   ],
   "source": [
    "df['Arrondissement'].unique()"
   ]
  },
  {
   "cell_type": "code",
   "execution_count": null,
   "id": "805c0721-e48e-409d-917d-e82b5d7cbbe4",
   "metadata": {},
   "outputs": [],
   "source": [
    "#on enleve tous les airbnb qui n'ont pas été affecté à une valeur\n",
    "df = df[df['Arrondissement']> 0]"
   ]
  },
  {
   "cell_type": "markdown",
   "id": "a7ad45c4-a810-47a0-a818-496d879624da",
   "metadata": {},
   "source": [
    "Commentaire : on avait auparavant 54513 lignes dans le dataframe, on en a désormais 53731, on a donc perdu 800 données en nettoyant la variable arrondissement. Cette perte n'est pas significative. "
   ]
  },
  {
   "cell_type": "code",
   "execution_count": null,
   "id": "91b03494-f3bd-4f17-831b-a2b14fa97ad5",
   "metadata": {},
   "outputs": [],
   "source": [
    "#On affiche le nombre d'airbnb et le prix moyen des airbnb par arrondissement\n",
    "df_arr = df.groupby('Arrondissement').agg({'Arrondissement':'count', 'Price':'mean'})\n",
    "df_arr.columns = ['Count', 'Mean_price']\n",
    "df_arr.reset_index(inplace=True)\n",
    "df_arr.sort_values('Mean_price', ascending=False, ignore_index=True, inplace=True)"
   ]
  },
  {
   "cell_type": "code",
   "execution_count": null,
   "id": "a0f6defa-5501-4d9d-898f-fa7f453dcf6d",
   "metadata": {},
   "outputs": [
    {
     "data": {
      "text/html": [
       "<div>\n",
       "<style scoped>\n",
       "    .dataframe tbody tr th:only-of-type {\n",
       "        vertical-align: middle;\n",
       "    }\n",
       "\n",
       "    .dataframe tbody tr th {\n",
       "        vertical-align: top;\n",
       "    }\n",
       "\n",
       "    .dataframe thead th {\n",
       "        text-align: right;\n",
       "    }\n",
       "</style>\n",
       "<table border=\"1\" class=\"dataframe\">\n",
       "  <thead>\n",
       "    <tr style=\"text-align: right;\">\n",
       "      <th></th>\n",
       "      <th>Arrondissement</th>\n",
       "      <th>Count</th>\n",
       "      <th>Mean_price</th>\n",
       "    </tr>\n",
       "  </thead>\n",
       "  <tbody>\n",
       "    <tr>\n",
       "      <th>0</th>\n",
       "      <td>8</td>\n",
       "      <td>1378</td>\n",
       "      <td>155.957571</td>\n",
       "    </tr>\n",
       "    <tr>\n",
       "      <th>1</th>\n",
       "      <td>6</td>\n",
       "      <td>1833</td>\n",
       "      <td>141.838798</td>\n",
       "    </tr>\n",
       "    <tr>\n",
       "      <th>2</th>\n",
       "      <td>1</td>\n",
       "      <td>1102</td>\n",
       "      <td>141.251589</td>\n",
       "    </tr>\n",
       "    <tr>\n",
       "      <th>3</th>\n",
       "      <td>7</td>\n",
       "      <td>1614</td>\n",
       "      <td>139.415270</td>\n",
       "    </tr>\n",
       "    <tr>\n",
       "      <th>4</th>\n",
       "      <td>4</td>\n",
       "      <td>1922</td>\n",
       "      <td>131.503904</td>\n",
       "    </tr>\n",
       "  </tbody>\n",
       "</table>\n",
       "</div>"
      ],
      "text/plain": [
       "   Arrondissement  Count  Mean_price\n",
       "0               8   1378  155.957571\n",
       "1               6   1833  141.838798\n",
       "2               1   1102  141.251589\n",
       "3               7   1614  139.415270\n",
       "4               4   1922  131.503904"
      ]
     },
     "execution_count": 62,
     "metadata": {},
     "output_type": "execute_result"
    }
   ],
   "source": [
    "df_arr.head()"
   ]
  },
  {
   "cell_type": "markdown",
   "id": "26779262-598d-4fad-b01d-9451fa19ddff",
   "metadata": {},
   "source": [
    "Commentaire : les arrondissements les plus chers de Paris sont le 8e, le 6e et le 1er. On crééra dans les parties suivantes des cartes avec geopandas pour visualiser ces écarts de prix."
   ]
  },
  {
   "cell_type": "markdown",
   "id": "3dcec412-f87a-4ef2-976f-b44fc1be37cf",
   "metadata": {
    "jp-MarkdownHeadingCollapsed": true,
    "tags": []
   },
   "source": [
    "### 1.2 Disponbilité"
   ]
  },
  {
   "cell_type": "code",
   "execution_count": null,
   "id": "eeea90df-4404-447d-adaa-71644845b499",
   "metadata": {},
   "outputs": [
    {
     "data": {
      "text/plain": [
       "Text(0.5, 1.0, 'Histogramme du nombre de jours de disponibilité des Airbnb')"
      ]
     },
     "execution_count": 103,
     "metadata": {},
     "output_type": "execute_result"
    },
    {
     "data": {
      "image/png": "[encoded data removed]",
      "text/plain": [
       "<Figure size 640x480 with 1 Axes>"
      ]
     },
     "metadata": {},
     "output_type": "display_data"
    }
   ],
   "source": [
    "sns.histplot(data=df[\"Availability 365\"],bins=int(50))\n",
    "plt.title('Histogramme du nombre de jours de disponibilité des Airbnb', weight='bold')"
   ]
  },
  {
   "cell_type": "code",
   "execution_count": null,
   "id": "88f74525-765f-45a6-a382-7d6cbf64088b",
   "metadata": {},
   "outputs": [
    {
     "data": {
      "text/plain": [
       "(12878, 22768, 14769)"
      ]
     },
     "execution_count": 105,
     "metadata": {},
     "output_type": "execute_result"
    }
   ],
   "source": [
    "a = len(df[df['Availability 365']>300])\n",
    "b = len(df[df['Availability 365']<60])\n",
    "c = len(df[df['Availability 365']==0])\n",
    "a,b,c"
   ]
  },
  {
   "cell_type": "markdown",
   "id": "6289d49a-4b6e-40ab-bb5e-c2ba76d5cc5a",
   "metadata": {},
   "source": [
    "Commentaire : on remarque que près de la moitié des airbnb sont loués moins de 60 jours par an ce qui semble correspondre au concept de base de airbnb c'est à dire louer sa maison ou son appartement quand on est en vacances ou autre pour arrondir ses fins de mois. Cependant, on voit aussi que plus de 12 000 airbnb sont loués plus de 300 jours par an. On voit donc que certaines personnes louent quasiment en continuité leur logement sur Airbnb pour de courtes périodes, alors qu'ils pourraient le louer sur des longues durées. On peut donc supposer qu'il est plus intéressant financièrement de louer son bien sur Aibnb que en agence par exemple (à continuer dans les parties suivantes). "
   ]
  },
  {
   "cell_type": "markdown",
   "id": "a36033c2-f0d8-4b03-a9c0-ff2ad153de53",
   "metadata": {
    "jp-MarkdownHeadingCollapsed": true,
    "tags": []
   },
   "source": [
    "### 1.3 Influence de la taille du logement"
   ]
  },
  {
   "cell_type": "markdown",
   "id": "c47e20c2-7d5c-49c4-ad7f-1930d5f9dc8b",
   "metadata": {},
   "source": [
    "On a vu dans la matrice de corrélation que la \"taille\" du logement était fortement corrélée au prix ce qui semble logique. On peut faire quelques statistiques descriptives pour avoir un aperçu des différentes tailles de logement. "
   ]
  },
  {
   "cell_type": "code",
   "execution_count": null,
   "id": "15f1b4e1-032c-4693-91ee-35924237ffec",
   "metadata": {},
   "outputs": [
    {
     "data": {
      "text/plain": [
       "Text(0.5, 1.0, 'Nombre de personnes que peut accueillir les airbnb')"
      ]
     },
     "execution_count": 124,
     "metadata": {},
     "output_type": "execute_result"
    },
    {
     "data": {
      "image/png": "[encoded data removed]",
      "text/plain": [
       "<Figure size 500x500 with 1 Axes>"
      ]
     },
     "metadata": {},
     "output_type": "display_data"
    }
   ],
   "source": [
    "#Répartition du nombres de personnes que peuvent accueillir les Airbnb, pour savoir à quels types de logement on traite\n",
    "fig, ax = plt.subplots(figsize=(5, 5))\n",
    "sns.histplot(df_feet['Accommodates'], bins=int(40))\n",
    "plt.title ('Nombre de personnes que peut accueillir les airbnb', weight='bold')"
   ]
  },
  {
   "cell_type": "markdown",
   "id": "78db9f92-0982-4907-9ac3-bb1a750454ff",
   "metadata": {},
   "source": [
    "Commentaire : en majorité des logements qui peuvent accueillir 2 ou 4 personnes."
   ]
  },
  {
   "cell_type": "code",
   "execution_count": null,
   "id": "9187397d-8ab0-42de-baca-aaa8abbc05a8",
   "metadata": {},
   "outputs": [],
   "source": [
    "#On remplace les valeurs manquantes par des 0\n",
    "df = df.fillna(0)"
   ]
  },
  {
   "cell_type": "code",
   "execution_count": null,
   "id": "7b503294-d1cb-4147-bc47-9cb00d37119d",
   "metadata": {},
   "outputs": [
    {
     "data": {
      "text/plain": [
       "1500"
      ]
     },
     "execution_count": 126,
     "metadata": {},
     "output_type": "execute_result"
    }
   ],
   "source": [
    "#Nouveau data frame uniquement avec les airbnb où le nb de metre carré est renseigné\n",
    "df_feet = df.loc[(df['Square Feet'] !=0)]\n",
    "len(df_feet)"
   ]
  },
  {
   "cell_type": "code",
   "execution_count": null,
   "id": "eed656bd-4ca1-42af-ba90-4341ac2108db",
   "metadata": {},
   "outputs": [
    {
     "data": {
      "text/plain": [
       "count     1500.000000\n",
       "mean       543.640667\n",
       "std        650.643547\n",
       "min         11.000000\n",
       "25%        291.000000\n",
       "50%        431.000000\n",
       "75%        646.000000\n",
       "max      15059.000000\n",
       "Name: Square Feet, dtype: float64"
      ]
     },
     "execution_count": 128,
     "metadata": {},
     "output_type": "execute_result"
    }
   ],
   "source": [
    "df_feet['Square Feet'].describe()"
   ]
  },
  {
   "cell_type": "markdown",
   "id": "6ca47a87-53b8-431f-8c38-5fbeaa639198",
   "metadata": {},
   "source": [
    "Commentaire : \n",
    "- il manque énormément de données sur les mètres carrés, sur plus de 50 000 données à la base, on en a moins que 1500 \n",
    "- Le maximum de surface est de 15000 square feet ce qui correspond à 1393m2, probablement un erreur de saisie donc on va enlever tous les logements ayant une superficie supérieure à 2500 square feet (soit 232m2)."
   ]
  },
  {
   "cell_type": "code",
   "execution_count": null,
   "id": "4d15860a-4bbe-4bbd-9cb5-6cdd98eccb96",
   "metadata": {},
   "outputs": [],
   "source": [
    "df_feet = df_feet.loc[(df_feet['Square Feet'] < 2500)]"
   ]
  },
  {
   "cell_type": "code",
   "execution_count": null,
   "id": "d83efad0-9705-40ac-bae5-9138882a4b74",
   "metadata": {},
   "outputs": [
    {
     "data": {
      "text/plain": [
       "Text(0.5, 1.0, 'Répartition des mètres carrés des logements')"
      ]
     },
     "execution_count": 131,
     "metadata": {},
     "output_type": "execute_result"
    },
    {
     "data": {
      "image/png": "[encoded data removed]",
      "text/plain": [
       "<Figure size 500x500 with 1 Axes>"
      ]
     },
     "metadata": {},
     "output_type": "display_data"
    }
   ],
   "source": [
    "fig, ax = plt.subplots(figsize=(5, 5))\n",
    "sns.histplot(data=df_feet['Square Feet'], kde=True, bins=int(80))\n",
    "plt.title ('Répartition des mètres carrés des logements', weight='bold')"
   ]
  },
  {
   "cell_type": "markdown",
   "id": "e5434b01-5eae-481a-a476-ff25bfb6fed1",
   "metadata": {},
   "source": [
    "Au vue du nombre très important de données manquantes sur les mètres carrées, on va désormais s'intéresser au nombre de chambres, de salles de bains, ... qui sont également des bon indicateurs de la taille du logement."
   ]
  },
  {
   "cell_type": "code",
   "execution_count": null,
   "id": "e0c86b15-3fca-4312-8e1f-a4083620656c",
   "metadata": {},
   "outputs": [],
   "source": [
    "df['Bathrooms'] = df['Bathrooms'].astype(int)"
   ]
  },
  {
   "cell_type": "code",
   "execution_count": null,
   "id": "4d9ab26e-8a77-4b9e-87a8-1eb1e984b9c5",
   "metadata": {},
   "outputs": [
    {
     "data": {
      "text/plain": [
       "array([1, 0, 3, 2, 4, 6, 7, 5, 8])"
      ]
     },
     "execution_count": 139,
     "metadata": {},
     "output_type": "execute_result"
    }
   ],
   "source": [
    "df['Bathrooms'].unique()"
   ]
  },
  {
   "cell_type": "code",
   "execution_count": null,
   "id": "2f73fde0-3870-4c0f-a380-4f1254d56449",
   "metadata": {},
   "outputs": [
    {
     "data": {
      "text/plain": [
       "array([ 0.,  1.,  2.,  3.,  4.,  5.,  7.,  6., 10.,  8.])"
      ]
     },
     "execution_count": 140,
     "metadata": {},
     "output_type": "execute_result"
    }
   ],
   "source": [
    "df['Bedrooms'].unique()"
   ]
  },
  {
   "cell_type": "code",
   "execution_count": null,
   "id": "f3d6489b-91c6-4ba3-bb84-1ade8e5ca609",
   "metadata": {},
   "outputs": [
    {
     "data": {
      "text/html": [
       "<div>\n",
       "<style scoped>\n",
       "    .dataframe tbody tr th:only-of-type {\n",
       "        vertical-align: middle;\n",
       "    }\n",
       "\n",
       "    .dataframe tbody tr th {\n",
       "        vertical-align: top;\n",
       "    }\n",
       "\n",
       "    .dataframe thead th {\n",
       "        text-align: right;\n",
       "    }\n",
       "</style>\n",
       "<table border=\"1\" class=\"dataframe\">\n",
       "  <thead>\n",
       "    <tr style=\"text-align: right;\">\n",
       "      <th></th>\n",
       "      <th>Bedrooms</th>\n",
       "      <th>count</th>\n",
       "    </tr>\n",
       "  </thead>\n",
       "  <tbody>\n",
       "    <tr>\n",
       "      <th>0</th>\n",
       "      <td>1.0</td>\n",
       "      <td>31957</td>\n",
       "    </tr>\n",
       "    <tr>\n",
       "      <th>1</th>\n",
       "      <td>0.0</td>\n",
       "      <td>11213</td>\n",
       "    </tr>\n",
       "    <tr>\n",
       "      <th>2</th>\n",
       "      <td>2.0</td>\n",
       "      <td>7862</td>\n",
       "    </tr>\n",
       "    <tr>\n",
       "      <th>3</th>\n",
       "      <td>3.0</td>\n",
       "      <td>2096</td>\n",
       "    </tr>\n",
       "    <tr>\n",
       "      <th>4</th>\n",
       "      <td>4.0</td>\n",
       "      <td>484</td>\n",
       "    </tr>\n",
       "    <tr>\n",
       "      <th>5</th>\n",
       "      <td>5.0</td>\n",
       "      <td>91</td>\n",
       "    </tr>\n",
       "    <tr>\n",
       "      <th>6</th>\n",
       "      <td>6.0</td>\n",
       "      <td>21</td>\n",
       "    </tr>\n",
       "    <tr>\n",
       "      <th>7</th>\n",
       "      <td>7.0</td>\n",
       "      <td>4</td>\n",
       "    </tr>\n",
       "    <tr>\n",
       "      <th>8</th>\n",
       "      <td>10.0</td>\n",
       "      <td>2</td>\n",
       "    </tr>\n",
       "    <tr>\n",
       "      <th>9</th>\n",
       "      <td>8.0</td>\n",
       "      <td>1</td>\n",
       "    </tr>\n",
       "  </tbody>\n",
       "</table>\n",
       "</div>"
      ],
      "text/plain": [
       "   Bedrooms  count\n",
       "0       1.0  31957\n",
       "1       0.0  11213\n",
       "2       2.0   7862\n",
       "3       3.0   2096\n",
       "4       4.0    484\n",
       "5       5.0     91\n",
       "6       6.0     21\n",
       "7       7.0      4\n",
       "8      10.0      2\n",
       "9       8.0      1"
      ]
     },
     "execution_count": 148,
     "metadata": {},
     "output_type": "execute_result"
    }
   ],
   "source": [
    "df_bed = df.groupby('Bedrooms').agg({'Bedrooms':'count'})\n",
    "df_bed.columns = ['count']\n",
    "df_bed.reset_index(inplace=True)\n",
    "df_bed.sort_values('count', ascending=False, ignore_index=True, inplace=True)\n",
    "df_bed"
   ]
  },
  {
   "cell_type": "code",
   "execution_count": null,
   "id": "e0ed3819-e452-45d8-b9fe-b9b0c6a5e3ce",
   "metadata": {},
   "outputs": [
    {
     "data": {
      "text/html": [
       "<div>\n",
       "<style scoped>\n",
       "    .dataframe tbody tr th:only-of-type {\n",
       "        vertical-align: middle;\n",
       "    }\n",
       "\n",
       "    .dataframe tbody tr th {\n",
       "        vertical-align: top;\n",
       "    }\n",
       "\n",
       "    .dataframe thead th {\n",
       "        text-align: right;\n",
       "    }\n",
       "</style>\n",
       "<table border=\"1\" class=\"dataframe\">\n",
       "  <thead>\n",
       "    <tr style=\"text-align: right;\">\n",
       "      <th></th>\n",
       "      <th>Bathrooms</th>\n",
       "      <th>count</th>\n",
       "    </tr>\n",
       "  </thead>\n",
       "  <tbody>\n",
       "    <tr>\n",
       "      <th>0</th>\n",
       "      <td>1</td>\n",
       "      <td>49651</td>\n",
       "    </tr>\n",
       "    <tr>\n",
       "      <th>1</th>\n",
       "      <td>2</td>\n",
       "      <td>2914</td>\n",
       "    </tr>\n",
       "    <tr>\n",
       "      <th>2</th>\n",
       "      <td>0</td>\n",
       "      <td>722</td>\n",
       "    </tr>\n",
       "    <tr>\n",
       "      <th>3</th>\n",
       "      <td>3</td>\n",
       "      <td>308</td>\n",
       "    </tr>\n",
       "    <tr>\n",
       "      <th>4</th>\n",
       "      <td>4</td>\n",
       "      <td>59</td>\n",
       "    </tr>\n",
       "    <tr>\n",
       "      <th>5</th>\n",
       "      <td>6</td>\n",
       "      <td>30</td>\n",
       "    </tr>\n",
       "    <tr>\n",
       "      <th>6</th>\n",
       "      <td>5</td>\n",
       "      <td>22</td>\n",
       "    </tr>\n",
       "    <tr>\n",
       "      <th>7</th>\n",
       "      <td>7</td>\n",
       "      <td>13</td>\n",
       "    </tr>\n",
       "    <tr>\n",
       "      <th>8</th>\n",
       "      <td>8</td>\n",
       "      <td>12</td>\n",
       "    </tr>\n",
       "  </tbody>\n",
       "</table>\n",
       "</div>"
      ],
      "text/plain": [
       "   Bathrooms  count\n",
       "0          1  49651\n",
       "1          2   2914\n",
       "2          0    722\n",
       "3          3    308\n",
       "4          4     59\n",
       "5          6     30\n",
       "6          5     22\n",
       "7          7     13\n",
       "8          8     12"
      ]
     },
     "execution_count": 147,
     "metadata": {},
     "output_type": "execute_result"
    }
   ],
   "source": [
    "df_bath = df.groupby('Bathrooms').agg({'Bathrooms':'count'})\n",
    "df_bath.columns = ['count']\n",
    "df_bath.reset_index(inplace=True)\n",
    "df_bath.sort_values('count', ascending=False, ignore_index=True, inplace=True)\n",
    "df_bath"
   ]
  },
  {
   "cell_type": "markdown",
   "id": "b1eda09e-06d1-494d-b19a-df5f07595dc9",
   "metadata": {},
   "source": [
    "Commentaire : plus de 11 000 logements n'ont pas de chamnbre, on peut donc en déduire que ce sont des studios. La plus grande majorité des logements ont 1 unique salle de bain. "
   ]
  },
  {
   "cell_type": "code",
   "execution_count": null,
   "id": "caeb0326-1cf4-44df-81e0-a5f4bad2df92",
   "metadata": {},
   "outputs": [
    {
     "data": {
      "text/plain": [
       "<matplotlib.legend.Legend at 0x1406df700>"
      ]
     },
     "execution_count": 150,
     "metadata": {},
     "output_type": "execute_result"
    },
    {
     "data": {
      "image/png": "[encoded data removed]",
      "text/plain": [
       "<Figure size 1500x500 with 1 Axes>"
      ]
     },
     "metadata": {},
     "output_type": "display_data"
    }
   ],
   "source": [
    "fig, ax = plt.subplots(figsize=(15, 5))\n",
    "plt.hist([df[\"Bedrooms\"], df[\"Bathrooms\"]], label=['nombre de chambres', 'nombre de salles de bains'], edgecolor = 'white')\n",
    "plt.title(\"Histogramme du nombre de salles de bains et de chambres des airbnb parisiens\",size=15, weight='bold')\n",
    "plt.legend()"
   ]
  },
  {
   "cell_type": "markdown",
   "id": "2a582c29-640e-429a-97c9-ce4471d47286",
   "metadata": {},
   "source": [
    "### 1.4 Les reviews"
   ]
  },
  {
   "cell_type": "code",
   "execution_count": null,
   "id": "19088fe5-abf5-438b-987e-c49e500cf6b7",
   "metadata": {},
   "outputs": [],
   "source": [
    "\n",
    "# On regarde la distribution sur les différentes notes données \n",
    "\n",
    "fig, ax = plt.subplots(2, 3)\n",
    "fig.tight_layout()\n",
    "\n",
    "ax[0, 0].hist(data[\"Review Scores Value\"]) #row=0, col=0\n",
    "ax[0, 0].set_title('Valeur')\n",
    "ax[1, 0].hist(data[\"Review Scores Accuracy\"]) #row=1, col=0\n",
    "ax[1, 0].set_title('Précision')\n",
    "ax[0, 1].hist(data[\"Review Scores Cleanliness\"]) #row=0, col=1\n",
    "ax[0, 1].set_title('Propreté')\n",
    "ax[1, 1].hist(data[\"Review Scores Communication\"]) #row=1, col=1\n",
    "ax[1, 1].set_title('Communication')\n",
    "ax[1, 2].hist(data[\"Review Scores Location\"]) #row=1, col=2\n",
    "ax[1, 2].set_title('Localisation')\n",
    "ax[0, 2].hist(data[\"Review Scores Rating\"]) #row=2, col=2\n",
    "ax[0, 2].set_title('Rating')\n",
    "plt.show()"
   ]
  },
  {
   "cell_type": "code",
   "execution_count": null,
   "id": "b7c4f128",
   "metadata": {},
   "outputs": [],
   "source": [
    "#On regarde le nombre d'offres qui n'ont pas de description \n",
    "data[‘Description'].isnull().sum()"
   ]
  },
  {
   "cell_type": "code",
   "execution_count": null,
   "id": "55c4f361",
   "metadata": {},
   "outputs": [],
   "source": [
    "# Si on ne veut pas fausser l'analyse textuelle et avoir un message d'erreur, il faut enlever les lignes qui correspondent à des valeur manquantes \n",
    "def transform(lst) :\n",
    "  return ([i for item in lst for i in item.lower().split()])\n",
    "full_reviews = transform(data[‘Description'].fillna(\"\"))"
   ]
  },
  {
   "attachments": {},
   "cell_type": "markdown",
   "id": "27014ee3",
   "metadata": {},
   "source": [
    "On peut maintenant s'intéresser à la fréquence des mots sur les descriptions d'appartements, dans le but de regarder le lien potentiel avec les prix des Airbnb\n"
   ]
  },
  {
   "cell_type": "code",
   "execution_count": null,
   "id": "6656f55d",
   "metadata": {},
   "outputs": [],
   "source": [
    "\n",
    "# Fréquence de mots\n",
    "\n",
    "nb_mots = collections.Counter(full_reviews) \n",
    "\n",
    "frq_mots = pd.DataFrame(nb_mots.most_common(8),\n",
    "                             columns=['mots', 'occurences'])\n",
    "\n",
    "frq_mots.head()\n"
   ]
  },
  {
   "cell_type": "code",
   "execution_count": null,
   "id": "3cf136c4",
   "metadata": {},
   "outputs": [],
   "source": [
    "On obttient un résultat peu étonnant : les mots qui reviennent le plus sont des mots de liaison, des déterminants ou des conjonctions de coordination (« et »). \n",
    "Cependant, ces mots ne vont pas nous être utiles pour faire de l'analyse textuelle sur la qualité des descriptions. \n",
    "On va donc essayer d'enlever ces « stopwords », via la méthode vue en cours. "
   ]
  },
  {
   "cell_type": "code",
   "execution_count": null,
   "id": "a1e988d8",
   "metadata": {},
   "outputs": [],
   "source": [
    "\n",
    "nltk.download('stopwords')\n",
    "stop_words = set(stopwords.words([‘french','english']))\n"
   ]
  },
  {
   "cell_type": "code",
   "execution_count": null,
   "id": "876774da",
   "metadata": {},
   "outputs": [],
   "source": [
    "# On ajoute des stop words à la liste initiale, qui était mal configurée \n",
    "\n",
    "new_stopwords = ['1', 'one', '2', 'two', 'deux', '3','4','5', '10', '-', ':', ',', 'tout', '!', '.', \"d'un\", 'rue', 'pied', 'min', 'also', 'Paris', 'paris', 'paris.','paris,', 'parisian', 'place', 'flat', 'floor', 'room', 'bed', 'lit', 'chambre', 'situé', 'logement', 'salle', 'appartement', \"l'appartement\", 'apartment', 'minutes', 'métro', 'metro', 'studio','kitchen']\n",
    "new_stopwords_list = stop_words.union(new_stopwords)\n",
    "\n",
    "print(new_stopwords_list)\n"
   ]
  },
  {
   "cell_type": "code",
   "execution_count": null,
   "id": "6db659e4",
   "metadata": {},
   "outputs": [],
   "source": [
    "\n",
    "mots_listing = [word for word in full_reviews if word not in new_stopwords_list]\n",
    "nb_mots_listing = collections.Counter(mots_listing)\n",
    "nb_mots_listing_df = pd.DataFrame(nb_mots_listing.most_common(33),\n",
    "                             columns=['words', ‘count'])"
   ]
  },
  {
   "cell_type": "code",
   "execution_count": null,
   "id": "1f3f20d1",
   "metadata": {},
   "outputs": [],
   "source": [
    "fig, ax = plt.subplots(figsize=(10, 10))\n",
    "\n",
    "nb_mots_listing_df.sort_values(by='count').plot.barh(x='words',\n",
    "                      y='count',\n",
    "                      ax=ax,\n",
    "                      color=\"blue\")\n",
    "\n",
    "ax.set_title(\"Mots les plus fréquents\")\n",
    "\n",
    "plt.show()\n"
   ]
  },
  {
   "cell_type": "code",
   "execution_count": null,
   "id": "228bb374",
   "metadata": {},
   "outputs": [],
   "source": [
    "# Pour essayer de faire un nuage de mots \n",
    "\n",
    "\n",
    "conda install -c conda-forge wordcloud\n",
    "\n",
    "."
   ]
  }
 ],
 "metadata": {
  "kernelspec": {
   "display_name": "Python 3 (ipykernel)",
   "language": "python",
   "name": "python3"
  },
  "language_info": {
   "codemirror_mode": {
    "name": "ipython",
    "version": 3
   },
   "file_extension": ".py",
   "mimetype": "text/x-python",
   "name": "python",
   "nbconvert_exporter": "python",
   "pygments_lexer": "ipython3",
   "version": "3.9.13"
  }
 },
 "nbformat": 4,
 "nbformat_minor": 5
}
